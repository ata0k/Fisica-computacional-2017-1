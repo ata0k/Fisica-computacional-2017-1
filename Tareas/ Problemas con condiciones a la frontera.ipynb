{
 "cells": [
  {
   "cell_type": "markdown",
   "metadata": {
    "collapsed": true
   },
   "source": [
    "# Método por adivinazas o \"disparos\". \n",
    "\n",
    "La forma más fácil de tratar de encontrar una solución a un problema de condiciones a la frontera, es utilizando adivinanzas. Sin embargo, hay que tomar en cuenta que este metodo se vuelve muy ineficiente en generalizaciones a dimensiones mayores y además las soluciones pueden ser muy inestables en muchos casos. En particular, en sistemas no lineales no es un método recomendable. Sin embargo, lo podremos aquí, por cuestiones pedagógicas. \n",
    "\n",
    "Supongamos que queremos resolver la ecuación: \n",
    "\n",
    "\\begin{equation} \n",
    "    u''(x) = p(x) u'(x) + q(x) u(x) + r(x),\n",
    "\\end{equation}\n",
    "y tenemos las condiciones a la frontera $u(x_0) = \\alpha$ y $u(x_{N+1}) = \\beta$. A diferencia de las ecuaciones de evolución, donde se daban las condiciones iniciales ahora, en vez de tener $u'(x_0) = v_0$, tenemos la condición a la frontera $u(x_{N+1}) = \\beta$, donde $N$ es el número de puntos sobre los cuales tendremos una solución. \n",
    "\n",
    "Ahora supongamos que obtenemos las soluciones para las ecuaciones: \n",
    "\\begin{equation} \n",
    "    u''(x) = p(x) u'(x) + q(x) u(x) + r(x),\n",
    "\\end{equation}\n",
    "\n",
    "\\begin{equation} \n",
    "    u''(x) = p(x) u'(x) + q(x) u(x),\n",
    "\\end{equation}\n",
    "\n",
    "condiciones iniciales $u(x_0) = \\alpha$, $u'(x_0) = 0$ y $u(x_0) = 0$ $u'(x_0) = 1$, $u_1(x)$ y $u_2(x)$ respectivamente. Entonces, podemos verificar facilmente que la solución $u(x) = u_1(x)+ \\frac{\\beta - u_1(b)}{u_2(b)}u_2(x)$ será una solución para las condiciones de frontera dadas. \n",
    "\n",
    "El método del disparo consiste entonces en encontrar ambas soluciones a las condiciones iniciales y con ello obtener la solución a las condiciones de frontera. \n",
    "\n",
    "[1] Utiliza esto para hacer una función que utilice el método de disparo. "
   ]
  },
  {
   "cell_type": "code",
   "execution_count": 1,
   "metadata": {
    "collapsed": false
   },
   "outputs": [
    {
     "data": {
      "text/plain": [
       "RK4v (generic function with 1 method)"
      ]
     },
     "execution_count": 1,
     "metadata": {},
     "output_type": "execute_result"
    }
   ],
   "source": [
    "using PyPlot\n",
    "include(\"Metodos2.jl\")"
   ]
  },
  {
   "cell_type": "code",
   "execution_count": 2,
   "metadata": {
    "collapsed": false
   },
   "outputs": [
    {
     "data": {
      "text/plain": [
       "Disparo (generic function with 1 method)"
      ]
     },
     "execution_count": 2,
     "metadata": {},
     "output_type": "execute_result"
    }
   ],
   "source": [
    "function Disparo(p::Function, q::Function, r::Function, α, β, x0, xN1, N)\n",
    "    f1(x,t) = p(t)*x[1]+q(t)*x[2]+r(t)\n",
    "    f2(x,t) = x[1]\n",
    "    f3(x,t) = p(t)*x[1]+q(t)*x[2]\n",
    "    α1 = [0, α]\n",
    "    α2 = [1, 0]\n",
    "    T, M1 = RK4v(x0,xN1,N,α1,f1,f2)\n",
    "    T, M2 = RK4v(x0,xN1,N,α2,f3,f2)\n",
    "    M = M1 + (β-M1[end,2])/(M2[end,2]) *M2\n",
    "   \n",
    "    return T, M\n",
    "end "
   ]
  },
  {
   "cell_type": "markdown",
   "metadata": {},
   "source": [
    "Como ejemplo resolveremos la ecuación de tiro parabolico con condiciones a la frontera. "
   ]
  },
  {
   "cell_type": "code",
   "execution_count": 3,
   "metadata": {
    "collapsed": false
   },
   "outputs": [
    {
     "data": {
      "image/png": "[encoded data removed]",
      "text/plain": [
       "PyPlot.Figure(PyObject <matplotlib.figure.Figure object at 0x7feb48abae50>)"
      ]
     },
     "metadata": {},
     "output_type": "display_data"
    },
    {
     "name": "stdout",
     "output_type": "stream",
     "text": [
      "2\n",
      "2\n"
     ]
    },
    {
     "data": {
      "text/plain": [
       "1-element Array{Any,1}:\n",
       " PyObject <matplotlib.lines.Line2D object at 0x7feb489e5c50>"
      ]
     },
     "execution_count": 3,
     "metadata": {},
     "output_type": "execute_result"
    }
   ],
   "source": [
    "α= 1\n",
    "β = 10\n",
    "x0= 0\n",
    "xN1 = 2\n",
    "N = 1000\n",
    "p(x) = 0\n",
    "q(x) = 0\n",
    "r(x) = -9.81\n",
    "T, M=Disparo(p, q, r, α, β, x0, xN1, N);\n",
    "plot(T,M[:,2], color=\"red\")\n"
   ]
  },
  {
   "cell_type": "markdown",
   "metadata": {},
   "source": [
    "# Método de diferencias finitas\n",
    "\n",
    "Como ya mencionamos antes, el método de disparo es problemático frecuentemente y además es complicado generalizarlo. Por ello se desarrolló el método de diferencias finitas, que usa las ideas del método de Euler y las técnicas de álgebra matricial. \n",
    "\n",
    "Comencemos por analizar el mismo problema de la ecuación: \n",
    "\n",
    "\\begin{equation} \n",
    "    u''(x) = p(x) u'(x) + q(x) u(x) + r(x).\n",
    "\\end{equation}\n",
    "\n",
    "Recordemos además que haciendo un desarrollo de Tylor podemos obtener la aproximación \n",
    "\n",
    "\\begin{equation} \n",
    "    u''(x_i) = \\frac{u(x_{i+1})-2 u(x_i)+ u(x_{i-1})}{h^2} - O(h^2), \n",
    "\\end{equation}\n",
    " y\n",
    " \n",
    " \\begin{equation} \n",
    "    u'(x_i) = \\frac{u(x_{i+1})- u(x_{i-1})}{2h} - O(h^2)\n",
    "\\end{equation}\n",
    "\n",
    "Entonces, re-escribiendo la ecuación diferencial y cambiando $u(x_i)$ por $w_i$ para compactar la escritura, tenemos la ecuación: \n",
    "\n",
    " \\begin{equation} \n",
    "    -\\left( 1+\\frac{h}{2} p(x_i) \\right) w_{i-1} + (2+ h^2 q(x_i)) w_i - \\left( 1+\\frac{h}{2} p(x_i) \\right) w_{i+1} = - h^2 r(x_i), \n",
    "\\end{equation}\n",
    "\n",
    "lo cual da un sistema de ecuaciones lineales, que se puede expresar en forma matricial como: \n",
    "\n",
    " \\begin{equation} \n",
    "A \\cdot \\vec{w} = \\vec{b} \n",
    "\\end{equation}\n",
    "\n",
    "donde \n",
    "\n",
    "\n",
    "$A=\\left[\\begin{array}{ccccc}\n",
    "2+h^{2}q(x_{1}) & -1+\\frac{h}{2}p(x_{1}) & 0 & \\cdots & 0\\\\\n",
    "-1-\\frac{h}{2}p(x_{2}) & 2+h^{2}q(x_{2}) & -1+\\frac{h}{2}p(x_{2}) & \\ddots & \\vdots\\\\\n",
    "0 & \\ddots & \\ddots & \\ddots & 0\\\\\n",
    "\\vdots & \\ddots & \\ddots & \\ddots & -1+\\frac{h}{2}p(x_{N-1})\\\\\n",
    "0 & \\cdots & 0 & -1-\\frac{h}{2}p(x_{N}) & 2+h^{2}q(x_{N})\n",
    "\\end{array}\\right]$\n",
    "\n",
    "$\\vec{b}=\\left[\\begin{array}{c}\n",
    "- h^2 r(x_1) + \\left( 1+ \\frac{h}{2} p(x_1) \\right) w_0\\\\\n",
    "- h^2 r(x_2)\\\\\n",
    "\\vdots\\\\\n",
    "- h^2 r(x_{N-1})\\\\\n",
    "- h^2 r(x_{N} \\left( 1- \\frac{h}{2} p(x_N) \\right) w_{N+1})\n",
    "\\end{array}\\right]$, \n",
    "\n",
    "\n",
    "$\\vec{w}=\\left[\\begin{array}{c}\n",
    "w_{1}\\\\\n",
    "w2\\\\\n",
    "\\vdots\\\\\n",
    "w_{N-1}\\\\\n",
    "w_{N}\n",
    "\\end{array}\\right]$, \n",
    "\n",
    "\n",
    "Resolviendo este sistema de ecuaciones lineales, obtenemos la solución a nuestra ecuación diferencial. \n",
    "\n",
    "[2] Utiliza esto para hacer una función que  resuelva una ecuación diferencial con condiciones a la frontera fijas usando el método de diferencias finitas. \n"
   ]
  },
  {
   "cell_type": "code",
   "execution_count": 4,
   "metadata": {
    "collapsed": false
   },
   "outputs": [
    {
     "data": {
      "text/plain": [
       "Diffinitas (generic function with 1 method)"
      ]
     },
     "execution_count": 4,
     "metadata": {},
     "output_type": "execute_result"
    }
   ],
   "source": [
    "function Diffinitas(p::Function, q::Function, r::Function, α, β, a, b, N)\n",
    "    h = (b-a)/(N+1)\n",
    "    x = a+h\n",
    "    A = zeros(N,N)\n",
    "    b = zeros(N)\n",
    "    A[1,1] = 2 +h^2 *q(x)\n",
    "    A[1,2] = -1 + h/2 *p(x)\n",
    "    b[1] = -h^2 *r(x) + (1+ h/2 * p(x))*α \n",
    "    \n",
    "    for i in 2:N-1\n",
    "        x = a+h*i\n",
    "        A[i,i-1] = -1 - h/2 *p(x) \n",
    "        A[i,i] = 2 +h^2 *q(x)\n",
    "        A[i,i+1] = -1 + h/2 *p(x)\n",
    "        b[i] = -h^2 * r(x)\n",
    "    end\n",
    "    b[N] = -h^2 *r(x) + (1- h/2 * p(x))*β\n",
    "    A[N,N] = 2 +h^2 *q(x)\n",
    "    A[N,N-1] = -1 - h/2 *p(x)\n",
    "    A1 = inv(A)\n",
    "    b1 = A1*b\n",
    "    w = [α]\n",
    "    append!(w, b1)\n",
    "    push!(w, β)\n",
    "    return [a+h*i for i in 0:N+1], w\n",
    "end"
   ]
  },
  {
   "cell_type": "code",
   "execution_count": 6,
   "metadata": {
    "collapsed": false
   },
   "outputs": [
    {
     "data": {
      "image/png": "[encoded data removed]",
      "text/plain": [
       "PyPlot.Figure(PyObject <matplotlib.figure.Figure object at 0x7feb47106610>)"
      ]
     },
     "metadata": {},
     "output_type": "display_data"
    },
    {
     "name": "stdout",
     "output_type": "stream",
     "text": [
      "2\n",
      "2\n"
     ]
    },
    {
     "data": {
      "text/plain": [
       "1-element Array{Any,1}:\n",
       " PyObject <matplotlib.lines.Line2D object at 0x7feb46ffcf90>"
      ]
     },
     "execution_count": 6,
     "metadata": {},
     "output_type": "execute_result"
    }
   ],
   "source": [
    "α= 1.\n",
    "β = 10\n",
    "x0= 0\n",
    "xN1 = 2\n",
    "N = 100\n",
    "p(x) = 0\n",
    "q(x) = 0\n",
    "r(x) = -9.81\n",
    "T, M=Diffinitas(p, q, r, α, β, x0, xN1, N);\n",
    "plot(T,M, color=\"red\")\n",
    "T, M=Disparo(p, q, r, α, β, x0, xN1, 10);\n",
    "plot(T,M[:,2], color=\"green\")\n",
    "\n"
   ]
  },
  {
   "cell_type": "markdown",
   "metadata": {},
   "source": [
    "Qué sucede ahora si lo que tenemos es una ecuación diferencial un poco más complicada, digamos \n",
    "\\begin{equation} \n",
    "    u''(x) = f(u', u, x),\n",
    "\\end{equation}\n",
    "donde $f(u', u, x)$ es cualquier función de $u'$, $u$ y $x$. ¿Cómo podríamos resolver esta ecuación? El problema esta vez es que el sistema de ecuaciones que obtendremos no será un sistema lineal, por lo que no podremos aplicar simplemente el álgebra de matrices. Sin embargo, podemos utilizar el método de Newton para resolver el sistema de ecuaciones no lineales en varias dimensiones. \n",
    "\n",
    "Lo primero que necesitamos entonces, es un Método de Newton que resuelva sistemas de ecuaciones no lineales. \n",
    "\n",
    "[3] Generaliza aún más el método de Newton de lo que está en el archivo \"Metodos2.jl\", para que resuelva sistemas de ecuaciones no lineales. \n",
    "\n",
    "[4] Utiliza el método de Newton para hacer una función que resuelva una ecuación diferencial no lineal por el método de diferencias finitas. \n",
    "\n",
    "[5]Generaliza el método a un sistema de $n$ ecuaciones diferenciales.\n"
   ]
  },
  {
   "cell_type": "code",
   "execution_count": 26,
   "metadata": {
    "collapsed": false
   },
   "outputs": [
    {
     "data": {
      "text/plain": [
       "NewtonSistemas (generic function with 2 methods)"
      ]
     },
     "execution_count": 26,
     "metadata": {},
     "output_type": "execute_result"
    }
   ],
   "source": [
    "function Jacobiano2(F,x0, h=1e-2)\n",
    "    m = length(x0)  \n",
    "    n = length(F) \n",
    "    df = zeros(n) \n",
    "    J = Float64[] \n",
    "    for i in 1:m\n",
    "        for j = 1:n\n",
    "            df = deriva_vec(F[j],x0,i,h) \n",
    "            push!(J,df) \n",
    "        end\n",
    "    end\n",
    "    return reshape(J,n,m) \n",
    "end \n",
    "function NewtonSistemas(F, x0; δ=0.00001, h=0.01)\n",
    "    k = 1\n",
    "    n = length(F)\n",
    "    m = length(x0)\n",
    "    while k<=10000\n",
    "        FF = []\n",
    "        for i in 1:n\n",
    "            push!(FF, F[i](x0))\n",
    "        end\n",
    "        J = Jacobiano2(F,x0)\n",
    "        J2 =  inv(J)\n",
    "        Y = -J2*FF\n",
    "        x0 = x0+Y\n",
    "        if norm(Y)<δ\n",
    "            return x0\n",
    "        end\n",
    "        k +=1\n",
    "    end\n",
    "    println(\"numero maximo de iteraciones excedido\")\n",
    "end\n",
    "    "
   ]
  },
  {
   "cell_type": "code",
   "execution_count": 36,
   "metadata": {
    "collapsed": false
   },
   "outputs": [
    {
     "data": {
      "text/plain": [
       "(1.1102230246251565e-16,0.0)"
      ]
     },
     "execution_count": 36,
     "metadata": {},
     "output_type": "execute_result"
    }
   ],
   "source": [
    "f(x) = x[1]+2x[2]^2\n",
    "g(x) = 3x[1]^3+x[2]\n",
    "F = [f,g]\n",
    "X = NewtonSistemas(F, [20,3])\n",
    "f(X), g(X)"
   ]
  }
 ],
 "metadata": {
  "kernelspec": {
   "display_name": "Julia 0.4.6",
   "language": "julia",
   "name": "julia-0.4"
  },
  "language_info": {
   "file_extension": ".jl",
   "mimetype": "application/julia",
   "name": "julia",
   "version": "0.4.6"
  }
 },
 "nbformat": 4,
 "nbformat_minor": 0
}
