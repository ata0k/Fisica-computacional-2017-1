{
 "cells": [
  {
   "cell_type": "markdown",
   "metadata": {},
   "source": [
    "Esta última tarea se trata de usar todo lo que hemos aprendido en el curso para resolver problemas físicos, por lo que los problemas esta vez no tendrán un orden real. Sólo tendrás que resolver uno de los problemas por tema y el problema final!! (para que puedan decir que el curso sí está fácil!)...\n",
    "\n",
    "## Problema de mecánica clásica: \n",
    "\n",
    "[i] Escribe las ecuaciones de movimiento un péndulo doble. \n",
    "\n",
    "[ii] Resuelve para obtener las posiciones de las masas (ambas masas iguales) como función del tiempo. \n",
    "\n",
    "[iii] Has pruevas para diferentes proporciones de largos de los péndulos. ¿Para qué proporción el sistema se ve \"menos caótico\"? (mide el exponente de Lyapunov si es necesario). \n"
   ]
  },
  {
   "cell_type": "markdown",
   "metadata": {},
   "source": [
    "## Problema de electromagnetismo: \n",
    "\n",
    "[i] Haz una función que resuelva el circuito de la imagen para cuales quiera valores dados de R, L C1 y C2 y el voltaje. \n",
    "\n",
    "[ii] Haz una función que resuelva n1xn2 circuitos RLC conectados entre sí por mallas en un arreglo rectangular de n1xn2. \n"
   ]
  },
  {
   "cell_type": "markdown",
   "metadata": {},
   "source": [
    "## Problema de mecánica cuántica: \n",
    "\n",
    "En este problema resolverás la ecuación de Schödinger usando el algorithmo de Numerov para un potencial arbitrario. \n",
    "\n",
    "[i] Escribe la ecuación de Schödinger en una dimensión para un potencial arbitrario en la forma: $\\frac{d^2 y}{dx^2} = - g(x) y(x) + s(x) $\n",
    "\n",
    "[ii] El método de Numerov implica que esta ecuación tiene las 3 soluciones $y_{n-1}, y_n, y_{n+1} $ tomando 3 puntos equidistantes $ x_{n-1}, x_n, x_{n+1} $ que están relacionados como sigue: \n",
    "\n",
    "$y_{n+1} \\left(1 + \\frac{h^2}{12} g_{n+1} \\right) = 2 y_n \\left(1 - \\frac{5 h^2}{12} g_n \\right) - y_{n-1} \\left(1 + \\frac{h^2}{12} g_{n-1} \\right) + \\frac{h^2}{12} (s_{n+1} + 10 s_n + s_{n-1}) + \\mathcal{O} (h^6) $\n",
    "\n",
    "Utiliza esto para hacer un algoritmo que resuelva tu ecuación. \n",
    "\n",
    "[ii] Resuelve la ecuación de Schödingar para un potencial harmónico y comprueba que tu solución coincide con la solución analítica. \n"
   ]
  },
  {
   "cell_type": "markdown",
   "metadata": {},
   "source": [
    "## Problema de física estadística: \n",
    "\n",
    "[i] Haz una malla triangular de nxn. La altura no será lo mismo que el largo. \n",
    "\n",
    "[ii] Resuelve el modelo de Ising para campo magnético uniforme, pero los enlaces tienen un valor diferente dependiendo de qué vecino se trate el enlace formado será $ cos(\\theta)-sin(\\theta)$. Donde $\\theta$ es el ángulo formado entre los vértices y el eje x. \n",
    "\n",
    "\n",
    "\n"
   ]
  },
  {
   "cell_type": "markdown",
   "metadata": {},
   "source": [
    "## Problema final: \n",
    "\n",
    "En este punto del curso ya debes tener muy buena idea de qué clase de cosas te llaman más la atención a resolver dentro de la física computacional. \n",
    "\n",
    "El problema final de este curso debería entonces ser trivial para ti. \n",
    "\n",
    "No requerrirá hacer NADA de talacha, pero sí requiere que te tomes algo de tiempo pensando y también investigando. \n",
    "\n",
    "Para evitar que simplemente vayas al final y veas qué es este problema final, no pondré corchetes para anunciarlo. Estará en medio del texto. Leelo con atención. \n",
    "\n",
    "En principio ya sabes obtener derivadas, gradientes, integrales, y cualquier operador de cálculo de forma numérica e incluso (usando SymPy) de forma analítica-computacional. Aprendiste a hacer interpolación y con la paquetería LsqFit aprendiste a hacer extrapolación a cualquier función. Sabes también resolver sistemas de ecuaciones lineales. También sabes resolver sistemas de ecuaciones no lineales mediante el método de Newton y el del valor intermedio (a veces es mejor el del valor intermedio, pero casi siempre es mejor el de Newton). Sabes resolver ecuaciones diferenciales de primer orden y de orden superior. Sabes resolver sistemas de ecuaciones diferenciales y aprendiste un poco de ecuaciones diferenciales parciales con condiciones de Dirichlet a la frontera. También aprendiste qué significan condiciones periódicas a la frontera. Aprendiste a resolver problemas de física estadística con el método de Monte-Carlo, tanto a integrar funciones, como a resolver sistemas de muchas partículas con el algoritmo de Metrópolis. Aprendiste un poco de dinámica molecular y quizá también aprendiste dinámica Browniana si es que hiciste la práctica. Por último, aprendiste algo de análisis de sistemas caóticos. Sin embargo, hay aún un sin fin de métodos más que podrías aprender. Por ejemplo, sobre ecuaciones diferenciales, no vimos cómo resolver ecuaciones diferenciales por medio de diferencias finitas, tampoco vimos algoritmos de Monte-Carlo más complejos como el de Wang-Landau, y nos faltó mucho sobre solución a problemas cuánticos (Método de Numerov, por ejemplo). Ahora, como último problema tienes que decir qué proyecto final harás. Este puede ser desarrollár algo de lo que no vimos y resolver algún problema con ello, o resolver un problema complejo con los algoritmos que vimos. Así que a pensar, investigar y preguntar al profesor sobre la viabilidad del proyecto. "
   ]
  }
 ],
 "metadata": {
  "kernelspec": {
   "display_name": "Julia 0.4.5",
   "language": "julia",
   "name": "julia-0.4"
  },
  "language_info": {
   "file_extension": ".jl",
   "mimetype": "application/julia",
   "name": "julia",
   "version": "0.4.5"
  }
 },
 "nbformat": 4,
 "nbformat_minor": 0
}
