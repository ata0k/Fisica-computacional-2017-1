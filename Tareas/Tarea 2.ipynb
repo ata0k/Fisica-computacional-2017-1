{
 "cells": [
  {
   "cell_type": "markdown",
   "metadata": {},
   "source": [
    "# Repetición"
   ]
  },
  {
   "cell_type": "markdown",
   "metadata": {},
   "source": [
    "Muy seguido, es necesario poder repetir un cálculo muchas veces, cambiando lo que se calcula de una forma determinada. Esto suele hacerse con *bucles* / *ciclos* / *loops*. En Julia, muchos cálculos de este estilo se pueden escribir de una forma más breve."
   ]
  },
  {
   "cell_type": "markdown",
   "metadata": {},
   "source": [
    "## Rangos"
   ]
  },
  {
   "cell_type": "markdown",
   "metadata": {},
   "source": [
    "Un rango se escribe con dos puntos, `:`, y genera un tipo de objeto especial que genera todos los números entre su principio y fin:"
   ]
  },
  {
   "cell_type": "code",
   "execution_count": 1,
   "metadata": {
    "collapsed": false
   },
   "outputs": [
    {
     "data": {
      "text/plain": [
       "1:10"
      ]
     },
     "execution_count": 1,
     "metadata": {},
     "output_type": "execute_result"
    }
   ],
   "source": [
    "1:10"
   ]
  },
  {
   "cell_type": "markdown",
   "metadata": {},
   "source": [
    "[1] ¿Qué tipo tiene este objeto?\n"
   ]
  },
  {
   "cell_type": "markdown",
   "metadata": {},
   "source": [
    "Los números que producirá se pueden ver al incluir el rango en corchetes, `[` y `]`:"
   ]
  },
  {
   "cell_type": "code",
   "execution_count": 2,
   "metadata": {
    "collapsed": false
   },
   "outputs": [
    {
     "name": "stderr",
     "output_type": "stream",
     "text": [
      "WARNING: [a] concatenation is deprecated; use collect(a) instead\n",
      " in depwarn at deprecated.jl:73\n",
      " in oldstyle_vcat_warning at ./abstractarray.jl:29\n",
      " in vect at abstractarray.jl:32\n",
      " in include_string at loading.jl:282\n",
      " in execute_request_0x535c5df2 at /opt/julia_packages/.julia/v0.4/IJulia/src/execute_request.jl:183\n",
      " in eventloop at /opt/julia_packages/.julia/v0.4/IJulia/src/IJulia.jl:143\n",
      " in anonymous at task.jl:447\n",
      "while loading In[2], in expression starting on line 1\n"
     ]
    },
    {
     "data": {
      "text/plain": [
       "10-element Array{Int64,1}:\n",
       "  1\n",
       "  2\n",
       "  3\n",
       "  4\n",
       "  5\n",
       "  6\n",
       "  7\n",
       "  8\n",
       "  9\n",
       " 10"
      ]
     },
     "execution_count": 2,
     "metadata": {},
     "output_type": "execute_result"
    }
   ],
   "source": [
    "[1:10]"
   ]
  },
  {
   "cell_type": "markdown",
   "metadata": {},
   "source": [
    "[2] ¿De qué tipo es este nuevo objeto?\n",
    "\n",
    "[3] Se puede incluir un tamaño de paso como un tercer \"argumento\". Encuentra la sintaxis."
   ]
  },
  {
   "cell_type": "markdown",
   "metadata": {},
   "source": [
    "Hay ciertas funciones que aceptan rangos como argumentos, incluyendo `sum` y `prod` para sumas y productos.\n",
    "\n",
    "[4] Calcula la suma de los primeros 100 enteros.\n",
    "\n",
    "[5] ¿Puedes calcular el producto de los primeros 100 enteros de esta manera?"
   ]
  },
  {
   "cell_type": "markdown",
   "metadata": {},
   "source": [
    "## Arreglos por comprensión"
   ]
  },
  {
   "cell_type": "markdown",
   "metadata": {},
   "source": [
    "Julia tiene una sintaxis muy poderosa para operar fácilmente sobre una secuencia de números para dar otro: *arreglos por comprensión*. \n",
    "\n",
    "Podemos pensar en un arreglo como una lista, o secuencia, o conjunto de datos.\n",
    "\n",
    "En matemáticas, hay una notación muy bonita para especifar, por ejemplo, el conjunto de los cuadrados de los primeros diez enteros:\n",
    "\n",
    "$$\\{ x^2 : x \\in \\{1, \\ldots, 10 \\} \\}$$\n",
    "\n",
    "Podemos hacer algo muy similar en Julia:"
   ]
  },
  {
   "cell_type": "code",
   "execution_count": 8,
   "metadata": {
    "collapsed": false
   },
   "outputs": [
    {
     "data": {
      "text/plain": [
       "10-element Array{Int64,1}:\n",
       "   1\n",
       "   4\n",
       "   9\n",
       "  16\n",
       "  25\n",
       "  36\n",
       "  49\n",
       "  64\n",
       "  81\n",
       " 100"
      ]
     },
     "execution_count": 8,
     "metadata": {},
     "output_type": "execute_result"
    }
   ],
   "source": [
    "[x^2 for x in 1:10]"
   ]
  },
  {
   "cell_type": "markdown",
   "metadata": {},
   "source": [
    "Podemos leer esto como \"la lista de $x^2$ *para* ('for') $x$ de 1 hasta 10\", o \"la lista de los cuadrados de los números de 1 a 10$.\n",
    "\n",
    "[6] Utiliza la función `sum` para calcular la suma de estos cuadrados.\n",
    "\n",
    "[7] Haz una función `my_exp` que calcula el exponencial usando estas ideas."
   ]
  },
  {
   "cell_type": "code",
   "execution_count": null,
   "metadata": {
    "collapsed": true
   },
   "outputs": [],
   "source": []
  },
  {
   "cell_type": "markdown",
   "metadata": {},
   "source": [
    "# Arreglos"
   ]
  },
  {
   "cell_type": "markdown",
   "metadata": {},
   "source": [
    "Nosotros también podemos crear arreglos de forma directa: ponemos los elementos dentro de corchetes:"
   ]
  },
  {
   "cell_type": "code",
   "execution_count": 11,
   "metadata": {
    "collapsed": false
   },
   "outputs": [
    {
     "data": {
      "text/plain": [
       "3-element Array{Int64,1}:\n",
       " 3\n",
       " 4\n",
       " 1"
      ]
     },
     "execution_count": 11,
     "metadata": {},
     "output_type": "execute_result"
    }
   ],
   "source": [
    "arreglo1 = [3; 4; 1]"
   ]
  },
  {
   "cell_type": "markdown",
   "metadata": {},
   "source": [
    "\n",
    "[8] ¿Qué pasa con el tipo si defines un nuevo arreglo con elementos que son decimales? "
   ]
  },
  {
   "cell_type": "markdown",
   "metadata": {},
   "source": [
    "Ahora podemos operar sobre los elementos del arreglo de la misma forma que con rangos:"
   ]
  },
  {
   "cell_type": "code",
   "execution_count": 18,
   "metadata": {
    "collapsed": false
   },
   "outputs": [
    {
     "data": {
      "text/plain": [
       "3-element Array{Any,1}:\n",
       "  9\n",
       " 16\n",
       " 49"
      ]
     },
     "execution_count": 18,
     "metadata": {},
     "output_type": "execute_result"
    }
   ],
   "source": [
    "cuadrados = [x^2 for x in arreglo1]"
   ]
  },
  {
   "cell_type": "markdown",
   "metadata": {},
   "source": [
    "# Vectores"
   ]
  },
  {
   "cell_type": "markdown",
   "metadata": {},
   "source": [
    "Los arreglos se pueden considerar simplemente como secuencias de números, es decir, un tipo de *contenedor* que contienen datos.\n",
    "\n",
    "Sin embargo, en la física, usamos colecciones de números con otra meta: *representar* a las componentes de vectores matemáticos.\n",
    "\n",
    "Resulta que en Julia, podemos utilizar arreglos ¡también para este fin!\n",
    "\n",
    "[1] Define dos vectores `v` y `w` con tres componentes cada quien. \n",
    "\n",
    "[2] Intenta calcular dos veces `v`,  y la suma de `v` y `w`. ¿Funciona como esperarías?\n",
    "\n",
    "[3] Adivina cómo se llaman las funciones de producto punto y cruz, y verifica que funcionan.\n",
    "\n",
    "[4] Estas funciones también se pueden escribir con `\\cdot` y `\\times`,  respectivamente. Inténtalo.\n",
    "\n",
    "[5] ¿Qué pasa si intentas multiplicar `v` y `w`? ¿Por qué?\n"
   ]
  },
  {
   "cell_type": "markdown",
   "metadata": {},
   "source": [
    "# Operaciones sobre vectores"
   ]
  },
  {
   "cell_type": "markdown",
   "metadata": {},
   "source": [
    "Hay muchas operaciones que por conveniencia ya están definidas para que operen sobre vectores. Normalmente las operaciones son *componente por componente*.\n",
    "\n",
    "Las operaciones aritméticas que funcionen elemento de elemento, aparte de `+` y `-` y multiplicación por un escalar, se escriben con un `.` antes de la operación. Por ejemplo, podemos dividir dos vectores elemento por elemento así:"
   ]
  },
  {
   "cell_type": "code",
   "execution_count": 1,
   "metadata": {
    "collapsed": false
   },
   "outputs": [
    {
     "data": {
      "text/plain": [
       "3-element Array{Int64,1}:\n",
       " 6\n",
       " 7\n",
       " 8"
      ]
     },
     "execution_count": 1,
     "metadata": {},
     "output_type": "execute_result"
    }
   ],
   "source": [
    "v = [3;4;5]\n",
    "w = [6;7;8]"
   ]
  },
  {
   "cell_type": "markdown",
   "metadata": {},
   "source": [
    "[1] Define una función `producto_punto` que hace tu propio producto punto de dos vectores. "
   ]
  },
  {
   "cell_type": "markdown",
   "metadata": {},
   "source": [
    "Ademas, una lista puede tener, entre sus elementos, otras listas. Si cada elemento de una lista es otra lista, del mismo tipo (horizontal/vertical), entonces, la lista sera simplemente un gran lista del mismo tipo. Por ejemplo:"
   ]
  },
  {
   "cell_type": "code",
   "execution_count": 2,
   "metadata": {
    "collapsed": false
   },
   "outputs": [
    {
     "data": {
      "text/plain": [
       "6-element Array{Float64,1}:\n",
       " 1.0\n",
       " 2.0\n",
       " 3.0\n",
       " 5.0\n",
       " 6.0\n",
       " 7.0"
      ]
     },
     "execution_count": 2,
     "metadata": {},
     "output_type": "execute_result"
    }
   ],
   "source": [
    "a=[[1.; 2.; 3.];[5; 6; 7]]"
   ]
  },
  {
   "cell_type": "markdown",
   "metadata": {},
   "source": [
    "Una matriz es un arreglo de listas (o vectores), todas ellas del mismo tamanio, pero todas ellas del tipo  opuesto al arreglo global (vertical/horizontal). Por ejemplo:"
   ]
  },
  {
   "cell_type": "code",
   "execution_count": 3,
   "metadata": {
    "collapsed": false
   },
   "outputs": [
    {
     "data": {
      "text/plain": [
       "2x3 Array{Float64,2}:\n",
       " 10.0  8.0  6.0\n",
       "  7.0  8.0  6.0"
      ]
     },
     "execution_count": 3,
     "metadata": {},
     "output_type": "execute_result"
    }
   ],
   "source": [
    "a=[[10. 8. 6.];[7 8 6]]"
   ]
  },
  {
   "cell_type": "code",
   "execution_count": 4,
   "metadata": {
    "collapsed": false
   },
   "outputs": [
    {
     "data": {
      "text/plain": [
       "2x3 Array{Float64,2}:\n",
       " 11.0  9.0  7.0\n",
       "  8.0  9.0  7.0"
      ]
     },
     "execution_count": 4,
     "metadata": {},
     "output_type": "execute_result"
    }
   ],
   "source": [
    "a.+1"
   ]
  },
  {
   "cell_type": "code",
   "execution_count": 5,
   "metadata": {
    "collapsed": false
   },
   "outputs": [
    {
     "data": {
      "text/plain": [
       "2x3 Array{Float64,2}:\n",
       " 100.0  64.0  36.0\n",
       "  49.0  64.0  36.0"
      ]
     },
     "execution_count": 5,
     "metadata": {},
     "output_type": "execute_result"
    }
   ],
   "source": [
    "a.^2"
   ]
  },
  {
   "cell_type": "code",
   "execution_count": 6,
   "metadata": {
    "collapsed": false
   },
   "outputs": [
    {
     "data": {
      "text/plain": [
       "7.5"
      ]
     },
     "execution_count": 6,
     "metadata": {},
     "output_type": "execute_result"
    }
   ],
   "source": [
    "promedio = sum(a)/length(a)"
   ]
  },
  {
   "cell_type": "markdown",
   "metadata": {},
   "source": [
    "Si puedo hacer matrices, puedo resolver sistemas de ecuaciones. Por ejemplo, el sistema: \n",
    "\n",
    "$2x+y+z=3, x+2y+5z=4,x-3y+6z=-2$. Este sistema se puede escribir en forma matricial como: \n",
    "\n",
    "$\\left(\\begin{array}{ccc}\n",
    "2 & 1 & 1\\\\\n",
    "1 & 2 & 5\\\\\n",
    "1 & -3 & 6\\end{array}\\right)\\left(\\begin{array}{c}\n",
    "x\\\\\n",
    "y\\\\\n",
    "z\\end{array}\\right)=\\left(\\begin{array}{c}\n",
    "3\\\\\n",
    "4\\\\\n",
    "-2\\end{array}\\right)$\n",
    "\n",
    "o en notacion simplificada como: \n",
    "\n",
    "$A \\cdot \\vec{x}=\\vec{b}$"
   ]
  },
  {
   "cell_type": "code",
   "execution_count": 7,
   "metadata": {
    "collapsed": false
   },
   "outputs": [
    {
     "data": {
      "text/plain": [
       "3x3 Array{Int64,2}:\n",
       " 2   1  4\n",
       " 1   2  5\n",
       " 1  -3  6"
      ]
     },
     "execution_count": 7,
     "metadata": {},
     "output_type": "execute_result"
    }
   ],
   "source": [
    "A = [[2 ;1 ;1] [ 1; 2; -3] [4; 5; 6]]"
   ]
  },
  {
   "cell_type": "code",
   "execution_count": 8,
   "metadata": {
    "collapsed": false
   },
   "outputs": [
    {
     "data": {
      "text/plain": [
       "3-element Array{Int64,1}:\n",
       "  3\n",
       "  4\n",
       " -2"
      ]
     },
     "execution_count": 8,
     "metadata": {},
     "output_type": "execute_result"
    }
   ],
   "source": [
    "b=[3; 4; -2]"
   ]
  },
  {
   "cell_type": "markdown",
   "metadata": {},
   "source": [
    "En este caso la solucion sera: $\\vec{x}=A^{-1} \\cdot \\vec{b}$"
   ]
  },
  {
   "cell_type": "code",
   "execution_count": 9,
   "metadata": {
    "collapsed": false
   },
   "outputs": [
    {
     "data": {
      "text/plain": [
       "3-element Array{Float64,1}:\n",
       " 0.454545\n",
       " 1.24242 \n",
       " 0.212121"
      ]
     },
     "execution_count": 9,
     "metadata": {},
     "output_type": "execute_result"
    }
   ],
   "source": [
    "x,y,z=inv(A)*b"
   ]
  },
  {
   "cell_type": "code",
   "execution_count": 12,
   "metadata": {
    "collapsed": false
   },
   "outputs": [
    {
     "data": {
      "text/plain": [
       "3-element Array{Float64,1}:\n",
       "  3.0\n",
       "  4.0\n",
       " -2.0"
      ]
     },
     "execution_count": 12,
     "metadata": {},
     "output_type": "execute_result"
    }
   ],
   "source": [
    "A*[x,y,z] #verificando el resultado"
   ]
  },
  {
   "cell_type": "markdown",
   "metadata": {},
   "source": [
    "[1] Ahora un ejemplo más talachudo. Encuentra la solucion al siguiente sistema de ecuaciones\n",
    "\n",
    "$\\left(\\begin{array}{ccccc}\n",
    "1 & 2 & 3 & 4 & -5\\\\\n",
    "-6 & 7 & 8 & 9 & 0\\\\\n",
    "1 & -2 & 3 & 4 & 5\\\\\n",
    "6 & 7 & -8 & 9 & 0\\\\\n",
    "1 & 2 & 3 & -4 & 5\\end{array}\\right)\\left(\\begin{array}{c}\n",
    "x_{1}\\\\\n",
    "x_{2}\\\\\n",
    "x_{3}\\\\\n",
    "x_{4}\\\\\n",
    "x_{5}\\end{array}\\right)=\\left(\\begin{array}{c}\n",
    "1\\\\\n",
    "2\\\\\n",
    "3\\\\\n",
    "4\\\\\n",
    "5\\end{array}\\right)$"
   ]
  },
  {
   "cell_type": "code",
   "execution_count": null,
   "metadata": {
    "collapsed": true
   },
   "outputs": [],
   "source": []
  }
 ],
 "metadata": {
  "kernelspec": {
   "display_name": "Julia 0.4.6",
   "language": "julia",
   "name": "julia-0.4"
  },
  "language_info": {
   "file_extension": ".jl",
   "mimetype": "application/julia",
   "name": "julia",
   "version": "0.4.6"
  }
 },
 "nbformat": 4,
 "nbformat_minor": 0
}
