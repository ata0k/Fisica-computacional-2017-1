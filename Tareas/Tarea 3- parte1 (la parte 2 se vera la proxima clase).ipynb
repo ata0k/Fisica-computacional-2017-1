{
 "cells": [
  {
   "cell_type": "markdown",
   "metadata": {},
   "source": [
    "# Algunos trucos para definir funciones"
   ]
  },
  {
   "cell_type": "markdown",
   "metadata": {},
   "source": [
    "La clase pasada, antes de ***arruinarse todo por la falla de la paqueteria PyPlot***, vimos como crear funciones. El ejercicio, por mucho, más difícil de la clase fue el de crear la función exponencial usando series de Tylor. Hoy comenzaremos la clase con la solución a ese problema de una forma muy general, haciendo funciones cuyos argumentos pueden ser funciones. "
   ]
  },
  {
   "cell_type": "markdown",
   "metadata": {},
   "source": [
    "Lo primero que vamos a hacer, es dar algunos trucos a la hora de definir las funciones en Julia. "
   ]
  },
  {
   "cell_type": "markdown",
   "metadata": {},
   "source": [
    "Por ejemplo, pueden definir algunos valores de la función por default. Por ejemplo: "
   ]
  },
  {
   "cell_type": "code",
   "execution_count": 1,
   "metadata": {
    "collapsed": false
   },
   "outputs": [
    {
     "data": {
      "text/plain": [
       "f (generic function with 2 methods)"
      ]
     },
     "execution_count": 1,
     "metadata": {},
     "output_type": "execute_result"
    }
   ],
   "source": [
    "f(x, y, r=1) = x^2 + y^2 - r^2"
   ]
  },
  {
   "cell_type": "code",
   "execution_count": 2,
   "metadata": {
    "collapsed": false
   },
   "outputs": [
    {
     "data": {
      "text/plain": [
       "4"
      ]
     },
     "execution_count": 2,
     "metadata": {},
     "output_type": "execute_result"
    }
   ],
   "source": [
    "f(1,2)"
   ]
  },
  {
   "cell_type": "code",
   "execution_count": 3,
   "metadata": {
    "collapsed": false
   },
   "outputs": [
    {
     "data": {
      "text/plain": [
       "-4"
      ]
     },
     "execution_count": 3,
     "metadata": {},
     "output_type": "execute_result"
    }
   ],
   "source": [
    "f(1,2,3)"
   ]
  },
  {
   "cell_type": "code",
   "execution_count": 4,
   "metadata": {
    "collapsed": false
   },
   "outputs": [
    {
     "data": {
      "text/plain": [
       "4"
      ]
     },
     "execution_count": 4,
     "metadata": {},
     "output_type": "execute_result"
    }
   ],
   "source": [
    "f(1,2,1)"
   ]
  },
  {
   "cell_type": "markdown",
   "metadata": {},
   "source": [
    "También se pueden poner argumentos que no estén ordenados, sino que se llamen por su nombre, los \"Keyword Arguments\". En este caso, en vez de poner atención en el lugar donde están los argumentos, escribimos su nombre. Por ejemplo f(1,2,r=3,m=5)=f(1,2,m=5,r=3). \n",
    "\n",
    "Para definir esta clase de argumentos, usamos \";\" para separar los argumentos ordenados y los llamados por palabra clave (keyword). Por ejemplo "
   ]
  },
  {
   "cell_type": "code",
   "execution_count": 5,
   "metadata": {
    "collapsed": false
   },
   "outputs": [
    {
     "data": {
      "text/plain": [
       "f (generic function with 2 methods)"
      ]
     },
     "execution_count": 5,
     "metadata": {},
     "output_type": "execute_result"
    }
   ],
   "source": [
    "f(x, y; r=1, m=3) = x^2 + y-r/m"
   ]
  },
  {
   "cell_type": "code",
   "execution_count": 6,
   "metadata": {
    "collapsed": false
   },
   "outputs": [
    {
     "data": {
      "text/plain": [
       "true"
      ]
     },
     "execution_count": 6,
     "metadata": {},
     "output_type": "execute_result"
    }
   ],
   "source": [
    "f(1, 2, m=1, r=2) == f(1, 2, r=2, m=1)"
   ]
  },
  {
   "cell_type": "markdown",
   "metadata": {},
   "source": [
    "Nota que estos casos siempre tienen argumentos por default para los que son llamados por palabra clave. "
   ]
  },
  {
   "cell_type": "markdown",
   "metadata": {},
   "source": [
    "Un último truco al definir las funciones, es especificar el tipo de argumento que se admite. Para esto usamos \"::\" después del la variable y seguido de ello, el tipo de argumento admitido. Por ejemplo: "
   ]
  },
  {
   "cell_type": "code",
   "execution_count": 7,
   "metadata": {
    "collapsed": false
   },
   "outputs": [
    {
     "data": {
      "text/plain": [
       "f (generic function with 3 methods)"
      ]
     },
     "execution_count": 7,
     "metadata": {},
     "output_type": "execute_result"
    }
   ],
   "source": [
    "f(x::Int) = x^2"
   ]
  },
  {
   "cell_type": "code",
   "execution_count": 8,
   "metadata": {
    "collapsed": false
   },
   "outputs": [
    {
     "data": {
      "text/plain": [
       "4"
      ]
     },
     "execution_count": 8,
     "metadata": {},
     "output_type": "execute_result"
    }
   ],
   "source": [
    "f(2)"
   ]
  },
  {
   "cell_type": "code",
   "execution_count": 9,
   "metadata": {
    "collapsed": false
   },
   "outputs": [
    {
     "ename": "LoadError",
     "evalue": "LoadError: MethodError: `f` has no method matching f(::Float64)\nClosest candidates are:\n  f(::Any, !Matched::Any)\n  f(::Any, !Matched::Any, !Matched::Any)\nwhile loading In[9], in expression starting on line 1",
     "output_type": "error",
     "traceback": [
      "LoadError: MethodError: `f` has no method matching f(::Float64)\nClosest candidates are:\n  f(::Any, !Matched::Any)\n  f(::Any, !Matched::Any, !Matched::Any)\nwhile loading In[9], in expression starting on line 1",
      ""
     ]
    }
   ],
   "source": [
    "f(2.2)"
   ]
  },
  {
   "cell_type": "markdown",
   "metadata": {},
   "source": [
    "## Función de funciones\n",
    "\n",
    " "
   ]
  },
  {
   "cell_type": "markdown",
   "metadata": {},
   "source": [
    "Comenzaremos por explicar qué es una función anónima. Una función anónima, es una que no tiene nombre. Por ejemplo: "
   ]
  },
  {
   "cell_type": "code",
   "execution_count": 10,
   "metadata": {
    "collapsed": false
   },
   "outputs": [
    {
     "data": {
      "text/plain": [
       "(anonymous function)"
      ]
     },
     "execution_count": 10,
     "metadata": {},
     "output_type": "execute_result"
    }
   ],
   "source": [
    "function (x)\n",
    "    x^2\n",
    "end"
   ]
  },
  {
   "cell_type": "markdown",
   "metadata": {},
   "source": [
    "ó"
   ]
  },
  {
   "cell_type": "code",
   "execution_count": 11,
   "metadata": {
    "collapsed": false
   },
   "outputs": [
    {
     "data": {
      "text/plain": [
       "(anonymous function)"
      ]
     },
     "execution_count": 11,
     "metadata": {},
     "output_type": "execute_result"
    }
   ],
   "source": [
    "x -> x^2"
   ]
  },
  {
   "cell_type": "markdown",
   "metadata": {},
   "source": [
    "Esta clase de funciones, se pueden usar para meter dentro de otras funciones que piden como argumento una función. El ejemplo por excelencia es el mapeo: "
   ]
  },
  {
   "cell_type": "code",
   "execution_count": 12,
   "metadata": {
    "collapsed": false
   },
   "outputs": [
    {
     "data": {
      "text/plain": [
       "3-element Array{Int64,1}:\n",
       " 1\n",
       " 4\n",
       " 9"
      ]
     },
     "execution_count": 12,
     "metadata": {},
     "output_type": "execute_result"
    }
   ],
   "source": [
    "map(x->x^2,[1,2,3])"
   ]
  },
  {
   "cell_type": "markdown",
   "metadata": {},
   "source": [
    "map(round, [1.2,1.4,1.8])"
   ]
  },
  {
   "cell_type": "markdown",
   "metadata": {},
   "source": [
    "map(f,x), simplemente evalua f(x).  "
   ]
  },
  {
   "cell_type": "markdown",
   "metadata": {},
   "source": [
    "Ahora ya tenemos todas las herramientas para hacer una función que use como argumento una función. Simplemente tenemos que especificar que el argumento es una función. Después, para usar la función de funciones, podemos usar funciones anónimas. \n",
    "\n",
    "Así por ejemplo, podemos hacer la función $\\sum_{i \\in X}{f(i)}$ "
   ]
  },
  {
   "cell_type": "code",
   "execution_count": 13,
   "metadata": {
    "collapsed": false
   },
   "outputs": [
    {
     "data": {
      "text/plain": [
       "Σ (generic function with 1 method)"
      ]
     },
     "execution_count": 13,
     "metadata": {},
     "output_type": "execute_result"
    }
   ],
   "source": [
    "Σ(f::Function, X)=sum(f(X))"
   ]
  },
  {
   "cell_type": "markdown",
   "metadata": {},
   "source": [
    "Si ahora queremos sumar el cuadrado de todos los enteros entre m y n, simplemente aplicamos la función $\\sum(x \\rightarrow x^2,n:m)$"
   ]
  },
  {
   "cell_type": "code",
   "execution_count": 14,
   "metadata": {
    "collapsed": false
   },
   "outputs": [
    {
     "data": {
      "text/plain": [
       "385"
      ]
     },
     "execution_count": 14,
     "metadata": {},
     "output_type": "execute_result"
    }
   ],
   "source": [
    "n=1; m=10\n",
    "Σ(x -> x.^2, n:m)"
   ]
  },
  {
   "cell_type": "code",
   "execution_count": 15,
   "metadata": {
    "collapsed": false
   },
   "outputs": [
    {
     "data": {
      "text/plain": [
       "1.4111883712180104"
      ]
     },
     "execution_count": 15,
     "metadata": {},
     "output_type": "execute_result"
    }
   ],
   "source": [
    "Σ(sin, 1:10)"
   ]
  },
  {
   "cell_type": "markdown",
   "metadata": {},
   "source": [
    "Definiré ahora mi propia función factorial, para que permita aplicarlo a vectores. "
   ]
  },
  {
   "cell_type": "code",
   "execution_count": 16,
   "metadata": {
    "collapsed": false
   },
   "outputs": [
    {
     "data": {
      "text/plain": [
       "mi_factorial (generic function with 1 method)"
      ]
     },
     "execution_count": 16,
     "metadata": {},
     "output_type": "execute_result"
    }
   ],
   "source": [
    "function mi_factorial(n)\n",
    "    i=length(n)\n",
    "    fac=zeros(i)\n",
    "    for j = 1:i\n",
    "        fac[j]=factorial(float(n[j]))\n",
    "    end\n",
    "    return fac\n",
    "end"
   ]
  },
  {
   "cell_type": "code",
   "execution_count": 17,
   "metadata": {
    "collapsed": false
   },
   "outputs": [
    {
     "data": {
      "text/plain": [
       "5-element Array{Float64,1}:\n",
       "   1.0\n",
       "   2.0\n",
       "   6.0\n",
       "  24.0\n",
       " 120.0"
      ]
     },
     "execution_count": 17,
     "metadata": {},
     "output_type": "execute_result"
    }
   ],
   "source": [
    "mi_factorial([1,2,3,4,5])"
   ]
  },
  {
   "cell_type": "markdown",
   "metadata": {},
   "source": [
    "Ahora sí, la exponencial en series de tylor es: $e^x=\\sum(i \\rightarrow \\frac{x^i}{i!}, 0:\\infty)$, o para nuestros propósitos numpericos, \n",
    "$exp(x,n)=\\sum(i \\rightarrow \\frac{x^i}{i!}, 0:n)$"
   ]
  },
  {
   "cell_type": "code",
   "execution_count": 18,
   "metadata": {
    "collapsed": false
   },
   "outputs": [
    {
     "data": {
      "text/plain": [
       "mi_exp (generic function with 1 method)"
      ]
     },
     "execution_count": 18,
     "metadata": {},
     "output_type": "execute_result"
    }
   ],
   "source": [
    "mi_exp(x,n)=Σ(i-> (float(x).^i)./mi_factorial(i),0:n)"
   ]
  },
  {
   "cell_type": "code",
   "execution_count": 19,
   "metadata": {
    "collapsed": false
   },
   "outputs": [
    {
     "data": {
      "text/plain": [
       "0.0"
      ]
     },
     "execution_count": 19,
     "metadata": {},
     "output_type": "execute_result"
    }
   ],
   "source": [
    "mi_exp(10,100)-exp(10)"
   ]
  },
  {
   "cell_type": "markdown",
   "metadata": {},
   "source": [
    "Esto por supuesto tiene muchas buenas implicaciones. En general, ahora $\\sum$ ya está definido y con ello puedo hacer de forma simple cualquier desarrollo de fourier o de tylor. "
   ]
  },
  {
   "cell_type": "markdown",
   "metadata": {
    "collapsed": true
   },
   "source": [
    "Utilizando lo aprendido: \n",
    "\n",
    "[1] Haz tu propia función general (funcional) para calcular sumas. \n",
    "\n",
    "[2] Haz una funcion general (funcional) para calcular productos. \n",
    "\n",
    "[3] La integral de una función se puede ver también como una suma. Haz una función que integre con un determinado paso. \n",
    "\n",
    "Este último problema es extra difícil, por lo que sólo se revisará que la integral calcule lo que debe, dada la funcion f, y los extremos a,b donde se evalua. No se revisará la eficiencia del programa, ni los detalles de sintaxis.  "
   ]
  },
  {
   "cell_type": "markdown",
   "metadata": {
    "collapsed": true
   },
   "source": [
    "# Graficación"
   ]
  },
  {
   "cell_type": "markdown",
   "metadata": {},
   "source": [
    "Ahora que somos capaces de producir datos interesantes, se nos antoja *visualizarlos*, es decir, graficarlos.\n",
    "\n",
    "Hay varios paquetes gráficos en Julia, todavía en desarrollo. Tal vez el más maduro es `PyPlot`, que provee un interfaz juliano al paquete `matplotlib` de Python para graficar.\n",
    "\n",
    "Para utilizarlo, es necesario primero instalar el paquete:"
   ]
  },
  {
   "cell_type": "markdown",
   "metadata": {},
   "source": [
    "Pkg.add(\"PyPlot\")"
   ]
  },
  {
   "cell_type": "markdown",
   "metadata": {},
   "source": [
    "Este comando (`Pkg.add`) es para *instalar* el paquete en tu sistema. Por lo tanto, sólo es necesario ejecutarlo *una vez* en la vida (o, al menos, hasta que reinstales Julia)."
   ]
  },
  {
   "cell_type": "markdown",
   "metadata": {},
   "source": [
    "y luego cargarlo:"
   ]
  },
  {
   "cell_type": "code",
   "execution_count": 20,
   "metadata": {
    "collapsed": true
   },
   "outputs": [],
   "source": [
    "using PyPlot"
   ]
  },
  {
   "cell_type": "markdown",
   "metadata": {},
   "source": [
    "[4] Crea un arreglo `x` con números igualmente espaciados de -3 a 3 y un paso chiquito.\n",
    "\n",
    "[5] Crea un arreglo `y` que corresponde a la función $3x^2 - 2$.\n",
    "\n",
    "[6] Usa la función `plot` de `PyPlot` para graficar la función.\n",
    "\n",
    "[7] Utiliza la ayuda de la función [`?plot` o `help(plot)`] para cambiar el estilo de la gráfica para utilizar líneas rojas y puntos verdes.\n",
    "\n",
    "[8] Busca cómo agregar etiquetas a los ejes (lo cual debe hacerse en *cualquier* gráfica) y un título global, así como una leyenda."
   ]
  },
  {
   "cell_type": "markdown",
   "metadata": {},
   "source": [
    "Ejemplo de gráfica completa: "
   ]
  },
  {
   "cell_type": "code",
   "execution_count": 21,
   "metadata": {
    "collapsed": false
   },
   "outputs": [
    {
     "name": "stderr",
     "output_type": "stream",
     "text": [
      "WARNING: Indexing with non-Integer Reals is deprecated.  It may be that your index arose from an integer division of the form i/j, in which case you should consider using i÷j or div(i,j) instead.\n",
      " in depwarn at deprecated.jl:73\n",
      " in to_index at deprecated.jl:447\n",
      " in getindex at abstractarray.jl:488\n",
      " in include_string at loading.jl:282\n",
      " in execute_request_0x535c5df2 at /opt/julia_packages/.julia/v0.4/IJulia/src/execute_request.jl:183\n",
      " in eventloop at /opt/julia_packages/.julia/v0.4/IJulia/src/IJulia.jl:143\n",
      " in anonymous at task.jl:447\n",
      "while loading In[21], in expression starting on line 36\n"
     ]
    },
    {
     "data": {
      "image/png": "[encoded data removed]",
      "text/plain": [
       "PyPlot.Figure(PyObject <matplotlib.figure.Figure object at 0x7fa0b41dfe50>)"
      ]
     },
     "metadata": {},
     "output_type": "display_data"
    },
    {
     "name": "stderr",
     "output_type": "stream",
     "text": [
      "WARNING: Indexing with non-Integer Reals is deprecated.  It may be that your index arose from an integer division of the form i/j, in which case you should consider using i÷j or div(i,j) instead.\n",
      " in depwarn at deprecated.jl:73\n",
      " in to_index at deprecated.jl:447\n",
      " in getindex at array.jl:283\n",
      " in include_string at loading.jl:282\n",
      " in execute_request_0x535c5df2 at /opt/julia_packages/.julia/v0.4/IJulia/src/execute_request.jl:183\n",
      " in eventloop at /opt/julia_packages/.julia/v0.4/IJulia/src/IJulia.jl:143\n",
      " in anonymous at task.jl:447\n",
      "while loading In[21], in expression starting on line 46\n"
     ]
    }
   ],
   "source": [
    "##########\n",
    "#  Plot  #\n",
    "##########\n",
    "fig = figure(\"pyplot_annotation\",figsize=(6,6)) # Create a figure and save its handle\n",
    "#ax = axes([0.12,0.2,0.75,0.7])\n",
    "ax = gca()\n",
    "x =-5:.01:5\n",
    "y = sin(x.^2)\n",
    "dx = maximum(x) - minimum(x)\n",
    "dy = maximum(y) - minimum(y)\n",
    "p = plot(x,y,linestyle=\"-\",marker=\"None\",label=\"Gráfica de prueba\") # Plot a basic line\n",
    "axis(\"tight\") # Fit the axis tightly to the plot\n",
    "title(L\"$sin(x^2)$\")\n",
    "grid(\"on\")\n",
    "legend(loc=\"upper right\",fancybox=\"true\") # Create a legend of all the\n",
    "    # existing plots using their labels as names\n",
    "\n",
    "##################\n",
    "#  Text Styling  #\n",
    "##################\n",
    "font1 = Dict(\"family\"=>\"serif\",\n",
    "    \"color\"=>\"darkred\",\n",
    "    \"weight\"=>\"normal\",\n",
    "    \"size\"=>16)\n",
    "xlabel(\"Etiqueta del eje x\",fontdict=font1)\n",
    "ylabel(\"etiqueta del eje Y\")\n",
    "\n",
    "ax = gca()\n",
    "setp(ax[:get_yticklabels](),fontsize=24,color=\"blue\") # Y Axis font formatting\n",
    "\n",
    "#################\n",
    "#  Arrow Tests  #\n",
    "#################\n",
    "# This arrows oriengt toward the x-axis, the more horizontal they are\n",
    "# the more skewed they look\n",
    "arrow(x[floor(Int,length(x)/2)],\n",
    "    0.4,\n",
    "    0.0009,\n",
    "    0.4,\n",
    "    head_width=0.001,\n",
    "    width=0.00015,\n",
    "    head_length=0.07,\n",
    "    overhang=0.5,\n",
    "    head_starts_at_zero=\"true\",\n",
    "    facecolor=\"red\")\n",
    "arrow(x[floor(Int,0.3length(x))]-0.25dx,\n",
    "    y[floor(Int,0.3length(y))]+0.25dy,\n",
    "    0.25dx,\n",
    "    -0.25dy,\n",
    "    head_width=0.001,\n",
    "    width=0.00015,\n",
    "    head_length=0.07,\n",
    "    overhang=0.5,\n",
    "    head_starts_at_zero=\"true\",\n",
    "    facecolor=\"red\",\n",
    "    length_includes_head=\"true\")\n",
    "\n",
    "###########################\n",
    "#  Anotaciones con texto  #\n",
    "###########################\n",
    "annotate(\"Observe aquí\",\n",
    "    xy=[x[floor(Int,length(x)/4.1)];y[floor(Int,length(y)/4.1)]],\n",
    "    xytext=[x[floor(Int,length(x)/4.1)]+0.1dx;y[floor(Int,length(y)/4.1)]+0.1dy],\n",
    "    xycoords=\"data\",\n",
    "    arrowprops=Dict(\"facecolor\"=>\"black\")) # Julia dictionary objects are\n",
    "        # automatically converted to Python object when they pass into\n",
    "        # a PyPlot function\n",
    "annotate(\"Esquina superior derecha\",\n",
    "    xy=[1;1],\n",
    "    xycoords=\"figure fraction\",\n",
    "    xytext=[0,0],\n",
    "    textcoords=\"offset points\",\n",
    "    ha=\"right\",\n",
    "    va=\"top\")\n",
    "annotate(L\"$\\int xdx = \\frac{x^2}{2} + C$\",\n",
    "    xy=[1;0],\n",
    "    xycoords=\"axes fraction\",\n",
    "    xytext=[-10,10],\n",
    "    textcoords=\"offset points\",\n",
    "    fontsize=30.0,\n",
    "    ha=\"right\",\n",
    "    va=\"bottom\")\n",
    "\n",
    "fig[:autofmt_xdate](bottom=0.2,rotation=30,ha=\"right\")\n",
    "fig[:canvas][:draw]() # Update the figure"
   ]
  },
  {
   "cell_type": "code",
   "execution_count": 22,
   "metadata": {
    "collapsed": false
   },
   "outputs": [
    {
     "name": "stderr",
     "output_type": "stream",
     "text": [
      "WARNING: ifloor(x) is deprecated, use floor(Integer,x) instead.\n",
      " in depwarn at deprecated.jl:73\n",
      " in ifloor at deprecated.jl:50\n",
      " in include_string at loading.jl:282\n",
      " in execute_request_0x535c5df2 at /opt/julia_packages/.julia/v0.4/IJulia/src/execute_request.jl:183\n",
      " in eventloop at /opt/julia_packages/.julia/v0.4/IJulia/src/IJulia.jl:143\n",
      " in anonymous at task.jl:447\n",
      "while loading In[22], in expression starting on line 1\n"
     ]
    },
    {
     "data": {
      "text/plain": [
       "1"
      ]
     },
     "execution_count": 22,
     "metadata": {},
     "output_type": "execute_result"
    }
   ],
   "source": [
    "ifloor(1.2)"
   ]
  },
  {
   "cell_type": "markdown",
   "metadata": {},
   "source": [
    "# Continuará..."
   ]
  }
 ],
 "metadata": {
  "kernelspec": {
   "display_name": "Julia 0.4.6",
   "language": "julia",
   "name": "julia-0.4"
  },
  "language_info": {
   "file_extension": ".jl",
   "mimetype": "application/julia",
   "name": "julia",
   "version": "0.4.6"
  }
 },
 "nbformat": 4,
 "nbformat_minor": 0
}
