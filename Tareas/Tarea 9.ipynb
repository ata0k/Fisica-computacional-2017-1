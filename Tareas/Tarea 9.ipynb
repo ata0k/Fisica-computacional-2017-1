{
 "cells": [
  {
   "cell_type": "markdown",
   "metadata": {},
   "source": [
    "# Física Estadística y el modelo de Ising\n",
    "\n",
    "La idea de esta tarea será simular el modelo de Ising en una red cuadrada 2D utilizando el algoritmo de Metrópolis. \n",
    "\n",
    "Para poder estudiar sistemas físicos de muchas partículas utilizamos las herramientas de la física estadística. En particular utilizamos la función de partición. \n",
    "\n",
    "Citando Wikipedia: \n",
    "\n",
    "\"En física estadística, la ''función de partición'' $\\mathcal{Z}$ es un funcional de un sistema en estado de equilibrio termodinámico. Su principal interés radica en que, una vez conocida la expresión para $\\mathcal{Z}$ del sistema, de ella se pueden derivar las función de estado, como la energía libre de Gibbs, energía interna, presión, temperatura, entropía, polarización electromagnética, etcétera. Dependiendo del ensamble estadístico considerado ... la función de partición toma una forma u otra.\"\n",
    "\n",
    "El detalle es que esta función requiere de conocer todos las posibles combinaciones de un sistema, pues: \n",
    "\n",
    "$ \\mathcal{Z} = \\sum_{s} e^{- \\beta H_s}$\n",
    "\n",
    "donde la suma se ha realizado sobre todos los estados del sistema. \n",
    "\n",
    "[1] Haz una red de $n \\times n$ vertices. \n",
    "\n",
    "[2] Haz una función que calcule el siguiente hamiltoniano: $H(\\sigma) = - \\sum_{\\langle i~j\\rangle} J_{ij} \\sigma_i \\sigma_j -\\mu \\sum_{j} h_j\\sigma_j$, donde la primera suma es sobre todos los pares vecinos $i,j$ de la red. \n",
    "\n",
    "[3] Si cada vértice puede tener los valores +-1, calcula numéricamente la función de partición para una red de 1x1, 2x2, 3x3, etc... Toma el tiempo de cómputo que le lleva hacer cada cálculo. ¿Cómo crece ese tiempo con el tamaño de la red?\n",
    "\n"
   ]
  },
  {
   "cell_type": "markdown",
   "metadata": {},
   "source": [
    "# Monte Carlo\n",
    "\n",
    "Ya habrás notado que es básicamente imposible calcular la función de partición para redes de tamaño grande, es decir, redes de más de 10x10. ¿Pero realmente nos interesa conocer la función de partición? En realidad no, sólo nos interesa saber el estado final del sistema. Para esto podemos comenzar en una configuración aleatoria y evolucionar la red. \n",
    "\n",
    "[4] Haz una función que genere una configuración $sigma$ aleatoria. \n",
    "[5] Haz otra función que elija aleatoriamente un elemento de sigma y con probabilidad $p$ lo cambie. \n",
    "\n",
    "El punto es saber cómo elegir esa probabilidad p. La probabilidad de estar en un sistema está dada por la función de partición y es: \n",
    "\n",
    "$P(\\sigma) = \\frac{e^{- \\beta H_\\sigma}}{\\mathcal{Z}}$\n",
    "\n",
    "Pero no necesitamos saber esa probabilidad, sino la probabilidad de cambiar de un sistema a otro. $P(\\sigma_1| \\sigma_2 )$ y esta probabilidad está dada por el cociente $P(\\sigma_1)/P(\\sigma_2)$, un cociente que puede exceder el valor 1, por lo que realmente: \n",
    "\n",
    "$p= P(\\sigma_1| \\sigma_2 ) = min(1, \\frac{e^{- \\beta H_{\\sigma_1}}}{e^{- \\beta H_{\\sigma_2}}})$\n",
    "\n",
    "[6] Haz una función que dados $\\sigma_1$ y $\\sigma_2$ calcule la probabilidad $p$. \n",
    "[7] Haz una función que dado un estado inicial $\\sigma$ y un numero de pasos $i$ y una temperatura $1/\\beta$ arroje el estado final del sistema. \n",
    "[8] Haz una función que calcule la magnetización como función del número de pasos, el estado inicial, la temperatura. La magnetización es de \"alguna forma\" la suma total de los espines. Revisa que tu simulación funcione para $T=0$. \n",
    "[9] Haz una gráfica de la magnetización después de n pasos \n",
    "\n"
   ]
  },
  {
   "cell_type": "code",
   "execution_count": null,
   "metadata": {
    "collapsed": true
   },
   "outputs": [],
   "source": []
  }
 ],
 "metadata": {
  "kernelspec": {
   "display_name": "Julia 0.4.6",
   "language": "julia",
   "name": "julia-0.4"
  },
  "language_info": {
   "file_extension": ".jl",
   "mimetype": "application/julia",
   "name": "julia",
   "version": "0.4.6"
  }
 },
 "nbformat": 4,
 "nbformat_minor": 0
}
