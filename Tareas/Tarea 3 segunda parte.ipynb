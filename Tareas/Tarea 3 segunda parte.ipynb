{
 "cells": [
  {
   "cell_type": "markdown",
   "metadata": {},
   "source": [
    "## Tiro parabólico\n",
    "\n",
    "Ya sabemos como graficar, ahora vamos a empezar a resolver problemas de forma gráfica. El primero es el tiro parabólico. "
   ]
  },
  {
   "cell_type": "markdown",
   "metadata": {},
   "source": [
    "[9] Haz una función que calcula la trayectoria de una partícula en tiro parabólico dada una velocidad y posicón inicial (una función general donde se puedan poner posiciones y velocidades iniciales en N-dimensiones) para un tiempo t.\n",
    "\n",
    "[10] Haz una función que calcula la trayectoria de una partícula en tiro parabóloco 2D, dada una posición, ángulo de tiro y rapidez inicial. (Llama la función de la misma forma, pero usando diferente número de argumentos). ¿Qué pasa si evaluas la función usando el vector velocidad y el vector posición? ¿Qué pasa ahora si evaluas la función usando una posicón inicial, un ángulo inicial y una rapidez inicial?\n",
    "\n",
    "[11]  Grafica distintas trayectorias con la misma rapidez inicial pero distintos ángulos iniciales, y comprobar gráficamente aproximadamente para qué ángulo se tiene el máximo alcance en la coordenada x en: \n",
    "(a) Para un tiempo fijo.\n",
    "(b) Para cuando llega a la misma altura que la altura inicial. "
   ]
  },
  {
   "cell_type": "markdown",
   "metadata": {},
   "source": [
    "## Solución a ecuaciones trasendentales. \n",
    "\n",
    "Para resolver gráficamente una ecuación trasendental, podemos buscar la intersección entre la recta $y = 0$ y la función trasendental que cumple la ecuación $f(x) = 0$\n",
    "\n",
    "[12]  Encuentra gráficamente algunas soluciones de la ecuación $\\tan(x) + x^2 = x$.  Pista. Usa axis([$x_{min},x_{max},y_{min},y_{max}$]) para poder ver mejor los valores obtenidos. \n",
    "\n"
   ]
  },
  {
   "cell_type": "markdown",
   "metadata": {},
   "source": [
    "# Algoritmos\n",
    "\n",
    "** Por fin llegamos al corazón del curso, desarrollar algoritmos... **\n",
    "\n",
    "Un *algoritmo* es una \"receta\" computacional, que consiste en una serie de instrucciones para que la computadora lleve a cabo un cálculo dado. Aunque no te hayas dado cuenta, ya desarrollaste al menos un algoritmo para poder calcular la integral definida de una función cualquiera. \n",
    "\n",
    "Algunos algoritmos (por ejemplo, la eliminación gaussiana) proveen una manera de llevar a cabo un cálculo de manera \"exacta\" (dentro de las restricciones impuestas por el uso de números con precisión finita) en un número finito de pasos.\n",
    "\n",
    "Sin embargo, en general, no podemos esperar que haya una fórmula analítica cerrada para calcular las cantidades de interés de manera exacta. En este caso, será necesario emplear un algoritmo *iterativo*.\n",
    "\n",
    "\n",
    "## Algoritmos iterativos\n",
    "\n",
    "Un algoritmo iterativo normalmente empieza desde una adivinanza inicial $x_0$, y aplica un procedimiento / receta matemática, o sea alguna función (en el sentido más general de la palabra) $f$, para producir una siguiente adivinanza $x_1 := f(x_0)$. Esto se repite para producir una secuencia $x_0, x_1, \\ldots, x_n, \\ldots$, con\n",
    "\n",
    "$$x_{n+1} := f(x_n).$$\n",
    "\n",
    "La esperanza es que la secuencia $x_n$ converja hacia un valor límite $x^*$ cuando $n \\to \\infty$, tal que $x^*$ sea la solución del problema original.\n",
    "\n",
    "Dado que no podemos llevar a cabo la iteración un número infinito de veces, se corta la iteración después de un cierto número de pasos, para dar una solución *aproximada*, que se acerca dentro de cierta *tolerancia* al resultado teórico exacto $x^*$. Por lo tanto, cualquier algoritmo iterativo requiere una condición de terminación."
   ]
  },
  {
   "cell_type": "markdown",
   "metadata": {},
   "source": [
    "# Raíces cuadradas: Algoritmo Babilónico\n",
    "\n",
    "\n",
    "Un primer ejemplo de un algoritmo útil es el *algoritmo Babilónico* (o de Herón) para calcular la raiz cuadrada de un número real. Supongamos que queramos calcular $\\sqrt{y}$. No hay manera de calcular este número de manera precisa en un número finito de pasos, usando sólo las operaciones aritméticas básicas. (Por supuesto, es una sola llamada a la función \n",
    "`sqrt` en Julia, pero eso no cuenta...).\n",
    "\n",
    "Para un algoritmo, necesitamos una *idea*, que toma una adivinanza $x_n$ y produce una mejor, $x_{n+1}$.\n",
    "\n",
    "En el caso de la raiz cuadrada $\\sqrt{y}$, dada una adivinanza $x_n$, podemos reconocer que el número $\\frac{y}{x_n}$ está del otro lado de $\\sqrt{y}$ que $x_n$, y que entonces tenemos la *idea* de que el valor medio entre los dos podría servir:\n",
    "\n",
    "$$x_{n+1} := \\textstyle \\frac{1}{2} (x_n + \\textstyle \\frac{y}{x_n}).$$\n",
    "\n",
    "Aunque la notación matemática requiere pensar en el número $n$ del iterado, en un programa conviene más pensar en valores \"viejos\" y \"nuevos\" en cada paso de la iteración."
   ]
  },
  {
   "cell_type": "markdown",
   "metadata": {},
   "source": [
    
    " Los ejercicios del 13 al 16, están resueltos en la sección de Notas y finalmente no son parte de la tarea 3. \n "
    "[13] Implementa una función que toma una adivinanza y produce una mejor aproximación para la raiz cuadrada.\n",
    "\n",
    "[14] Implementa una función recursiva que toma el valor de $y$ y una adivinanza inicial, y calcula la raiz cuadrada. **¡No olvides la condición de terminación!**\n",
    "\n",
    "[15] Implementa una función que calcule la raíz cuadrada de un número. \n",
    "\n",
    "[16] ¿Qué tan rápida es la convergencia al valor correcto?\n",
    "Es decir, ¿cómo depende la distancia del iterado $x_n$ desde el límite, como función del número de paso $n$? Dibuja unos iterados.\n"
   ]
  },
  {
   "cell_type": "markdown",
   "metadata": {},
   "source": [
    "# Raíces de funciones: Bisección\n",
    "\n",
    "Muchos problemas en la física requieren la solución de ecuaciones complicadas, por ejemplo trascendentales, las cuales no es posible resolver de manera analítica. Por ejemplo, calcular el tiempo de intersección $\\tau$ entre un oscilador armónico y una partícula libre requiere resolver una ecuación para el tiempo de la forma\n",
    "\n",
    "$$\\cos(\\tau) = x_0 - v \\tau.$$\n",
    "\n",
    "Cualquier problema de este tipo se puede pensar como el de resolver una ecuación de la forma $F(x) = 0$, es decir, encontrar *raíces* o *ceros* $x^*$ tales que $F(x^*) = 0$. \n",
    "\n",
    "Suponiendo que $F$ es una función continua, una condición suficiente (pero no necesaria) para que *exista* una raiz en un intervalo dado $[a, b]$ es que $F$ cambie de signo en el intervalo, es decir, que $F(a)$ y $F(b)$ tengan signos opuestos. Por el teorema del valor intermedio, se sigue que $F$ tiene al menos un cero en $[a, b]$.\n",
    "\n",
    "Para ubicar la raíz en este intervalo, la idea del método de bisección es literalmente de dividir en dos el intervalo, poniendo\n",
    "$$c := \\textstyle \\frac{1}{2}(a + b),$$\n",
    "y checar el signo de $c$. Según el signo de $c$, el nuevo intervalo que considerar para buscar la raíz es o la mitad izquierda, o la mitad derecha.\n",
    "\n",
    "[17] Haz una función de funciones, signo($f$::funtion, $a$,$b$), a la cual se le den 2 valores ($a$ y $b$) y regrese 1 si ambos $f(a)$ y $f(b)$ ambos tienen el mismo signo, -1, si tienen signos diferentes, $a$ ó $b$, si $f(a)=0$ ó $f(b)=0$. \n",
    "\n",
    "[18] Usando la función anterior, haz una función que regrese el par $a$,$c$ ($c$ definido como el promedio entre $a$ y $b$), si $f(a)$ y $f(c)$ tienen diferentes signos, ó regrese $c$,$b$, si $f(c)$ y $f(b)$ tienen diferentes signos, o bien, regrese $c$,$c$ si $f(c)=0$. \n",
    "\n",
    "[19] Implementa en una función de funciones, el algoritmo de la bisección. **No olvides poner una condicción de terminación**"
   ]
  },
  {
   "cell_type": "markdown",
   "metadata": {},
   "source": [
    "# Raíces de funciones: Método de Newton--Raphson\n",
    "\n",
    "Un algoritmo poderoso, pero a veces peligroso (como veremos más adelante), es el método de Newton, o de Newton--Raphson, para encontrar raíces de funciones $f$ que sean diferenciables. El algoritmo utiliza también información sobre la derivada $f'$ de la función $f$.\n",
    "\n",
    "La idea del método es partir de la aproximación $x_n$ de una raíz, y predecir una posición más cercana de la raíz a través de la intersección de la recta tangente a la función en $x_n$ con el eje $x$.\n",
    "\n",
    "La proxima clase, la tarea comenzará implementando este método. "
   ]
  },
  {
   "cell_type": "code",
   "execution_count": 27,
   "metadata": {
    "collapsed": false
   },
   "outputs": [
    {
     "data": {
      "text/plain": [
       "2.356068898869185"
      ]
     },
     "execution_count": 27,
     "metadata": {},
     "output_type": "execute_result"
    }
   ],
   "source": [
    "x0=rand()*6-3"
   ]
  },
  {
   "cell_type": "code",
   "execution_count": 38,
   "metadata": {
    "collapsed": false
   },
   "outputs": [
    {
     "data": {
      "image/png": "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",
      "text/plain": [
       "PyPlot.Figure(PyObject <matplotlib.figure.Figure object at 0x7fb98e477150>)"
      ]
     },
     "metadata": {},
     "output_type": "display_data"
    },
    {
     "name": "stdout",
     "output_type": "stream",
     "text": [
      "-10.163267156834216\n"
     ]
    },
    {
     "data": {
      "text/plain": [
       "1-element Array{Any,1}:\n",
       " PyObject <matplotlib.lines.Line2D object at 0x7fb98df8a290>"
      ]
     },
     "execution_count": 38,
     "metadata": {},
     "output_type": "execute_result"
    }
   ],
   "source": [
    "f(x) = cos(x.^3) + 2sin(x).^2\n",
    "df(x) = -3*x.^2.*sin(x.^3) .+ 4sin(x).*cos(x)\n",
    "x = 2:0.01:3\n",
    "plot(x,f(x))\n",
    "plot(x,zeros(length(x)))\n",
    "\n",
    "m = df(x0)\n",
    "println(m)\n",
    "recta(m,x,x1,y1)= m*(x-x1)+y1\n",
    "plot(x,recta(m,x,x0,f(x0)))"
   ]
  },
  {
   "cell_type": "code",
   "execution_count": null,
   "metadata": {
    "collapsed": true
   },
   "outputs": [],
   "source": []
  }
 ],
 "metadata": {
  "kernelspec": {
   "display_name": "Julia 0.4.6",
   "language": "julia",
   "name": "julia-0.4"
  },
  "language_info": {
   "file_extension": ".jl",
   "mimetype": "application/julia",
   "name": "julia",
   "version": "0.4.6"
  }
 },
 "nbformat": 4,
 "nbformat_minor": 0
}
