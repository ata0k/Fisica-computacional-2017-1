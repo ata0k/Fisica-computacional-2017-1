{
 "cells": [
  {
   "cell_type": "markdown",
   "metadata": {},
   "source": [
    "Fecha Límite para entregar reporte de la primera práctica\n",
    "\n",
    "##  Martes 15 de Noviembre del 2016 \n",
    "\n",
    "Fecha Límite para entregar reporte de la segunda práctica: \n",
    "\n",
    "## Jueves 24 de Noviembre del 2016\n",
    "\n",
    "Fechas para hacer sus exposiciones\n",
    "\n",
    "##  Martes 29 de Noviembre\n",
    "\n",
    "1. César Villareal\n",
    "2. \n",
    "3. \n",
    "4. \n",
    "5. \n",
    "6. \n",
    "\n",
    "## Jueves 1 de Diciembre\n",
    "\n",
    "1. Edrick Solís González\n",
    "2. Alejandra Díaz y Cristo Igor\n",
    "3. Humberto y Diego\n",
    "4. Daniel Martinez\n",
    "5. \n",
    "6. \n",
    "\n",
    "## Martes 6 de Diciembre\n",
    "\n",
    "1. Rivera Lopez Rodrigo\n",
    "2. Karen Lozano\n",
    "3. Efrain Condés \n",
    "4. \n",
    "5. \n",
    "6. \n",
    "\n",
    "## Jueves 8 de Diciembre\n",
    "\n",
    "1. Oswaldo Adapta\n",
    "2. Rodrigo Allan y Fabiola Trujano\n",
    "3. Estefanía y Alberto\n",
    "4. Moises y Marín\n",
    "5. Osvaldo y Miroslava\n",
    "6. Noe y Manuel"
   ]
  },
  {
   "cell_type": "code",
   "execution_count": 1,
   "metadata": {
    "collapsed": false
   },
   "outputs": [
    {
     "name": "stderr",
     "output_type": "stream",
     "text": [
      "INFO: Precompiling module PyPlot.\n"
     ]
    }
   ],
   "source": [
    "using PyPlot"
   ]
  },
  {
   "cell_type": "code",
   "execution_count": 2,
   "metadata": {
    "collapsed": false
   },
   "outputs": [
    {
     "name": "stdout",
     "output_type": "stream",
     "text": [
      "search: scatter3D scatter\n",
      "\n"
     ]
    },
    {
     "data": {
      "text/plain": [
       "\n",
       "        Create a scatter plot.\n",
       "\n",
       "        ============  ========================================================\n",
       "        Argument      Description\n",
       "        ============  ========================================================\n",
       "        *xs*, *ys*    Positions of data points.\n",
       "        *zs*          Either an array of the same length as *xs* and\n",
       "                      *ys* or a single value to place all points in\n",
       "                      the same plane. Default is 0.\n",
       "        *zdir*        Which direction to use as z ('x', 'y' or 'z')\n",
       "                      when plotting a 2D set.\n",
       "        *s*           Size in points^2.  It is a scalar or an array of the\n",
       "                      same length as *x* and *y*.\n",
       "\n",
       "        *c*           A color. *c* can be a single color format string, or a\n",
       "                      sequence of color specifications of length *N*, or a\n",
       "                      sequence of *N* numbers to be mapped to colors using the\n",
       "                      *cmap* and *norm* specified via kwargs (see below). Note\n",
       "                      that *c* should not be a single numeric RGB or RGBA\n",
       "                      sequence because that is indistinguishable from an array\n",
       "                      of values to be colormapped.  *c* can be a 2-D array in\n",
       "                      which the rows are RGB or RGBA, however, including the\n",
       "                      case of a single row to specify the same color for\n",
       "                      all points.\n",
       "\n",
       "        *depthshade*\n",
       "                      Whether or not to shade the scatter markers to give\n",
       "                      the appearance of depth. Default is *True*.\n",
       "        ============  ========================================================\n",
       "\n",
       "        Keyword arguments are passed on to\n",
       "        :func:`~matplotlib.axes.Axes.scatter`.\n",
       "\n",
       "        Returns a :class:`~mpl_toolkits.mplot3d.art3d.Patch3DCollection`\n",
       "        "
      ]
     },
     "execution_count": 2,
     "metadata": {},
     "output_type": "execute_result"
    }
   ],
   "source": [
    "? scatter3D"
   ]
  },
  {
   "cell_type": "code",
   "execution_count": null,
   "metadata": {
    "collapsed": true
   },
   "outputs": [],
   "source": []
  }
 ],
 "metadata": {
  "kernelspec": {
   "display_name": "Julia 0.4.6",
   "language": "julia",
   "name": "julia-0.4"
  },
  "language_info": {
   "file_extension": ".jl",
   "mimetype": "application/julia",
   "name": "julia",
   "version": "0.4.7"
  }
 },
 "nbformat": 4,
 "nbformat_minor": 0
}
