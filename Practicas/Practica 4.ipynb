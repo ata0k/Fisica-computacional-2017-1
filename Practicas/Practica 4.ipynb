{
 "cells": [
  {
   "cell_type": "markdown",
   "metadata": {},
   "source": [
    "En esta practica haremos una simulación simple basada en la teoria BCS ( Bardeen, Cooper and Schrieffer ), la cual trata de explicar porque se forman los superconductores. \n",
    "\n",
    "\n",
    "# Bosenes y Fermiones\n",
    "\n",
    "Lo primero que necesitamos saber es qué es un Fermión y qué es un Bosón. Si han tenido un buen curso de Cuántica, a estas alturas ya deberían saberlo, pero igual lo repetiremos. \n",
    "\n",
    "Un Boson es una particula con espin entero y\n",
    "\n",
    "Un Fermión es una particula de espín semientero. \n",
    "\n",
    "En lo que sabemos hasta ahora, no existen otras posibilidades de partículas. \n",
    "\n",
    "Lo importante en todo esto es que los primeros no cumplen el principio de exclusión de Pauli y los segundos sí. Es decir, puede haber muchos Bosones en un mismo estado energético, mientras que no puede haber muchos Fermiones en un mismo estado. \n",
    "\n",
    "Las propiedades de un gas se deducen de los numeros medios de ocupacion de los estados de una sola particula y para un potencial químico $\\mu$. \n",
    "\n",
    "## La distribucion de Bose-Einstein\n",
    "\n",
    "[1] Escribe cual es el número medio de Bosones dada una temperatura, una energía y un potencial químico. \n",
    "\n",
    "[2] Escribe cual es la densidad de estados que se tienen en un volumen $V$ y una energía $\\epsilon$ dadas.\n",
    "\n",
    "El número de Bosones con una energía entre $\\epsilon$ y $\\epsilon+d\\epsilon$ es $dN(\\epsilon) = n(\\epsilon) f(\\epsilon) d\\epsilon$ donde $n$ es el número medio de partículas y $f$ la densidad de estados. \n",
    "\n",
    "[3] Calcula analíticamente $N$ (o sea, integra $dN$ como función de $\\epsilon$, $V$, $T$ y $m$ la masa de las partículas). Nota que hay una integral que no podras calcular analiticamente. \n",
    "\n",
    "Si dividimos a $N$ por $V$ obtendremos la densidad del material que en principio es aproximadamente constante con respecto de la temperatura. Esto implica que la $\\mu$ debe ir creciendo ($\\mu$ es negativa) mientras $T$ decrece hasta llegar a una temperatura crítica a la cual $\\mu = 0$. \n",
    "\n",
    "\n",
    "## Condensado de Bose-Einstein\n",
    "\n",
    "\n",
    "[4] Haz un cambio de variables para integrar $N$ y que la integral definida que no se puede evaluar no dependa de $T$ para el caso donde $\\mu = 0$ (es decir para $T_c$). Evalua la integral de forma numerica. \n",
    "\n",
    "Los bosones pueden estar todos en un mismo estado, por lo que a temperaturas bajas en realidad $N = N_0 +...$ Donde $N_0$ son los bosones en el estado base y $...$ es lo que obtuviste en los puntos 3 y 4. Este término está dado por $\\frac{1}{exp(-\\beta \\mu) -1}$. Si se considera este termino, dividiendo $N = N_0 +...$ por $N$ y despejando y re-escribiendo se llega a: \n",
    "\n",
    "$\\frac{N_o}{N} = 1 -(\\frac{T}{T_c})^{3/2}$ \n",
    "\n",
    "Aproximadamente para temperaturas más bajas a la crítica y aproximadamente $\\frac{N_o}{N} = 0$ para temperaturas más altas. Esto es lo que da la relación del condensado de Bose-Einstein. \n",
    "\n",
    "# Teoria BCS\n",
    "\n",
    "En la teoria BCS, se asume que al pasar un par de electrones através de un potencial atractivo, estos se \"parean\" y forman una partícula que en conjunto tiene espin entero y por lo tanto se comportan como bosones, es decir, pueden formar un condensado de Bose-Eintein. \n",
    "\n",
    "Los Condensados de Bose implican 0 resistencia (o viscosidad) pues la resistencia (viscosidad) está relacionada con el transporte de momento y estas partículas, al estar en el estado base, no poseen momento. Esto es, se forma un súper conductor (o súper fluido) a temperatura por debajo de la temperatura crítica. \n",
    "\n",
    "## Modelo simple\n",
    "\n",
    "Un modelo \"semi-clásico\" de la teoria BCS es considerar que los nucleos atómicos no están completamente fijos en la red, sino sujetos por resortes a sus centros. Si un electrón pasa cerca del nucleo, este atraerá al nucleo (positivo), modificando la geometría de la red. Esta modificación cambia la probabilidad de que otro electrón pase cerca y de hecho, haga que otros electrones sean atraidos al primero (en vez de repelidos). \n",
    "\n",
    "[5] Has una simulación (calcula las posiciones como función del tiempo) de un electrón pasando en medio de una red de 10x10 (considera condiciones periódicas a la frontera). Para esto considera que los nucleos atómicos son como esferas huecas cargadas, es decir, a una distancia menor que su radio el potencial es 0.  \n",
    "\n",
    "Recuerda que los resortes no están acoplados en este caso. Considera además sólo la interacción a primeros vecinos. \n",
    "\n",
    "[6] Calcula ahora el potencial como función del tiempo para todo el sistema. \n",
    "\n",
    "[7] Haz una función que tome como argumentos las posiciones y velocidades de $n$ electrones y que aroje cuantos \"pares\" hay, es decir, donde los electrones distan menos que un radio dado $r$ y sus velocidades sean \"aproximadamente\" paralellas, es decir, que el producto punto entre las velocidades normalizadas sea mayor que un valor dado (por ejemplo 0.9).\n",
    "\n",
    "[8] Utilizando lo obtenido en los puntos 5,6 y 7, has una simulación donde inicialmente se ponga un electrón por celda (cada celda tiene un nucleo atómico) con posición aleatoria (dentro de la celda) y que también inicialmente la velocidad de los electrones sea aleatoria. Mide el número de pares de Cooper como función del tiempo, radio del par, distancia entre los nucleos atómicos, constante del resorte, etc...\n",
    "\n",
    "** Punto extra sobre el curso ** \n",
    "\n",
    "[9] ¿Bajo qué condiciones el número de pares de Cooper se maximisa en este modelo? Justifica tu respuesta con medio\n",
    "\n"
   ]
  },
  {
   "cell_type": "code",
   "execution_count": null,
   "metadata": {
    "collapsed": true
   },
   "outputs": [],
   "source": []
  }
 ],
 "metadata": {
  "kernelspec": {
   "display_name": "Julia 0.4.2",
   "language": "julia",
   "name": "julia-0.4"
  },
  "language_info": {
   "file_extension": ".jl",
   "mimetype": "application/julia",
   "name": "julia",
   "version": "0.4.6"
  }
 },
 "nbformat": 4,
 "nbformat_minor": 0
}
