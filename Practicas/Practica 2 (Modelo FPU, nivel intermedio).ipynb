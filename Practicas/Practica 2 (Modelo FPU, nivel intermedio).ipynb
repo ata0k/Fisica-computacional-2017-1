{
 "cells": [
  {
   "cell_type": "markdown",
   "metadata": {},
   "source": [
    "# Modelo de Fermi–Pasta–Ulam \n",
    "\n",
    "La pregunta es cómo se comportaría un sistema de N osciladores acoplados si se agregaba un término no lineal. Lo que se esperaba era que el sistema se volviera caótico y por lo tanto el resultado debería parecerse a ruido. La sorpresa fue que a pesar del término no lineal el sistema parecía mantenerse integrable con un movimiento \"almost periodic\". \n",
    "\n",
    "El modelo de Fermi Pasta Ulam consiste entonces de $n$ osciladores armónicos acoplados, con mismos resortes y mismas masas, pero con una contribución no lineal. Es decir, no se cumple la ley de Hooke, en su lugar se cumple: $m\\ddot{x}=-kx+\\alpha x^2$, o $m\\ddot{x}=-kx+\\alpha x^3$.\n",
    "\n",
    "Este modelo, tiene muchísimas aplicaciones en la física del estado sólido, tanto cristalino como amorfo. Los enlaces entre las moléculas se pueden modelar razonablemente bien como resortes no lineales (típicamente cúbicos). También en física nuclear y subnuclear, algunas veces se modelan las fuerzas fuertes y débiles como resortes no lineales, por lo que también en ese campo resulta útil este modelo. \n",
    "\n",
    "Por otra parte, el teorema KAM, el cual es probablemente uno de los más famosos teoremas de la dinámica no lineal surgió del experimento que Fermi, Pasta, Ulam y Tsingou hicieron, pues este experimento numérico mostró que los sistemas no lineales no son necesariamente no integrables bajo determinadas condiciones (perturvaciones pequeñas). \n",
    "\n",
    "En esta práctica repetiremos lo desarrollado por Fermi,Pasta,Ulam y Mary Tsingou en los años 50's. Es uno de las primeras simulaciones computacionales en la historia y se logró con una computadora MANIAC I, por lo que los cálculos era muchas veces más lentos que lo que hoy en día se puede conseguir en cualquier computadora personal. Además, el código seguramente fue muchas veces más complicado que usando Julia y no matrices de puntos y targetas perforadas  que usaban Fortran!! (Hoy algunos siguen usando el mismo lenguaje de programación que hace casi 70 años!! :-o ). \n",
    "\n",
    "\n",
    "## Paso 1: N osciladores acoplados\n",
    "\n",
    "El primer paso es poder resolver 1 oscilador armónico. \n",
    "\n",
    "[1] Escribe la ecuación de Hooke para un solo resorte y una masa y resuelve la ecuación diferencial (por ejemplo, usando Runge Kutta). \n",
    "\n",
    "El segundo paso es resolver el caso de n osciladores armónicos acoplados. \n",
    "\n",
    "[2] Utilizando la ley de Hooke, escribe el sistema de ecuaciones diferenciales para n masas iguales en un arreglo lineal donde entre cada 2 masas hay un resorte. Usa condiciones periódicas a la frontera.\n",
    "\n",
    "[3] Resuelve numéricamente el sistema de ecuaciones diferenciales para 64 masas diferentes. (usa diferentes condiciones iniciales).\n",
    "\n",
    "Para asegurarte que sí resolviste correctamente el sistema, puedes resolver analíticamente el problema y verificar que obtienes los modos normales correspondientes (también puedes buscar la solución en cualquier libro decente de mecánica clásica). \n",
    "\n",
    "## Paso 2: Osciladores con términos no lineales. \n",
    "\n",
    "La ley de Hooke se cumple típicamente para resortes en un determinado rango de estiramiento; sin embargo, uno puede encontrar materiales que para los cuales ese rango sea muy corto y por lo tanto, el resorte no cumpla con la ley de Hooke. En general las correcciones a la ley de Hooke son mínimas y normalmente basta con un término cuadrático o un término cúbico. Por ejemplo, una corrección cuadrática sería: \n",
    "\n",
    "$m\\ddot{x}=-kx+\\alpha x^2$, \n",
    "\n",
    "donde $\\alpha$ es un valor pequeño, por ejemplo, del orden de $\\frac{1}{10} k $. \n",
    "\n",
    "[4] Resuelve esta ecuación diferencial para varios valores de $\\alpha$ (usa valores positivos y negativos). Usa diferentes condiciones iniciales. \n",
    "\n",
    "## Paso 3: N osciladores no lineales\n",
    "\n",
    "Ahora resolveremos el sistema para n osciladores. La dificultad en este punto es cómo poner las condiciones iniciales para observar algo interesante. Sabemos que para el caso lineal, si la condición inicial es que las masas se encuentran oscilando como una onda sinoidal, entonces se mantendrán oscilando así las masas por siempre. Podemos entonces poner esa condición inicial para las masas en el sistema no lineal y resolve. \n",
    "\n",
    "[5] Escribe las ecuaciones para un sistema de $n$ masas iguales con condiciones periódicas a la frontera y resuelve el problema para 64 masas diferentes\n",
    "\n",
    "[6] Grafica la energía total (potencial+cinética) para unas cuantas masas como función del tiempo. \n"
   ]
  },
  {
   "cell_type": "markdown",
   "metadata": {},
   "source": [
    "## Paso 4: Análisis\n",
    "\n",
    "Hasta ahora ya resolviste el famoso problema de Fermi–Pasta–Ulam, pero falta analizarlo. \n",
    "\n",
    "Lo que Fermi–Pasta–Ulam encontraron es que el sistema se mantenía estable para valores pequeños de $\\alpha$, pero esto va un poco contra la intuición y lo que hasta la fecha se había desarrollado sobre sistemas caóticos. En ese entonces esto se le consideró una paradoja, pero más adelante Kolmogorov, Arnol y Mosel, demostraron que para perturvaciones suficientemente pequeñas, el sistema podía seguir siendo estable. ¿Qué tan pequeña es esta perturvación?\n",
    "\n",
    "[7] Resuelve el sistema de 64 masas para distintos valores de $\\alpha$ y observa a partir de qué valor el sistema deja de verse \"bonito\". \n",
    "\n",
    "[8] Calcula el exponente de Lyapunov. ¿Para qué valores de $\\alpha$ el exponente se vuelve positivo? ¿Coincide con tu estimación \"cuchareada\" del punto 7?\n",
    "\n",
    "Esta último punto no es para nada fácil!!! \n"
   ]
  },
  {
   "cell_type": "markdown",
   "metadata": {},
   "source": [
    "## Paso 5: Modificaciones al modelo \n",
    "\n",
    "Una primera modificación es pensar en un arreglo 3D. Para esto hay que enumerar adecuadamente las masas y calcular adecuadamente las distancias. \n",
    "\n",
    "[9] Resuelve el modelo para un arreglo cuadrado 3D de 4x4x4 masas con condiciones periódicas a la frontera. \n",
    "\n",
    "Esto puede servir como un modelo de un sólido cristalino \"no lineal\". La propagación de la energía se puede entender como la propagación de calor a traves del sólido, por lo que se puede estimar la capacidad calorífica del material. \n",
    "\n",
    "Una segunda modificación es incluir resortes a segundos vecinos. \n",
    "\n",
    "[10] Resuelve el modelo lineal con resortes a segundos vecinos (para 64 masas). \n",
    "\n",
    "Cuando a este modelo se le agrega una probabilidad $0<p<1$ de formar ese \"segundo enlace\", este emula razonablemente bien un sistema vítreo. \n",
    "\n",
    "**Sólo tienen que resolver uno de estos 2 modelos**. Si resuelven ambos, se podrá anular una tarea más. "
   ]
  },
  {
   "cell_type": "markdown",
   "metadata": {},
   "source": [
    "### Notas: \n",
    "\n",
    "1) Soy consciente de que las prácticas son complicadas. Por ello, calificaré con referencia a lo que otros alumnos (en el mundo) de nivel licenciatura pueden hacer. Tengo un par de estudiantes en Europa que están haciendo estas prácticas, ellos serán con quienes compare su trabajo. \n",
    "\n",
    "2) El artículo original de Fermi, Pasta, Ulam, lo pueden ver en el siguiente link: http://www.physics.utah.edu/~detar/phys6720/handouts/fpu/FermiCollectedPapers1965.pdf\n",
    "\n",
    "3) No duden en enviarme correos a mi o a los ayudantes si tienen dudas. \n",
    "\n",
    "4) Si hicieron la práctica 1, les recomiendo hacer cuanto antes su reporte. Qué tan estricto calificaré dependerá de (i) qué tan bien escrita y presentado esté su reporte, (ii) qué tan pronto me la envíen. "
   ]
  }
 ],
 "metadata": {
  "kernelspec": {
   "display_name": "Julia 0.4.2",
   "language": "julia",
   "name": "julia-0.4"
  },
  "language_info": {
   "file_extension": ".jl",
   "mimetype": "application/julia",
   "name": "julia",
   "version": "0.4.6"
  }
 },
 "nbformat": 4,
 "nbformat_minor": 0
}
