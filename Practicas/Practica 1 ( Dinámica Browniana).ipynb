{
 "cells": [
  {
   "cell_type": "markdown",
   "metadata": {},
   "source": [
    "# Dinamica Browniana\n",
    "\n",
    "En esta práctica desarrollarás un código para poder hacer simulaciones de sistemas estocásticos mediante el método que se conoce como: Dinámica Browniana.\n",
    "\n",
    "## Paso 1: Movimiento Browniano\n",
    "\n",
    "En 1827 Robert Brown, un biólogo inglés, observó en el microscopio que las partículas de polen en agua se movían de forma \"extraña\", siguiendo trayectorias asarosas. Sus observaciones sirvieron como prueba de que la materia está constituida por moléculas que se mueven ergódicamente en todas direcciones. En 1905, Einstein fue capaz de hacer un modelo estadístico el cual describía adecuadamente el movimiento Browniano. Con él pudo mostrar que, las partículas Brownianas siguen un comportamiento difusivo. \n",
    "\n",
    "Hoy en día esto se usa en muchas áreas de la física, como la termodinámica, la dinámica de fluidos, biofísica, y muchos otros. \n",
    "\n",
    "Como un primer paso, tendrás que ser capaz de modelar una caminata aleatoria (o movimiento browniano). \n",
    "\n",
    "[1] Dibuja una caminata de borracho en 2D. Para esto, genera pasos de tamaño fijo, en una dirección $\\theta$ aleatoria. \n",
    "\n",
    "[2] Calcula el desplazamiento cuadrático medio de estas caminatas aleatorias. Es decir, el promedio de $(x(t)-x(0))^2$ como función del tiempo. \n",
    "\n",
    "[3] Para tiempos grandes, el desplazamiento cuadrático medio va como $D t$, donde $D$ es el coeficiente de difusión. Calcula este coeficiente. \n",
    "\n",
    "[4] Generaliza esto para $N$ dimensiones.\n",
    "\n"
   ]
  },
  {
   "cell_type": "markdown",
   "metadata": {},
   "source": [
    "## Paso 2: Movimiento Browniano y la ecuación de Langevin\n",
    "\n",
    "Esta clase de movimientos se pueden obtener también de intentar resolver una ecuación estocastico-diferencial, llamada la ecuación de Langevin. \n",
    "\n",
    "Esta ecuación es el resultado de aplicar la segunda ley de Newton a un proceso estocástico. Del teorema de equipartición, sabemos que la energía cinética de un sistema termodinámico estádada por su temperatura $T$, el número de partículas dentro del sistema, y la constante de Boltzman $k_b$. Por cada grado de libertad de cada partícula, la energía cinética está dada por $\\frac{1}{2} k_B T$. Entonces, las fuerza $m \\ddot{X}$ que actúan sobre una partícula grande de masa $m$(como el polen) serán: 1) la fuerza debido al potencial, es decir $- \\nabla U(X)$. 2) la fuerza debido a la fricción de la partícula en el fluido, es decir  $- \\gamma \\dot{X}$ y finalmente,3) una contribución estocástica que depende de la fricción y la energía cinética de las partículas, es decir,  $ \\sqrt{2 \\gamma k_B T} R(t)$, donde $R(t)$ es una variable aleatoria de tipo gaussiana. \n",
    "\n",
    "$m\\ddot{X} = - \\nabla U(X) - \\gamma \\dot{X} + \\sqrt{2 \\gamma k_B T} R(t)$\n",
    "\n",
    "En el caso donde $m$ tiende a 0, esta equación se reduce a $0 = - \\nabla U(X) - \\gamma \\dot{X} + \\sqrt{2 \\gamma k_B T} R(t)$, que es la equación base para dinámica Browniana. \n",
    "\n",
    "La dificultad de resolver esta clase de ecuaciones consiste en la $R(t)$, pues no es una variable aleatoria homogenea, sino gaussiana. \n",
    "\n",
    "[1] haz una función R(t) que te genere un valor aleatorio entre -Inf e Inf, con una distribución de probabilidad de tipo gaussiano (Busca qué significa una distribución gaussiana). \n",
    "\n",
    "[2] Haz un histograma para verificar que tu fucnión R(t) siga realmente una distribución gaussiana. \n",
    "\n",
    "[3] Para el caso donde U(x) = 0, resuelve la ecuación de dinámica Browniana usando el método de Euler. \n",
    "\n",
    "[4] En el paso 3, debiste haber encontrado una caminata aleatoria. Calcula el coeficiente de difusión $D$. Ahora tu coeficiente de difusión depende de la temperatura y de $\\gamma$. Para $\\gamma$ fijo, ¿Cómo depende de la temperatura?\n"
   ]
  },
  {
   "cell_type": "markdown",
   "metadata": {},
   "source": [
    "## Paso 3: Dinámica Browniana. \n",
    "\n",
    "En este punto ya eres casi un experto en movimiento Browniano. Ahora vamos a pasar a implementar potenciales. Para esto tendrás que usar una versión n-dimensional del método de Euler. \n",
    "\n",
    "[1] Haz una función de funciones que calcule $\\nabla U(X)$, dada cualquier función $U$ \n",
    "\n",
    "[2] Haz una función que aplique el método de Euler n-dimensional para obtener las soluciones de la ecuación de la dinámica Browniana, dado un potencial U, una temperatura $T$ y un coeficiente de fricción $\\gamma$. \n",
    "\n",
    "[3] Haz una simulación (en lo posible una animación), de una partícula de polen en agua bajo el cámpo gravitatorio de la tierra. \n",
    "\n",
    "[4] Haz una simulación de una partícula browniana cargada negativamente, en un potencial de Coulomb de otra partícula (masiva) cargada positivamente. "
   ]
  },
  {
   "cell_type": "markdown",
   "metadata": {},
   "source": [
    "## Paso 4: Dinámica Browniana con muchas partículas. \n",
    "\n",
    "Hasta ahora sólo hemos visto qué pasa cuando tenemos 1 partícula. Pero puede ser que las partículas interactuen entre ellas. ¿Cómo podemos hacer esto? El potenciál U dependerá de las posiciones de las demás partículas. \n",
    "\n",
    "[1] Haz una simulación considerando 10 partículas, 5 con carga positiva, 5 con carga negativa (posiciones iniciales aleatorias). Utiliza el potenciál de Coulomb para esta simulación. ¿Qué sucede?\n",
    "\n"
   ]
  },
  {
   "cell_type": "markdown",
   "metadata": {},
   "source": [
    "## Paso 5: Condiciones a la frontera. \n",
    "\n",
    "En este paso, vamos a intentar poner condiciones sobre la frontera del sistema. Para esto, se requiere definir ya sea una condición periódica a la frontera, o una condición suabe sobre el potencial. \n",
    "\n",
    "[1] Haz la misma simulación que en el paso 4, pero con condiciones periódicas a la frontera. ¿Qué sucede ahora? El arreglo final es igual? \n",
    "\n",
    "[2] Ahora pon una barrera de potencial grande en la frontera, de forma que las partículas no puedan atravesarla, sino que reboten. ¿Qué diferencias encuentras? "
   ]
  },
  {
   "cell_type": "markdown",
   "metadata": {},
   "source": [
    "# Notas: \n",
    "\n",
    "1. Esta práctica, en su paso 5 es más complicada que la práctica de correr bajo la lluvia y eso se tomará en cuenta de la siguiente forma: si hacen esta práctica, se les perdonará una tarea más (o sea, 2 tareas en vez de una). \n",
    "- En esta práctica es MUY recomendable hacer videos. No recomiendo que hagan esta práctica si no pueden usar Plots.\n",
    "- Cita absolutamente todo lo que uses. Codigos de otras personas, artículos, libros, wikipedia, el blog de alguien, etc. \n",
    "- Si algo de la práctica no lo entiendes, escríbeme inmediatamente. No responderé a todos, sólo a los primeros 3-5 que me escriban. \n",
    "- Puedes pedirle ayuda a tus compañeros. Aunque esto es \"como un examen\", no implica que no puedas pedir ayuda. Sólo no se acepta que copies, pero puedes asesorarte tanto con Ivonne, como con Daniel, como con tus amigos tanto como necesites. \n",
    "- Tienes 6h para hacer este trabajo en clase, pero puedes asesorarte fuera de la clase también. "
   ]
  },
  {
   "cell_type": "markdown",
   "metadata": {},
   "source": []
  }
 ],
 "metadata": {
  "kernelspec": {
   "display_name": "Julia 0.4.6",
   "language": "julia",
   "name": "julia-0.4"
  },
  "language_info": {
   "file_extension": ".jl",
   "mimetype": "application/julia",
   "name": "julia",
   "version": "0.4.6"
  }
 },
 "nbformat": 4,
 "nbformat_minor": 0
}
