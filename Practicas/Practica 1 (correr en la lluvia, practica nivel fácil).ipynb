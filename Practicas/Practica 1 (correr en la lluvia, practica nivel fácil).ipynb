{
 "cells": [
  {
   "cell_type": "markdown",
   "metadata": {},
   "source": [
    "# Correr bajo la lluvia\n",
    "\n",
    "¿Alguna vez te haz preguntado a qué velocidad conviene correr cuando está lloviendo? \n",
    "\n",
    "En esta práctica obtendrás un programa para saber si conviene que camines, corras a toda velocidad o hay alguna velocidad preferente. \n",
    "\n",
    "Lo primero que necesitas hacer es modelar adecuadamente la lluvia. Esto lo harás en varios pasos: \n",
    "\n",
    "## Paso 1: Modelo de caida libre con fricción cuadrática \n",
    "\n",
    "El agua de lluvia generalmente cae desde una distancia suficiente, como para alcanzar lo que se conoce como \"velocidad terminal\". Lo primero que necesitamos es saber con qué velocidad, aproximadamente, caen las gotas de lluvia. \n",
    "\n",
    "[1] Escribe un modelo de caida libre con fricción dependiente del radio de la gota de lluvia y la velocidad cuadrática de la lluvia. \n",
    "\n",
    "[2] Resuelve tu modelo usando el método de Runge Kutta de 4to orden, para valores \"sensatos\" de tamaños de radio de las gotas y coeficiente de fricción de una esfera de agua en el aire. (Busca en la literatura estos datos).\n",
    "\n",
    "[3] Haz una función que, dado el radio de una gota, obtena su velocidad terminal. "
   ]
  },
  {
   "cell_type": "markdown",
   "metadata": {},
   "source": [
    "## Paso 2: Modelo de mojado sin viento\n",
    "\n",
    "Ahora necesitamos saber qué tanta lluvia cae sobre una persona en movimiento. Puedes calcular, fácilmente, la cantidad de agua de cada gota de lluvia. \n",
    "\n",
    "[1] Haz una función que calcule el volumen de agua de cada gota. \n",
    "\n",
    "Ahora bien, puedes estimar la cantidad de gotas que caen por segundo en un área dada, sabiendo la tasa de lluvia (mm de lluvia por minuto). \n",
    "\n",
    "[2] Haz una función que calcule la cantidad de gotas por segundo por área, como función de la tasa de lluvia. \n",
    "\n",
    "Con eso sabes cuánto se mojará una persona ( por ejemplo tú) si esta está parada en un lugar y no hay viento. ¿Qué sucede si la persona empieza a caminar? \n",
    "\n",
    "[3] Haz una función que calcule la cantidad de agua que una persona (tú) recibe, si se encuentra caminando a una velocidad constante \"v\" bajo la lluvia como función del tiempo. Utiliza los resultados del paso 1 para que tu cálculo sea en función del radio de la gota y la tasa de lluvia. "
   ]
  },
  {
   "cell_type": "markdown",
   "metadata": {},
   "source": [
    "## Paso 3: Caminata\n",
    "\n",
    "Para el caso sin vieno, sólo falta considerar una distancia y minimizar la cantidad de agua recibida, como función de la velocidad del caminante. Para esto: \n",
    "\n",
    "[1] Haz una función que calcule la cantidad de agua recibida como función de la distancia (y no del tiempo). \n",
    "\n",
    "[2] Utiliza las deribadas numéricas y el método de Newton para encontrar la velocidad óptima. Recuerda que los mínimos se encuentran igualando la primera derivada de una función con 0. \n",
    "\n",
    "[3] Asegúrate que lo que encontraste fue un mínimo. "
   ]
  },
  {
   "cell_type": "markdown",
   "metadata": {},
   "source": [
    "## Paso 4: Agregar viento. \n",
    "\n",
    "¿Qué sucede si ahora incluyes viento en tu modelo?\n",
    "\n",
    "[1] Discute qué papel juega la el hecho de que una caminata sea bidimensional y como se puede evitar que el análisis sea bidimensional, y se considere sólo unidimensional. \n",
    "\n",
    "[2] Corrige tu modelo para agregar una velocidad en el viento. "
   ]
  },
  {
   "cell_type": "markdown",
   "metadata": {},
   "source": [
    "## Paso 5: Clima cambiante\n",
    "\n",
    "Es bien sabido que el clima es cambiante. La dirección del vieno es cambiante y también la tasa de lluvia. Supon que la predicción del clima es la que Ivonne te dio. \n",
    "\n",
    "Obten la función de velocidad que haría que te mojes menos para llegar a tu destino. "
   ]
  },
  {
   "cell_type": "markdown",
   "metadata": {},
   "source": [
    "## Notas: \n",
    "\n",
    "1. En esta práctica se espera que busques bibliografía para documentar tu modelo. También que pongas gráficas y animaciones (no es requicito las animaciones, pero te puede ayudar en la calificación) y que compares algunos de tus resultados con resultados experimentales (el cálculo de la velocidad terminal, por ejemplo). Entre más información busques, mejor nota tendrás. Se trata de que investigues un poco. \n",
    "- Cita absolutamente todo lo que uses. Codigos de otras personas, artículos, libros, wikipedia, el blog de alguien, etc. \n",
    "- Si algo de la práctica no lo entiendes, escríbeme inmediatamente. No responderé a todos, sólo a los primeros 3-5 que me escriban. \n",
    "- Puedes pedirle ayuda a tus compañeros. Aunque esto es \"como un examen\", no implica que no puedas pedir ayuda. Sólo no se acepta que copies, pero puedes asesorarte tanto con Ivonne, como con Daniel, como con tus amigos tanto como necesites. \n",
    "- Tienes 6h para hacer este trabajo en clase, pero puedes asesorarte fuera de la clase también. \n",
    "- Gran parte de lo que aquí se obtendrá se podría obtener analíticamente. Compara con los resultados analíticos. \n",
    "- Si se te ocurren aplicaciones físicas para este problema (o lees de ellas), escríbelas en una \"bonita\" introducción a tu reporte. \n",
    "- Esta es y será, por mucho, la práctica más sencilla, aunque quizá también la menos emocionante. "
   ]
  },
  {
   "cell_type": "code",
   "execution_count": null,
   "metadata": {
    "collapsed": true
   },
   "outputs": [],
   "source": []
  }
 ],
 "metadata": {
  "kernelspec": {
   "display_name": "Julia 0.4.6",
   "language": "julia",
   "name": "julia-0.4"
  },
  "language_info": {
   "file_extension": ".jl",
   "mimetype": "application/julia",
   "name": "julia",
   "version": "0.4.6"
  }
 },
 "nbformat": 4,
 "nbformat_minor": 0
}
