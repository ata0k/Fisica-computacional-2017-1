{
 "cells": [
  {
   "cell_type": "markdown",
   "metadata": {
    "collapsed": true
   },
   "source": [
    "Fecha Límite para entregar reporte de la primera práctica\n",
    "\n",
    "##  Martes 15 de Noviembre del 2016 \n",
    "\n",
    "Fecha Límite para entregar reporte de la segunda práctica: \n",
    "\n",
    "## Jueves 24 de Noviembre del 2016\n",
    "\n",
    "Fechas para hacer sus exposiciones\n",
    "\n",
    "##  Martes 29 de Noviembre\n",
    "\n",
    "1. César Villareal\n",
    "2. \n",
    "3. \n",
    "4. \n",
    "5. \n",
    "6. \n",
    "\n",
    "## Jueves 1 de Diciembre\n",
    "\n",
    "1. Edrick Solís González\n",
    "2. Alejandra Díaz y Cristo Igor\n",
    "3. Humberto y Diego\n",
    "4. Daniel Martinez\n",
    "5. Juan Carlos Obeso\n",
    "6. \n",
    "\n",
    "## Martes 6 de Diciembre\n",
    "\n",
    "1. Rivera Lopez Rodrigo\n",
    "2. Karen Lozano\n",
    "3. Efrain Condés \n",
    "4. \n",
    "5. \n",
    "6. \n",
    "\n",
    "## Jueves 8 de Diciembre\n",
    "\n",
    "1. Oswaldo Adapta\n",
    "2. Rodrigo Allan y Fabiola Trujano\n",
    "3. Estefanía y Alberto\n",
    "4. Moises y Marín\n",
    "5. Osvaldo y Miroslava\n",
    "6. Noe y Manuel"
   ]
  },
  {
   "cell_type": "code",
   "execution_count": null,
   "metadata": {
    "collapsed": true
   },
   "outputs": [],
   "source": []
  }
 ],
 "metadata": {
  "kernelspec": {
   "display_name": "Julia 0.4.5",
   "language": "julia",
   "name": "julia-0.4"
  },
  "language_info": {
   "file_extension": ".jl",
   "mimetype": "application/julia",
   "name": "julia",
   "version": "0.4.5"
  }
 },
 "nbformat": 4,
 "nbformat_minor": 0
}
