{
 "cells": [
  {
   "cell_type": "markdown",
   "metadata": {},
   "source": [
    "# Ecuación de onda \n",
    "\n",
    "La ecuación de onda es la siguiente: \n",
    "\n",
    "\\begin{equation}\n",
    "{ \\partial^2 u \\over \\partial t^2 } = c^2 \\Delta u\n",
    "\\end{equation}\n",
    "\n",
    "donde $\\Delta u =  \\nabla^2 u$\n",
    "\n",
    "Esta ecuación es una ecuación diferencial parcial hiperbólica, la cual no es nada fácil de resolverse. Sin embargo, sabemos que cuando se trata de una onda estacionaria (con es el caso de una onda confinada a un área) la solución tiene que ser de la forma: $u(x,y,t)=sin(2\\pi ft)s(x,y)$\n",
    "\n",
    "donde $f$ es una frecuencia dada (la del temblor). $s$ la podemos obtener con series de fourier y luego, metiendo las condiciones a la frontera resolver la ecuación. Cuando se trata de una frontera tipo cuadrada, con condiciones periódicas a la frontera y además aseguramos que el centro del cuadrad $(x,y=0)$ $s(x,y)=0$, el análisis se vuelve manejable, por lo que podemos obtener la frecuencia \n",
    "\n",
    "Usando condiciones a la frontera adecuadas, uno puede reducir las series de fourier a \n",
    "\n",
    "\\begin{equation}\n",
    "s(x,y)=\\sum_{n=0}^\\infty \\sum_{m=0}^\\infty a_{n,m} sin(\\pi n x)sin(\\pi m y)\n",
    "\\end{equation}\n",
    "\n",
    "luego, aplicando la equcación de onda y reduciendo obtenemos que \n",
    "\n",
    "\\begin{equation}\n",
    "\\sum_{n=0}^\\infty \\sum_{m=0}^\\infty a_{n,m}((n^2+m^2)π2−(2 \\pi f/c)^2)sin(\\pi nx)sin(\\pi my) = 0\n",
    "\\end{equation}\n",
    "\n",
    "lo que implica a su vez que: \n",
    "\n",
    "\\begin{equation}\n",
    "a_{n,m}((n^2+m^2)\\pi^2−(2πf/c)^2)=0\n",
    "\\end{equation}\n",
    "\n",
    "lo que implica que o bien $a_{n,m} = 0$ o $ n^2+m^2=(2f/c)^2 = 0$\n",
    "\n",
    "Esta ecuación es una ecuación diofantina, que tiene solución sólo si $(2f/c)^2$ es un entero. \n",
    "\n",
    "En general hay a lo más 2 pares de enteros que satisfacen la ecuacion previa. \n",
    "\n",
    "Como sólo hay a lo más 2 pares diferentes, podemos reducir la suma $s(x,y)=\\sum_{n=0}^\\infty \\sum_{m=0}^\\infty a_{n,m} sin(\\pi n x)sin(\\pi m y)$ a sólo los valores $(n,m)$ donde esa ecuación se cumple, es decir: $ s(x,y)=asin(πnx)sin(πmy)+bsin(πmx)sin(πny)$. \n",
    "\n",
    "Así, tenemos 4 parámetros, $a,b,n,m$ con los cuales jugar. $n$ y $m$ de alguna forma definen la frecuencia, por lo que podemos poner uno de ellos en función de la frecuencia. $a$ y $b$ por otra parte están relacionados con las amplitudes en las direcciones $x$ y $y$. En general, si el medio (la placa) es homogenia, podemos asumir que $a=b=A$ donde $A$ es la amplitud de la onda (del temblor). \n",
    "\n",
    "Por lo tanto, nos quedamos con 3 parámetros, la frecuencia, la amplitud y uno más. Ese último parámetro, en el caso de las placa cuadrada es lo que nos da la opción de \"fijar\" un punto fijo más. \n",
    "\n",
    "[1] haz una gráfica de los puntos máximos de destrucción en la placa cuadrada. \n",
    "\n",
    "[2] haz una gráfica de los puntos donde no hay peligro. \n"
   ]
  },
  {
   "cell_type": "markdown",
   "metadata": {},
   "source": [
    "Como habrán notado, sólo para ciertos valores de la frecuencia habrá ondas estacionarias. Esas frecuencias son las que se conocen como \"frecuencias naturales\" y probocan lo que ya debieron haber obtenido, puntos de máxima vibración y puntos donde la vibración es 0. Sin embargo, los temblores no siempre ocurren a las frecuencias naturales, de hecho nunca. Por lo tanto, tendríamos que resolver la ecuación en un estado no-estacionario. Eso complica mucho las cosas. \n",
    "\n",
    "Para resolver esta clase de ecuaciones diferenciales parciales evolutivas (o sea, super complicadas) se usa un método llamado método del elemento finito. \n",
    "\n",
    "El método es relativamente complicado de programarse pero por suerte para nosotros, existen ya paqueterías en Julia que lo hacen. \n",
    "\n",
    "ver: http://juliadiffeq.github.io/DifferentialEquations.jl/latest/index.html\n",
    "\n"
   ]
  },
  {
   "cell_type": "markdown",
   "metadata": {},
   "source": [
    "# Formas alternativas al uso de ecuaciones diferenciales. \n",
    "\n",
    "Lo triste del asunto es que incluso cuando existen ya métodos para resolver esta clase de ecuaciones, cuando la frontera es suficientemente complicada (como por ejemplo, la forma de un lago), estos métodos dejan de ser efectivos y suele ser incluso complicado poner las condiciones a la frontera. \n",
    "\n",
    "Para buscar una solución alternativa, podemos intentar pensar en las propiedades de las ondas. \n",
    "\n",
    "Las ondas en general (incluso las de sonido, como son los temblores), se comportan como partículas con fase cuando la difracción es despreciable. \n",
    "\n",
    "[3] ¿En qué casos es despreciable la difracción?\n",
    "\n",
    "En el caso que etudiamos, la difracción es despreciable, por lo que podemos pensar que nuestra onda simplemente se comportará como miles de partículas con fase. Estas partículas, al igual que los fotones, se refractarán y reflejarán al cambiar de medio. Pensemos que en nuestra placa las ondas se generan en el centro y que en los extremos todas las ondas son reflejadas (nada refractado). Entonces, sería como si del centro salieran partículas en todas direcciones y estas se estrellaran con los bordes de la placa, reflejándose siguiendo la ley de snell de la reflexión. \n",
    "\n",
    "[4] Haz una función que tome como argumentos la posición y velocidad de una partícula puntual dentro de una caja cuadrada y el tiempo t, y regrese la posición final de la partícula, la velocidad final y el número de veces que rebotó la partícula en la caja. Utiliza la ley de Snell de la reflexión. \n",
    "\n",
    "[5] Haz otra función que, dada la una frecuencia, el número de veces que la partícula rebotó, y el tiempo, regrese la fase en la que se encuentra la partícula. Recuerda que cada vez que una onda se refleja se invierte su fase. \n",
    "\n",
    "[6] ¿Cómo podrías usar esto para calcular lo que se pide en los problemas [1] y [2]? \n"
   ]
  },
  {
   "cell_type": "markdown",
   "metadata": {},
   "source": [
    "Lo que estás haciendo aquí se conoce como dinámica molecular y tiene, por supuesto, muchísimas aplicaciones más que veremos durante las próximas semanas. "
   ]
  },
  {
   "cell_type": "code",
   "execution_count": null,
   "metadata": {
    "collapsed": true
   },
   "outputs": [],
   "source": []
  }
 ],
 "metadata": {
  "kernelspec": {
   "display_name": "Julia 0.4.5",
   "language": "julia",
   "name": "julia-0.4"
  },
  "language_info": {
   "file_extension": ".jl",
   "mimetype": "application/julia",
   "name": "julia",
   "version": "0.4.5"
  }
 },
 "nbformat": 4,
 "nbformat_minor": 0
}
