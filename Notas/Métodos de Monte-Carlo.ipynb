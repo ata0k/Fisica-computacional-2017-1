{
 "cells": [
  {
   "cell_type": "markdown",
   "metadata": {},
   "source": [
    "# Apuestas\n",
    "\n",
    "Hemos visto que para integrar una función podemos usar directamente la definición de la integral, o incluso, mediante interpolación podemos aplicar la regla de Simpson y obtner resultados de forma bastante rápida; sin embargo, funciones como \n",
    "\n",
    "$sin(\\frac{1}{x^2})$ \n",
    "\n",
    "son demasiado difíciles de integrarse debido a que varían mucho cuando x es cercano a 0. Ya en las primeras tareas pudieron ver que los metodos comunes fallan para esta clase de integrales. ¿Cómo podemos calcular la integral de esta clase de funciones?\n",
    "\n",
    "La respuesta la podemos encontrar con los apostadores. ¿Hay algún apostador en casa? \n",
    "\n",
    "¿Cómo resolverías este problema?\n",
    "\n",
    "\n",
    "$\\int_{-3} ^3 sin(\\frac{1}{x^2})$\n",
    "\n",
    ".\n",
    ".\n",
    ".\n",
    ".\n",
    ".\n",
    ".\n",
    ".\n",
    ".\n",
    ".\n",
    ".\n",
    ".\n",
    ".\n",
    ".\n",
    ".\n",
    ".\n",
    ".\n",
    ".\n",
    ".\n",
    ".\n",
    ".\n",
    ".\n",
    "\n",
    "Para resolverlo lo que tenemos que hacer es lanzar dardos aleatoriamente al cuadro. Si caen en el área formada entre $y=0$ y $sin(\\frac{1}{x^2})$, los contamos, sino no. \n",
    "\n",
    "[1] Haz una función que calcule el número de tiros que aciertan en el área entre el eje $y=0$ y una función $f(x)$. Para esto pre-define el \"cuadro\" donde pueden caer los tiros. \n",
    "\n",
    "[2] ¿Cómo puedes calcular el área bajo la función $f$ usando el número de tiros que aciertan?\n",
    "\n",
    "[3] Haz una función que calcule la integral de la función $f$ entre los puntos #x=a$ y $x=b$ usando el algoritmo que acabas de diseñar. \n",
    "\n",
    "\n",
    "Lo que acabas de descubrir se conoce como método de Monte Carlo (por el famoso casino de Monte Carlo) para encontrar la integral de una función. \n",
    "\n",
    "\n"
   ]
  },
  {
   "cell_type": "code",
   "execution_count": null,
   "metadata": {
    "collapsed": true
   },
   "outputs": [],
   "source": []
  }
 ],
 "metadata": {
  "kernelspec": {
   "display_name": "Julia 0.4.5",
   "language": "julia",
   "name": "julia-0.4"
  },
  "language_info": {
   "file_extension": ".jl",
   "mimetype": "application/julia",
   "name": "julia",
   "version": "0.4.5"
  }
 },
 "nbformat": 4,
 "nbformat_minor": 0
}
