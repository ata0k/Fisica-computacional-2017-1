{
 "cells": [
  {
   "cell_type": "markdown",
   "metadata": {},
   "source": [
    "# Profesor"
   ]
  },
  {
   "cell_type": "markdown",
   "metadata": {},
   "source": [
    "~~Dr.~~ ~~Ricardo~~ Ata~~hualpa~~ ~~Solorzano Kraemer~~,  tú ~~usted~~\n",
    "\n",
    "Depto. de Física, Fac. de Ciencias\n",
    "4o. piso, Cubículo #10\n",
    "\n",
    "`ata.kraemer@gmail.com`\n",
    "\n",
    "Ayudante: \n",
    "1. Ivonne Dominguez Román:  `ivonne_fis@ciencias.unam.mx`"
   ]
  },
  {
   "cell_type": "markdown",
   "metadata": {},
   "source": [
    "# Curso "
   ]
  },
  {
   "cell_type": "markdown",
   "metadata": {},
   "source": [
    "- Física Computacional, 7o. semestre de Física\n",
    "\n",
    "- Grupo #8369\n",
    "\n"
   ]
  },
  {
   "cell_type": "markdown",
   "metadata": {},
   "source": [
    "# ¿Qué estamos haciendo aquí? "
   ]
  },
  {
   "cell_type": "markdown",
   "metadata": {},
   "source": [
    "- Aprender a hacer física con la compu\n",
    "- Compu como **herramienta**\n",
    "\n",
    "- Escribir programas\n",
    "- Aprender a programar bien (al estilo moderno)"
   ]
  },
  {
   "cell_type": "markdown",
   "metadata": {},
   "source": [
    "- Lenguaje: Julia\n",
    "- ¿Por qué Julia?"
   ]
  },
  {
   "cell_type": "markdown",
   "metadata": {},
   "source": [
    "- \"Feeling\" estilo Python, Matlab, (Ruby), R, Octave\n",
    "- Se puede utilizar de manera **interactiva**\n",
    "- Software libre\n",
    "\n",
    "- Julia es **rápido**\n",
    "\n",
    "- Julia parece ser interpretado (como Python), pero es compilado"
   ]
  },
  {
   "cell_type": "markdown",
   "metadata": {},
   "source": [
    "- Métodos numéricos\n",
    "- Algoritmos (una \"receta\" computacional)\n",
    "- **Aproximar** soluciones a problemas\n",
    "- Modelos matemáticos"
   ]
  },
  {
   "cell_type": "markdown",
   "metadata": {},
   "source": [
    "- ¡Para divertirnos!"
   ]
  },
  {
   "cell_type": "markdown",
   "metadata": {},
   "source": [
    "# ¿Qué tipo de problemas resolveremos? "
   ]
  },
  {
   "cell_type": "markdown",
   "metadata": {},
   "source": [
    "- Ecuaciones diferenciales ordinarias (lineales y nolineales); e.g. problema de los 3 cuerpos\n",
    "\n",
    "- Ecuaciones diferenciales parciales; e.g. mecánica de fluidos, ecuaciones de Einstein, ecn de calor, ecn de onda\n",
    "\n",
    "- [Optimización]\n",
    "\n",
    "- Álgebra lineal numérica; e.g. encontrar eigenestados en mecánica cuántica (diagonalizar matrices grandes)"
   ]
  },
  {
   "cell_type": "markdown",
   "metadata": {},
   "source": [
    "# Dinámica del curso "
   ]
  },
  {
   "cell_type": "markdown",
   "metadata": {},
   "source": [
    "- Muy práctico: \"hands-on\"\n",
    "- Un guión por clase o dos clases: ejercicios\n",
    "- \"Flipped classroom\" -- salón volteado; c.f. Lorena Barba (keynote en SciPy 2014 en YouTube)\n",
    "- ¡Retroalimentación!"
   ]
  },
  {
   "cell_type": "markdown",
   "metadata": {},
   "source": [
    "http://juliabox.org"
   ]
  },
  {
   "cell_type": "markdown",
   "metadata": {},
   "source": [
    "En la terminal: \n",
    "\n",
    "    julia\n",
    "    using IJulia\n",
    "    notebook()"
   ]
  },
  {
   "cell_type": "markdown",
   "metadata": {},
   "source": [
    "# Evaluación "
   ]
  },
  {
   "cell_type": "markdown",
   "metadata": {},
   "source": [
    "- Tareas: 30%\n",
    "- Reportes: 30%\n",
    "- Proyecto final: 40%"
   ]
  },
  {
   "cell_type": "markdown",
   "metadata": {},
   "source": [
    "# Otra cosa padre "
   ]
  },
  {
   "cell_type": "markdown",
   "metadata": {},
   "source": [
    "- Reúne y refuerza muchos temas de la carrera"
   ]
  },
  {
   "cell_type": "code",
   "execution_count": null,
   "metadata": {
    "collapsed": true
   },
   "outputs": [],
   "source": []
  }
 ],
 "metadata": {
  "kernelspec": {
   "display_name": "Julia 0.4.5",
   "language": "julia",
   "name": "julia-0.4"
  },
  "language_info": {
   "file_extension": ".jl",
   "mimetype": "application/julia",
   "name": "julia",
   "version": "0.4.5"
  }
 },
 "nbformat": 4,
 "nbformat_minor": 0
}
