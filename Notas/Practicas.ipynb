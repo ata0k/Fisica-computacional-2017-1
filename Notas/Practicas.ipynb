{
 "cells": [
  {
   "cell_type": "markdown",
   "metadata": {},
   "source": [
    "## Descripción de las prácticas "
   ]
  },
  {
   "cell_type": "markdown",
   "metadata": {},
   "source": [
    "Seran como practicas de laboratorio donde tendran (en grupos de 2, máximo 3) que hacer un programa, obtener resultados y finalmente reportarlos en forma de articulo. Habrá una por cada bloque, exceptuando el primero. Es decir, debería haber entre 5 y 6 prácticas. Estas serán el equivalente a los exámenes. Para realizar estas prácticas, se descargará un notebook con una breve introducción, instrucciones para realizar el \"experimento computacional\" y algunas referencias a revisarse. "
   ]
  },
  {
   "cell_type": "markdown",
   "metadata": {},
   "source": [
    "## Estructura del proyecto"
   ]
  },
  {
   "cell_type": "markdown",
   "metadata": {},
   "source": [
    "Hay que entregar el notebook con el código en Julia con la introducción ampliada, incluyendo las **ecuaciones** correspondientes, tu **código** (resaltando los puntos importantes, delicados y/o interesantes; el código se puede incluir como un script `.jl` aparte si prefieres), los **gráficos y animaciones**, y **conclusiones físicas**. También debes incluir las **referencias** de los libros (y/o artículos etc.) que hayas utilizado. "
   ]
  }
 ],
 "metadata": {
  "kernelspec": {
   "display_name": "Julia 0.4.5",
   "language": "julia",
   "name": "julia-0.4"
  },
  "language_info": {
   "file_extension": ".jl",
   "mimetype": "application/julia",
   "name": "julia",
   "version": "0.4.5"
  }
 },
 "nbformat": 4,
 "nbformat_minor": 0
}
