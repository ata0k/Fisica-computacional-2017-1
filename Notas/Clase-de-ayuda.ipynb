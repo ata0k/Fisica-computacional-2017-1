{
 "cells": [
  {
   "cell_type": "markdown",
   "metadata": {},
   "source": [
    "# Ayuda con las funciones: \n",
    "\n",
    "***TODO*** en Julia son funciones, por lo que tienen que aprender a hacer funciones como unos expertos. \n",
    "\n",
    "funciones del tipo $f(x) = x^2$ son extremadamente faciles. Escriben tal cual eso en la linea de comandos y listo. \n",
    "\n",
    "Algo importante aqui es diferenciar entre como se escribe un vector, un arreglo y como se escribe una funcion o una \"tupla\". \n",
    "\n",
    "Las funciones ***SIEMPRE*** se escriben poniendo un nombre, por ejemplo \"f\" y pegado se abren parentesis, se escriben los argumentos y se cierran parentesis. \n",
    "\n",
    "Los arrelgos se escriben usando corchetes $[]$. \n",
    "\n",
    "Ejemplos (haganlo!!): \n"
   ]
  },
  {
   "cell_type": "code",
   "execution_count": null,
   "metadata": {
    "collapsed": false
   },
   "outputs": [],
   "source": [
    "f(x) = x^2 #noten que uso parentesis pegado a la funcion\n",
    "f(3) #ahora evaluo."
   ]
  },
  {
   "cell_type": "code",
   "execution_count": null,
   "metadata": {
    "collapsed": false
   },
   "outputs": [],
   "source": [
    "x = [1;2;3] #esto es un arreglo, noten que uso corchetes"
   ]
  },
  {
   "cell_type": "markdown",
   "metadata": {},
   "source": [
    "En los arreglos se puede identificar de que tipo se trata. Por ejemplo: "
   ]
  },
  {
   "cell_type": "code",
   "execution_count": null,
   "metadata": {
    "collapsed": false
   },
   "outputs": [],
   "source": [
    "x = Float64[1;2;3] "
   ]
  },
  {
   "cell_type": "markdown",
   "metadata": {},
   "source": [
    "Si se sabe que clase de variable se usara, conviene definir el tipo, pues esto acelerara su codigo. "
   ]
  },
  {
   "cell_type": "markdown",
   "metadata": {},
   "source": [
    "Hay funciones que estan definidas de forma vectorial, otras que no lo estan. Por ejemplo, ^ no esta definida de forma vectorial, por lo que, al evaluar f(x), me genera un error:"
   ]
  },
  {
   "cell_type": "code",
   "execution_count": null,
   "metadata": {
    "collapsed": false
   },
   "outputs": [],
   "source": [
    "f(x)"
   ]
  },
  {
   "cell_type": "markdown",
   "metadata": {},
   "source": [
    "Para corregir esto, utilizamos .^ "
   ]
  },
  {
   "cell_type": "code",
   "execution_count": null,
   "metadata": {
    "collapsed": false
   },
   "outputs": [],
   "source": [
    "f(x) = x .^ 2\n",
    "f(x)"
   ]
  },
  {
   "cell_type": "markdown",
   "metadata": {},
   "source": [
    "Es un error sumamente comun en sus intentos. Cuiden que si usaran argumentos vectoriales, las funciones acepten vectores. Cuiden tambien que una funcion use parentesis, un vector usa corchetes. \n",
    "\n",
    "Para salir de dudas, a veces es util utilizar la ayuda del manual. Para esto, pueden usar ? antes de la funcion: "
   ]
  },
  {
   "cell_type": "code",
   "execution_count": null,
   "metadata": {
    "collapsed": false
   },
   "outputs": [],
   "source": [
    "?+"
   ]
  },
  {
   "cell_type": "markdown",
   "metadata": {},
   "source": [
    "Recuerden que todo son funciones, asi que tambien se puede escribir +(a,b), o ^(a,b). La ayuda no esta disponible en el 100% de los casos. Por ejemplo: "
   ]
  },
  {
   "cell_type": "code",
   "execution_count": null,
   "metadata": {
    "collapsed": false
   },
   "outputs": [],
   "source": [
    "?^"
   ]
  },
  {
   "cell_type": "markdown",
   "metadata": {},
   "source": [
    "En ese caso pueden usar la pagina de documentacion de Julia: http://docs.julialang.org\n",
    "\n",
    "Julia tiene predefinidas muchisimas funciones (agradablemente) que ademas estan escritas de forma muy eficiente generalmente, por lo que no vale la pena que hagan todos los programas (excepto por cuestiones pedagogicas). "
   ]
  },
  {
   "cell_type": "markdown",
   "metadata": {},
   "source": [
    "Las funciones en Julia, como ya todos deben de saber, se pueden escribir de forma que se especifique el tipo de argumento. \n",
    "\n",
    "por ejemplo: "
   ]
  },
  {
   "cell_type": "code",
   "execution_count": null,
   "metadata": {
    "collapsed": false
   },
   "outputs": [],
   "source": [
    "f2(x::Int64) = x^2\n",
    "f2(2.3) "
   ]
  },
  {
   "cell_type": "code",
   "execution_count": null,
   "metadata": {
    "collapsed": false
   },
   "outputs": [],
   "source": [
    "f(2)"
   ]
  },
  {
   "cell_type": "markdown",
   "metadata": {},
   "source": [
    "Ademas se pueden usar funciones con el mismo nombre, aunque numero diferente de variables, o diferente tipo de variables. Por ejemplo"
   ]
  },
  {
   "cell_type": "code",
   "execution_count": null,
   "metadata": {
    "collapsed": false
   },
   "outputs": [],
   "source": [
    "f2(x::Float64) = 3x\n",
    "f2(2),f2(2.3)"
   ]
  },
  {
   "cell_type": "markdown",
   "metadata": {},
   "source": [
    "Tambien existen funciones de funciones, como ya vimos muchas veces:"
   ]
  },
  {
   "cell_type": "code",
   "execution_count": null,
   "metadata": {
    "collapsed": false
   },
   "outputs": [],
   "source": [
    "g(f::Function,a) = f(a)\n",
    "g(f,3)\n"
   ]
  },
  {
   "cell_type": "markdown",
   "metadata": {},
   "source": [
    "Tambien se pueden dar valores predefinidos, y valores que usen los nombres de las variables:"
   ]
  },
  {
   "cell_type": "code",
   "execution_count": null,
   "metadata": {
    "collapsed": false
   },
   "outputs": [],
   "source": [
    "f3(x,a=1 ; c=2.1,d=3.3) = a*x +c -d\n",
    "f3(1), f3(1,2), f3(1,2,d=2)"
   ]
  },
  {
   "cell_type": "markdown",
   "metadata": {},
   "source": [
    "por ultimo, una funcion puede tener argumentos infinitos. Para esto usamos \"...\" despues de la ultima variable: "
   ]
  },
  {
   "cell_type": "code",
   "execution_count": null,
   "metadata": {
    "collapsed": false
   },
   "outputs": [],
   "source": [
    "f4(x,a...) = a\n",
    "f4(1,2,3,4)"
   ]
  },
  {
   "cell_type": "markdown",
   "metadata": {},
   "source": [
    "Para utilizar los argumentos con ..., podemos utilizar la funcion collect, que transforma los diferentes valores en un arreglo: "
   ]
  },
  {
   "cell_type": "code",
   "execution_count": null,
   "metadata": {
    "collapsed": false
   },
   "outputs": [],
   "source": [
    "function f5(x,a...)\n",
    "    A = collect(a)\n",
    "    return A[1]*x, A\n",
    "end\n",
    "f5(1,2,3,4,5)"
   ]
  },
  {
   "cell_type": "markdown",
   "metadata": {},
   "source": [
    "# Ayuda con los vectores\n",
    "\n",
    "Ya mencionamos que los vectores se pueden hacer con arreglos, es decir, usando corchetes. \n",
    "\n",
    "Si no especificamos que se trata de valores flotantes, Julia lo interpretara como \"any\" es decir, cualquier cosa. "
   ]
  },
  {
   "cell_type": "code",
   "execution_count": null,
   "metadata": {
    "collapsed": false
   },
   "outputs": [],
   "source": [
    "[\"hola\", 1, 1.1, 1//2]"
   ]
  },
  {
   "cell_type": "markdown",
   "metadata": {},
   "source": [
    "Para volver vector un arreglo, podemos definir de que tipo de variable se trata, o bien usar la funcion \"Vector()\". Yo recomiendo definir el tipo de variable que se usara. "
   ]
  },
  {
   "cell_type": "code",
   "execution_count": null,
   "metadata": {
    "collapsed": false
   },
   "outputs": [],
   "source": [
    "Int64[1,2,3,4], Vector([1,2,3,4])"
   ]
  },
  {
   "cell_type": "markdown",
   "metadata": {},
   "source": [
    "Entre los arreglos tambien hay la posibilidad de hacer \"arreglos de arreglos\" los cuales, si se usan componentes numericas (no \"any\") y cuyas entradas tienen siempre la misma dimension, se comportan como matrices. "
   ]
  },
  {
   "cell_type": "code",
   "execution_count": null,
   "metadata": {
    "collapsed": false
   },
   "outputs": [],
   "source": [
    "M = [[1,1,3] [2,5,2] [1,3,3]]\n",
    "M*M, inv(M)"
   ]
  },
  {
   "cell_type": "markdown",
   "metadata": {},
   "source": [
    "Hay muchas operaciones que se pueden hacer con matrices. Inversa, diagonal, determinante, etc... Busquen en la documentacion de Julia!! esta como \"Linear Algebra\" y como \"multidimentional arrays\""
   ]
  },
  {
   "cell_type": "markdown",
   "metadata": {},
   "source": [
    "Para extraer las columnas o renglones de una matriz hay varios metodos: "
   ]
  },
  {
   "cell_type": "code",
   "execution_count": null,
   "metadata": {
    "collapsed": false
   },
   "outputs": [],
   "source": [
    "M[1,:], M[:,1], slicedim(M,1,1), slicedim(M,2,1) #depende de lo que quieran hacer..."
   ]
  },
  {
   "cell_type": "markdown",
   "metadata": {},
   "source": [
    "### Como hacer vectorial una funcion que no lo es?\n",
    "\n",
    "usando \"map\": "
   ]
  },
  {
   "cell_type": "code",
   "execution_count": null,
   "metadata": {
    "collapsed": false
   },
   "outputs": [],
   "source": [
    "f33(x) = x^2\n",
    "g33(x) = map(f33,x)\n",
    "g33([1,2,3])"
   ]
  },
  {
   "cell_type": "markdown",
   "metadata": {},
   "source": [
    "# Debugging\n",
    "\n",
    "Es el proceso de limpiar un codigo (programa). Es la parte mas tediosa y donde se invierte mas tiempo en la programacion de algortmos. Normalmente uno pasa unas 4-10 veces mas tiempo limpiando un codigo que haciendolo. \n",
    "\n",
    "Para limpiar uno tiene que conocer algunos de los errores que arroja el programa cuando se intenta correr. Eso tendran que investigarlo por su cuenta. Sin embargo, no siempre lograran encontrar los errores con los mensajes de alerta. La estrategia por excelencia para hacer debugging, es separar el programa en muchas funciones y revisar cada una de ellas. ***Es mas facil revisar en funciones de 2 o 3 lineas, que en funciones de 50-100 lineas*** \n",
    "\n",
    "Otra estrategia, es poner \"println(\"algo\") en diversas partes del programa (donde \"algo\" es cada vez diferente), de forma que puedan identificar donde esta el error. "
   ]
  },
  {
   "cell_type": "markdown",
   "metadata": {},
   "source": [
    "Ahora la solucion de la tarea 4, para que se asusten de lo que no entregaron. "
   ]
  },
  {
   "cell_type": "markdown",
   "metadata": {
    "collapsed": false
   },
   "source": [
    "# Solución de la tarea 4:"
   ]
  },
  {
   "cell_type": "markdown",
   "metadata": {
    "collapsed": false,
    "scrolled": true
   },
   "source": [
    "[1] Checa, usando la función de integral que aquí definí, como varia el error, cuando se varía $\\delta$. Recuerda que la integral es mucho más lenta que la diferencial, así que no hagas demasiados pasos, o tu programa tardará mucho!!"
   ]
  },
  {
   "cell_type": "code",
   "execution_count": null,
   "metadata": {
    "collapsed": false
   },
   "outputs": [],
   "source": [
    "# Copiamos la función integral: \n",
    "using PyPlot\n",
    "Σ(f::Function,x) = sum(f(x))\n",
    "function ∫(f::Function, a,b,δ=1e-4)\n",
    "    if a<b\n",
    "        I = Σ(f,a:δ:b)*δ\n",
    "    else\n",
    "        I = -Σ(f,b:δ:a)*δ\n",
    "    end\n",
    "end\n",
    "\n",
    "# Ahora copiamos lo que se hizo para el caso de la derivada y modificamos lo que corresponde: \n",
    "\n",
    "f(x) = sin(x)\n",
    "f2(x) = -cos(x)  # esto se cambió por la integral de sin(x)\n",
    "err = []\n",
    "for s in 1e-8:1e-8:0.0001  # estos eran demasiados pasos, los reducimos\n",
    "    Δ = abs(( ∫(f,0,π/2,s) + f2(0))/f2(0))  #cambiamos derivada por ∫ y los puntos de evaluación.\n",
    "    push!( err, Δ)\n",
    "end\n",
    "xscale(\"log\")\n",
    "yscale(\"log\")\n",
    "plot(1e-8:1e-8:.0001, err)  #cambiamos aquí también el rango de puntos a evaluarse. \n",
    "xlabel(L\"\\delta\")\n",
    "ylabel(\"Error\")"
   ]
  },
  {
   "cell_type": "markdown",
   "metadata": {},
   "source": [
    "Conclusión, el error decrese con $\\delta$"
   ]
  },
  {
   "cell_type": "markdown",
   "metadata": {},
   "source": [
    "[2] Haz una función de funciones que tenga como argumentos, la función de la que se quieren obtener los ceros, la derivada de esa misma función y una adivinanza y que con ello calcule una mejor aproximación. (Por supuesto, usando lo aprendido en este notebook)\n",
    "\n",
    "[3] Utiliza esta función para implementar el algoritmo de Newton-Raphson, dada la función, la derivada y una adivinanza. **No olvides poner una condición para terminar tu iteración**\n",
    "\n",
    "[4] Haz una función de funciones que calcule los ceros de una función, teniendo sólo como argumentos la función de la que se quieren obtener los ceros, y una adivinanza inicial. Utiliza la derivada numérica del inicio de este notebook e implementala en el algoritmo."
   ]
  },
  {
   "cell_type": "code",
   "execution_count": null,
   "metadata": {
    "collapsed": false
   },
   "outputs": [],
   "source": [
    "#Primero copio la función de derivada:\n",
    "derivada(f::Function,x,h=1e-2) =(1/280*f(x-4h)-4/105*f(x-3h)+1/5*f(x-2h)-4/5*f(x-h)+4/5*f(x+h)-1/5*f(x+2h)+4/105*f(x+3h)-1/280*f(x+4h))/h\n",
    "\n",
    "# el 2:\n",
    "function Adivinanza(f::Function,df::Function, x0)\n",
    "    x0-f(x0)/df(x0)\n",
    "end\n",
    "\n",
    "# el 3:\n",
    "function Newton1(f::Function, df::Function, x0, δ=0.00001)\n",
    "    contador = 0\n",
    "    while abs(f(x0)) > δ\n",
    "        contador +=1\n",
    "        if contador > 1e5\n",
    "            return (\"no se encuentra ningún cero después de 10^5 pasos\")\n",
    "        end\n",
    "        x0 = Adivinanza(f,df,x0)\n",
    "    end\n",
    "    return x0\n",
    "end\n",
    "\n",
    "# el 4: \n",
    "function Adivinanza(f::Function, x0)  #comienzo copiando el ejercicio 2\n",
    "    x0-f(x0)/derivada(f,x0)           #y  sustituyendo df(x0) por derivada(f,x0)\n",
    "end\n",
    "\n",
    "function Newton2(f::Function, x0, δ=0.00001) #copio el ejercicio 3, cambio el nombre de la función \n",
    "    contador = 0                            #y quito la df de aparece. \n",
    "    while abs(f(x0)) > δ\n",
    "        contador +=1\n",
    "        if contador > 1e5\n",
    "            return (\"no se encuentra ningún cero después de 10^5 pasos\")\n",
    "        end\n",
    "        x0 = Adivinanza(f,x0)   \n",
    "    end\n",
    "    return x0\n",
    "end\n",
    "\n"
   ]
  },
  {
   "cell_type": "code",
   "execution_count": null,
   "metadata": {
    "collapsed": false
   },
   "outputs": [],
   "source": [
    "# pruebo con algo básico que mis métodos funcionan\n",
    "f(x) = x^2 -2\n",
    "df(x) = 2x\n",
    "Newton1(f,df,1,1e-15), Newton2(f,-1,1e-15), sqrt(2) "
   ]
  },
  {
   "cell_type": "markdown",
   "metadata": {},
   "source": [
    "Como sí funciona, procedo al ejercicio 5\n",
    "\n",
    "[5] Resuelve las ecuaciones \"$\\cos(x) = e^x $\", \"$ (\\sin(x) - x/2)^2 = 0 $\" y \"$3x^2 +\\tan(x)^2 = 4$\" (grafica las funciones y las soluciones de las ecuaciones)."
   ]
  },
  {
   "cell_type": "code",
   "execution_count": null,
   "metadata": {
    "collapsed": false
   },
   "outputs": [],
   "source": [
    "# (i) cos(x) = exp(x)\n",
    "f(x) = exp(x)-cos(x)\n",
    "# para tener idea de qué ceros hay, utilizo un plot\n",
    "x = -10:0.1:1\n",
    "X = []\n",
    "for i =1:length(x)\n",
    "    push!(X,Newton2(f,x[i]))\n",
    "end\n",
    "plot(x,f(x))\n",
    "plot(x,zeros(length(x)))\n",
    "scatter(X,zeros(length(X)))\n",
    "axis([-10,1,-1.5,2.5])"
   ]
  },
  {
   "cell_type": "code",
   "execution_count": null,
   "metadata": {
    "collapsed": false
   },
   "outputs": [],
   "source": [
    "# (ii) Aquí es una función que es siempre positiva o 0, \n",
    "# por lo que me basta encontrar los ceros de la función sin(x)-x/2. \n",
    "f(x) = sin(x)-x/2\n",
    "f2(x) = f(x).^2\n",
    "# para tener idea de qué ceros hay, utilizo un plot\n",
    "x0 = -3:1:3\n",
    "X = []\n",
    "for i =1:length(x0)\n",
    "    push!(X,Newton2(f,x0[i]))\n",
    "end\n",
    "x = -3:.001:3\n",
    "plot(x,f2(x))\n",
    "plot(x,zeros(length(x)))\n",
    "scatter(X,zeros(length(X)))\n",
    "axis([-3,3,-1.5,1.5])"
   ]
  },
  {
   "cell_type": "code",
   "execution_count": null,
   "metadata": {
    "collapsed": false
   },
   "outputs": [],
   "source": [
    "#(iii) 3x^2+tan(x)^2=4\n",
    "f(x) = 3x.^2 + tan(x).^2 - 4\n",
    "# para tener idea de qué ceros hay, utilizo un plot\n",
    "x = -10:0.1:10\n",
    "x0 = -5:6:5\n",
    "X = []\n",
    "for i =1:length(x0)\n",
    "    push!(X,Newton2(f,x0[i]))\n",
    "end\n",
    "plot(x,f(x))\n",
    "plot(x,zeros(length(x)))\n",
    "scatter(X,zeros(length(X)))\n",
    "axis([-10,10,-30,30])"
   ]
  },
  {
   "cell_type": "markdown",
   "metadata": {},
   "source": [
    "[6] Tomando una adivinanza inicial $\\mathbf{x}_0$, resuelve aproximadamente la ecuación $\\mathbf{f}(\\mathbf{x}_0 + \\mathbf{\\delta x}) = \\mathbf{0}$. ¿Qué es lo que cambia con respecto a la versión para una sola variable?\n",
    "\n"
   ]
  },
  {
   "cell_type": "markdown",
   "metadata": {},
   "source": [
    "Si se trata de una función vectorial, el desarrollo de Tylor se cambia por: \n",
    "\n",
    "$\\mathbf{f}(\\mathbf{x}) \\sim \\mathbf{f}(\\mathbf{x_0})+(\\mathbf{x}-\\mathbf{x_0})\\mathbf{J_f}(\\mathbf{x_0})+O((\\mathbf{x-x_0})^2)$\n",
    "\n",
    "donde $\\mathbf{J_f}$ es el Jacobiano de $\\mathbf{f}$\n",
    "\n",
    "Despejando  $\\mathbf{x}$ y usando que  $\\mathbf{f(x) = 0}$ ( aquí se usa $\\mathbf{\\delta x} =  \\mathbf{x-x_0}$), obtenemos: \n",
    "\n",
    " $\\mathbf{x} = \\mathbf{x_0} -\\mathbf{f(x_0)} \\cdot \\mathbf{J_f}^{-1}$\n",
    "\n",
    "\n",
    "\n"
   ]
  },
  {
   "cell_type": "markdown",
   "metadata": {},
   "source": [
    "[7] ¿Qué tipo de operaciones computacionales necesitaremos poder implementar?\n",
    "\n",
    "1. obtención del Jacobiano, \n",
    "- inversa de una matriz\n",
    "- producto punto matricial"
   ]
  },
  {
   "cell_type": "markdown",
   "metadata": {},
   "source": [
    "Problema extra: implementa el método de Newton en su forma vectorial. "
   ]
  },
  {
   "cell_type": "code",
   "execution_count": null,
   "metadata": {
    "collapsed": false
   },
   "outputs": [],
   "source": [
    "# primer paso, definimos una derivada vectorial con respecto a la i-esima componente\n",
    "function deriva_vec(f::Function,x,i,hh=1e-2) \n",
    "    m = length(x)\n",
    "    h = zeros(m)\n",
    "    h[i] = hh    # derivara la f con respecti de la i-esima componente\n",
    "    de =(1/280*f(x-4h)-4/105*f(x-3h)+1/5*f(x-2h)-4/5*f(x-h)+4/5*f(x+h)-1/5*f(x+2h)+4/105*f(x+3h)-1/280*f(x+4h))/hh\n",
    "end\n",
    "# ahora definimos el jacobiano.\n",
    "function Jacobiano(f,x0, h=1e-2)\n",
    "    m = length(x0)  # calcula el tamaño del vector x0\n",
    "    n = length(f(x0)) # calcula el tamaño de la función f\n",
    "    df = zeros(n) # inicializa en 0s todas las derivadas\n",
    "    J = Float64[]  # inicializa el jacobiano\n",
    "    for i = 1:m\n",
    "        df = deriva_vec(f,x0,i,h) # agrega las n componentes de la derivada de f, con respecto a la i-esima componente.\n",
    "        append!(J,df) # agrega estas derivadas al vector J\n",
    "    end\n",
    "    return reshape(J,n,m) # le da al vector J de nxm componentes la forma de una matriz de nxm\n",
    "end "
   ]
  },
  {
   "cell_type": "code",
   "execution_count": null,
   "metadata": {
    "collapsed": false
   },
   "outputs": [],
   "source": [
    "Adivinanzav(x0, f:: Function, h) = x0 - *(inv(Jacobiano(f,x0,h)),f(x0))\n",
    "function Newtonv(f::Function, x0; δ=0.00001, h=0.01)\n",
    "    contador = 0\n",
    "    while norm(f(x0))>δ \n",
    "        contador += 1\n",
    "        if contador > 1e5\n",
    "            return \"no se encontro solucion en 10^5 pasos\"\n",
    "        end\n",
    "        x0 = Adivinanzav(x0,f,h)\n",
    "    end\n",
    "    return x0\n",
    "end\n",
    "        "
   ]
  },
  {
   "cell_type": "code",
   "execution_count": null,
   "metadata": {
    "collapsed": false
   },
   "outputs": [],
   "source": [
    "#ejemplo para comprobar que funciona\n",
    "f(x) = [x[1]*sin(x[2])-exp(x[3])+21, x[2]-3x[3]*x[2], cos(x[2])*x[3]-x[1]]\n",
    "x = Newtonv(f,[1,2,3], δ= 1e-10)"
   ]
  },
  {
   "cell_type": "markdown",
   "metadata": {},
   "source": [
    "[8] ¿Cuál es la aproximación más sencilla de la derivada $\\dot{x}(t)$, en términos de una distancia pequeña $h$?\n",
    "\n",
    "La definción de derivada, usando una $h$ \"pequeña\". Es decir: \n",
    "\n",
    "$\\frac{d x}{d t}(t) \\sim \\frac{x(t+h)-x(t)}{h}$\n",
    "\n",
    "[9] Aplica esto para obtener una expresión para $x(t+h)$, es decir el valor *predicho* en el siguiente *paso* de tiempo, en términos del valor ya conocido $x(t)$.\n",
    "\n",
    "Despejando de arriva la $x(t+h)$ se obtiene: $x(t+h) = h \\frac{d x}{d t}(t) + x(t)$. \n",
    "\n",
    "Y usando $\\frac{d x}{d t}(t) = f(x(t),t)$ obtenemos: $x(t+h) = h f(x(t),t) + x(t)$\n",
    "\n",
    "[10] Crea la función *Euler(f,$x_0$,$t_f$, h)*. Para hacerlo, usa la función obtenida en el paso anterior, e interala $t_f / h$ veces (puedes utilizar un While o un For) para obtener los valores de $\\{ x(t)| t \\in 0:h:t_f \\}$. La funcion debe regresar el conjunto $\\{ x(t)| t \\in 0:h:t_f \\}$."
   ]
  },
  {
   "cell_type": "code",
   "execution_count": null,
   "metadata": {
    "collapsed": false
   },
   "outputs": [],
   "source": [
    "function Euler(f::Function, x0,t0,tf,h)\n",
    "    X = Float64[x0]\n",
    "    T = Float64[t0]\n",
    "    x = x0\n",
    "    for t in t0:h:tf\n",
    "        push!(T,t)\n",
    "        x += h.*f(x,t)\n",
    "        push!(X,x)\n",
    "    end\n",
    "    return T,X\n",
    "end"
   ]
  },
  {
   "cell_type": "code",
   "execution_count": null,
   "metadata": {
    "collapsed": false
   },
   "outputs": [],
   "source": [
    "# para probarla, podemos resolver dx/dt = -αx\n",
    "α = 5.3\n",
    "f(x,t) = -α.*x\n",
    "t0 = 0\n",
    "x0 = 1\n",
    "x2(t) = exp(-α*t) #solucion analitica \n",
    "T,X = Euler(f,x0,t0,100,0.001)\n",
    "scatter(T,X, lw=0, alpha=0.3, c=\"red\", s=1)\n",
    "plot(T,x2(T))\n",
    "yscale(\"log\")"
   ]
  },
  {
   "cell_type": "markdown",
   "metadata": {
    "collapsed": true
   },
   "source": [
    "Un problema más interesante es encontrar a qué velocidad llega un objeto en caida libre, si la fricción con el aire es lineal con respecto de la velocidad, es decir: \n",
    "\n",
    "$F_z = m \\cdot g - \\mu \\frac{dx}{dt} = m \\cdot \\frac{d^2 x}{dt^2}$, \n",
    "\n",
    "lo que es igual a $m \\cdot g - \\mu v = m \\cdot \\frac{d v}{dt}$\n",
    "\n",
    "Al obtener los valores de $v(t)$ implícitamente estamos obteniendo $\\frac{dx}{dt}(t) = v(t)$, una función que depende únicamente de $t$ por lo que para obtener la posición, podemos simplemente integrar $v(t)$ con pasos de tamaño $h$. "
   ]
  },
  {
   "cell_type": "markdown",
   "metadata": {},
   "source": [
    "### Problema 1, sulucion alternativa (por donde estaban buscando)\n",
    "\n",
    "$v(t) = \\frac{dx}{dt} = \\frac{x(t+h)-x(t)}{h}$\n",
    "\n",
    "$g = \\frac{dv}{dt} =  \\frac{v(t+h)-v(t)}{h} = \\frac{x(t+2h)-2x(t+h)+x(t)}{h^2}$\n",
    "\n",
    "$x_0 = x(t_0)$\n",
    "\n",
    "$x(t_0+h) = h v_0+x_0$\n",
    "\n",
    "$x(t+2h) = g h^2 +2x(t+h) -x(t)$\n"
   ]
  },
  {
   "cell_type": "markdown",
   "metadata": {},
   "source": [
    "# Quedó claro?\n",
    "\n",
    "Problema 1, solución con Taylor: \n",
    "\n",
    "$y(t+h) = y + h \\dot{y}+  \\frac{h^2}{2}\\ddot{y}$\n",
    "\n",
    "sustituimos $\\ddot{y} = f(y,t)$\n",
    "\n",
    "$\\rightarrow y(t+h) = y(t) + h \\dot{y}(t)+  \\frac{h^2}{2} f(y(t),t)$\n",
    "\n",
    "Sabemos cuanto vale \\dot{y}(t_0), asi que solo necesitamos obtener cuanto vale \\dot{y}(t+h). Para esto derivamos la ecuacion de arriba. \n",
    "\n",
    "$\\dot{y}(t+h) = \\dot{y}(t) + h \\ddot{y}(t)+  \\frac{h^2}{2} \\dot{f}(y(t),t) \\cdot \\dot{y}(t)$\n",
    "\n",
    "usando la derivada de f = 0, el problema se reduce a\n",
    "\n",
    "$\\dot{y}(t+h) = \\dot{y}(t) + h f(y(t),t)$\n",
    "\n",
    "Y con esto se puede hacer un algoritmo."
   ]
  },
  {
   "cell_type": "markdown",
   "metadata": {},
   "source": []
  }
 ],
 "metadata": {
  "kernelspec": {
   "display_name": "Julia 0.4.6",
   "language": "julia",
   "name": "julia-0.4"
  },
  "language_info": {
   "file_extension": ".jl",
   "mimetype": "application/julia",
   "name": "julia",
   "version": "0.4.6"
  }
 },
 "nbformat": 4,
 "nbformat_minor": 0
}
