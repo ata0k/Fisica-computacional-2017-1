{
 "cells": [
  {
   "cell_type": "markdown",
   "metadata": {},
   "source": [
    "SymPy es una herramienta de cálculo simbólico, estilo matemática. \n",
    "\n",
    "En realidad mathematica es un mejor software que SymPy, pero tiene 2 grandes desventajas: \n",
    "\n",
    "1) Mathematica cuesta.\n",
    "2) Mathematica tiene un códico cerrado, por lo que no podrás modificarlo. \n",
    "\n",
    "Estas dos razones son suficientes para considerar SymPy una alternativa para el cálculo simbólico en nuestras vidas. Además, podrán implementarlo directamente en sus códigos, sin tener que extraer soluciones de otros softwares. "
   ]
  },
  {
   "cell_type": "code",
   "execution_count": 38,
   "metadata": {
    "collapsed": true
   },
   "outputs": [],
   "source": [
    "using SymPy"
   ]
  },
  {
   "cell_type": "markdown",
   "metadata": {},
   "source": [
    "El primer paso para usar SymPy, es como siempre, cargarlo. \n",
    "\n",
    "Después, uno tiene que declarar las variables simbólicas que usará:"
   ]
  },
  {
   "cell_type": "code",
   "execution_count": 2,
   "metadata": {
    "collapsed": false
   },
   "outputs": [
    {
     "data": {
      "text/plain": [
       "M"
      ]
     },
     "execution_count": 2,
     "metadata": {},
     "output_type": "execute_result"
    }
   ],
   "source": [
    "x = Sym(\"x\")\n",
    "y = Sym(\"y\")\n",
    "F = SymFunction(\"F\")\n",
    "M = SymMatrix(\"M\")\n"
   ]
  },
  {
   "cell_type": "code",
   "execution_count": 3,
   "metadata": {
    "collapsed": false
   },
   "outputs": [
    {
     "data": {
      "text/latex": [
       "$$\\frac{d}{d x} F{\\left (x \\right )}$$"
      ],
      "text/plain": [
       "d       \n",
       "--(F(x))\n",
       "dx      "
      ]
     },
     "execution_count": 3,
     "metadata": {},
     "output_type": "execute_result"
    }
   ],
   "source": [
    "F'(x)"
   ]
  },
  {
   "cell_type": "code",
   "execution_count": 4,
   "metadata": {
    "collapsed": false
   },
   "outputs": [
    {
     "data": {
      "text/latex": [
       "$$x + e^{- \\frac{x^{2}}{2}}$$"
      ],
      "text/plain": [
       "       2 \n",
       "     -x  \n",
       "     ----\n",
       "      2  \n",
       "x + e    "
      ]
     },
     "execution_count": 4,
     "metadata": {},
     "output_type": "execute_result"
    }
   ],
   "source": [
    "ex = exp(-x^2/2)+x"
   ]
  },
  {
   "cell_type": "code",
   "execution_count": 5,
   "metadata": {
    "collapsed": false
   },
   "outputs": [
    {
     "data": {
      "text/latex": [
       "$$e^{-50} + 10$$"
      ],
      "text/plain": [
       " -50     \n",
       "e    + 10"
      ]
     },
     "execution_count": 5,
     "metadata": {},
     "output_type": "execute_result"
    }
   ],
   "source": [
    "ex(10)"
   ]
  },
  {
   "cell_type": "code",
   "execution_count": 6,
   "metadata": {
    "collapsed": false
   },
   "outputs": [
    {
     "data": {
      "text/latex": [
       "$$10.0$$"
      ],
      "text/plain": [
       "10.0000000000000"
      ]
     },
     "execution_count": 6,
     "metadata": {},
     "output_type": "execute_result"
    }
   ],
   "source": [
    "ex(10.)"
   ]
  },
  {
   "cell_type": "code",
   "execution_count": 7,
   "metadata": {
    "collapsed": false
   },
   "outputs": [
    {
     "data": {
      "text/plain": [
       "1.6065306597126334"
      ]
     },
     "execution_count": 7,
     "metadata": {},
     "output_type": "execute_result"
    }
   ],
   "source": [
    "N(ex(1))"
   ]
  },
  {
   "cell_type": "code",
   "execution_count": 8,
   "metadata": {
    "collapsed": false
   },
   "outputs": [
    {
     "data": {
      "text/latex": [
       "$$1$$"
      ],
      "text/plain": [
       "1"
      ]
     },
     "execution_count": 8,
     "metadata": {},
     "output_type": "execute_result"
    }
   ],
   "source": [
    "simplify(sin(x)^2 + cos(x)^2)"
   ]
  },
  {
   "cell_type": "code",
   "execution_count": 9,
   "metadata": {
    "collapsed": false
   },
   "outputs": [
    {
     "data": {
      "text/latex": [
       "$$x^{3} + 6 x^{2} + 11 x + 6$$"
      ],
      "text/plain": [
       " 3      2           \n",
       "x  + 6*x  + 11*x + 6"
      ]
     },
     "execution_count": 9,
     "metadata": {},
     "output_type": "execute_result"
    }
   ],
   "source": [
    "expand( (x+1)*(x+2)*(x+3) )"
   ]
  },
  {
   "cell_type": "code",
   "execution_count": 10,
   "metadata": {
    "collapsed": false
   },
   "outputs": [
    {
     "data": {
      "text/latex": [
       "$$x^{2} + 4 x + 6$$"
      ],
      "text/plain": [
       " 2          \n",
       "x  + 4*x + 6"
      ]
     },
     "execution_count": 10,
     "metadata": {},
     "output_type": "execute_result"
    }
   ],
   "source": [
    "factor((x+1)^2 + (x+2) + (x+3))"
   ]
  },
  {
   "cell_type": "code",
   "execution_count": 11,
   "metadata": {
    "collapsed": false
   },
   "outputs": [
    {
     "data": {
      "text/latex": [
       "\\begin{equation*}\\begin{cases}- \\frac{1}{2} - \\frac{\\sqrt{3} i}{2} & \\text{=>} &1\\\\- \\frac{1}{2} + \\frac{\\sqrt{3} i}{2} & \\text{=>} &1\\\\1 & \\text{=>} &2\\\\3 & \\text{=>} &1\\\\\\end{cases}\\end{equation*}"
      ],
      "text/plain": [
       "Dict{Any,Any} with 4 entries:\n",
       "  -1/2 - sqrt(3)*I/2 => 1\n",
       "  -1/2 + sqrt(3)*I/2 => 1\n",
       "  1                  => 2\n",
       "  3                  => 1"
      ]
     },
     "execution_count": 11,
     "metadata": {},
     "output_type": "execute_result"
    }
   ],
   "source": [
    "p = expand((x-1)*(x-1)*(x-3)*(x^2 + x + 1))\n",
    "\n",
    "polyroots(p)"
   ]
  },
  {
   "cell_type": "code",
   "execution_count": 12,
   "metadata": {
    "collapsed": false,
    "scrolled": true
   },
   "outputs": [
    {
     "data": {
      "text/latex": [
       "\\begin{bmatrix}1\\\\3\\\\- \\frac{1}{2} - \\frac{\\sqrt{3} i}{2}\\\\- \\frac{1}{2} + \\frac{\\sqrt{3} i}{2}\\end{bmatrix}"
      ],
      "text/plain": [
       "4-element Array{SymPy.Sym,1}\n",
       "[      1      ]\n",
       "[             ]\n",
       "[      3      ]\n",
       "[             ]\n",
       "[        ___  ]\n",
       "[  1   \\/ 3 *I]\n",
       "[- - - -------]\n",
       "[  2      2   ]\n",
       "[             ]\n",
       "[        ___  ]\n",
       "[  1   \\/ 3 *I]\n",
       "[- - + -------]\n",
       "[  2      2   ]"
      ]
     },
     "execution_count": 12,
     "metadata": {},
     "output_type": "execute_result"
    }
   ],
   "source": [
    "solve(p)"
   ]
  },
  {
   "cell_type": "code",
   "execution_count": 13,
   "metadata": {
    "collapsed": false
   },
   "outputs": [
    {
     "name": "stdout",
     "output_type": "stream",
     "text": [
      "1\n",
      "3\n",
      "-1/2 - sqrt(3)*I/2\n",
      "-1/2 + sqrt(3)*I/2\n"
     ]
    }
   ],
   "source": [
    "for k in solve(p)\n",
    "    println(k)\n",
    "end"
   ]
  },
  {
   "cell_type": "code",
   "execution_count": 14,
   "metadata": {
    "collapsed": false
   },
   "outputs": [
    {
     "data": {
      "text/latex": [
       "\\begin{bmatrix}\\operatorname{RootOf} {\\left(x^{4} - 8 x^{2} + 8, 0\\right)}\\\\\\operatorname{RootOf} {\\left(x^{4} - 8 x^{2} + 8, 1\\right)}\\\\\\operatorname{RootOf} {\\left(x^{4} - 8 x^{2} + 8, 2\\right)}\\\\\\operatorname{RootOf} {\\left(x^{4} - 8 x^{2} + 8, 3\\right)}\\end{bmatrix}"
      ],
      "text/plain": [
       "4-element Array{SymPy.Sym,1}\n",
       "[      / 4      2       \\]\n",
       "[RootOf\\x  - 8*x  + 8, 0/]\n",
       "[                        ]\n",
       "[      / 4      2       \\]\n",
       "[RootOf\\x  - 8*x  + 8, 1/]\n",
       "[                        ]\n",
       "[      / 4      2       \\]\n",
       "[RootOf\\x  - 8*x  + 8, 2/]\n",
       "[                        ]\n",
       "[      / 4      2       \\]\n",
       "[RootOf\\x  - 8*x  + 8, 3/]"
      ]
     },
     "execution_count": 14,
     "metadata": {},
     "output_type": "execute_result"
    }
   ],
   "source": [
    "q = x^4 - 8x^2 + 8\n",
    "real_roots(q)"
   ]
  },
  {
   "cell_type": "code",
   "execution_count": 15,
   "metadata": {
    "collapsed": false
   },
   "outputs": [
    {
     "data": {
      "text/latex": [
       "\\begin{bmatrix}- \\sqrt{- 2 \\sqrt{2} + 4}\\\\\\sqrt{- 2 \\sqrt{2} + 4}\\\\- \\sqrt{2 \\sqrt{2} + 4}\\\\\\sqrt{2 \\sqrt{2} + 4}\\end{bmatrix}"
      ],
      "text/plain": [
       "4-element Array{SymPy.Sym,1}\n",
       "[    _______________]\n",
       "[   /       ___     ]\n",
       "[-\\/  - 2*\\/ 2  + 4 ]\n",
       "[                   ]\n",
       "[   _______________ ]\n",
       "[  /       ___      ]\n",
       "[\\/  - 2*\\/ 2  + 4  ]\n",
       "[                   ]\n",
       "[     _____________ ]\n",
       "[    /     ___      ]\n",
       "[ -\\/  2*\\/ 2  + 4  ]\n",
       "[                   ]\n",
       "[    _____________  ]\n",
       "[   /     ___       ]\n",
       "[ \\/  2*\\/ 2  + 4   ]"
      ]
     },
     "execution_count": 15,
     "metadata": {},
     "output_type": "execute_result"
    }
   ],
   "source": [
    "solve(q)"
   ]
  },
  {
   "cell_type": "code",
   "execution_count": 16,
   "metadata": {
    "collapsed": false
   },
   "outputs": [
    {
     "data": {
      "text/plain": [
       "PyObject mpf('1.414213562373095')"
      ]
     },
     "execution_count": 16,
     "metadata": {},
     "output_type": "execute_result"
    }
   ],
   "source": [
    "nsolve(x^4 - 2x^2, x, 3)"
   ]
  },
  {
   "cell_type": "code",
   "execution_count": 17,
   "metadata": {
    "collapsed": false
   },
   "outputs": [
    {
     "name": "stdout",
     "output_type": "stream",
     "text": [
      "[Plots.jl] Initializing backend: pyplot\n"
     ]
    },
    {
     "data": {
      "text/html": [
       "<img src=\"data:image/png;base64,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\" />"
      ]
     },
     "execution_count": 17,
     "metadata": {},
     "output_type": "execute_result"
    }
   ],
   "source": [
    "using Plots\n",
    "ex = x^2 - 2x + 4\n",
    "plot(ex, -1, 3) "
   ]
  },
  {
   "cell_type": "code",
   "execution_count": 18,
   "metadata": {
    "collapsed": false
   },
   "outputs": [
    {
     "data": {
      "text/latex": [
       "$$\\frac{1}{2}$$"
      ],
      "text/plain": [
       "1/2"
      ]
     },
     "execution_count": 18,
     "metadata": {},
     "output_type": "execute_result"
    }
   ],
   "source": [
    "limit((1-cos(x))/x^2, x, 0)"
   ]
  },
  {
   "cell_type": "code",
   "execution_count": 19,
   "metadata": {
    "collapsed": false
   },
   "outputs": [
    {
     "data": {
      "text/latex": [
       "$$0$$"
      ],
      "text/plain": [
       "0"
      ]
     },
     "execution_count": 19,
     "metadata": {},
     "output_type": "execute_result"
    }
   ],
   "source": [
    "limit(sin(x)/x, x, oo)"
   ]
  },
  {
   "cell_type": "code",
   "execution_count": 20,
   "metadata": {
    "collapsed": false
   },
   "outputs": [
    {
     "data": {
      "text/latex": [
       "$$- \\cos{\\left (x \\right )}$$"
      ],
      "text/plain": [
       "-cos(x)"
      ]
     },
     "execution_count": 20,
     "metadata": {},
     "output_type": "execute_result"
    }
   ],
   "source": [
    "diff(1-cos(x), x,4)   \n"
   ]
  },
  {
   "cell_type": "code",
   "execution_count": 21,
   "metadata": {
    "collapsed": false
   },
   "outputs": [
    {
     "data": {
      "text/latex": [
       "$$x - \\sin{\\left (x \\right )}$$"
      ],
      "text/plain": [
       "x - sin(x)"
      ]
     },
     "execution_count": 21,
     "metadata": {},
     "output_type": "execute_result"
    }
   ],
   "source": [
    "integrate(1-cos(x), x)"
   ]
  },
  {
   "cell_type": "code",
   "execution_count": 22,
   "metadata": {
    "collapsed": false
   },
   "outputs": [
    {
     "data": {
      "text/latex": [
       "$$\\frac{1}{3}$$"
      ],
      "text/plain": [
       "1/3"
      ]
     },
     "execution_count": 22,
     "metadata": {},
     "output_type": "execute_result"
    }
   ],
   "source": [
    "integrate(x^2, (x, 0, 1))   "
   ]
  },
  {
   "cell_type": "code",
   "execution_count": 23,
   "metadata": {
    "collapsed": false
   },
   "outputs": [
    {
     "data": {
      "text/plain": [
       "4x2 Array{Int64,2}:\n",
       " 1  1\n",
       " 1  1\n",
       " 1  2\n",
       " 1  3"
      ]
     },
     "execution_count": 23,
     "metadata": {},
     "output_type": "execute_result"
    }
   ],
   "source": [
    "M = Matrix([[1, 1, 1, 1] [1, 1, 2, 3]])"
   ]
  },
  {
   "cell_type": "code",
   "execution_count": 24,
   "metadata": {
    "collapsed": false
   },
   "outputs": [
    {
     "data": {
      "text/plain": [
       "3.1415926535897932384626433832795028841971693993751058209749445923078164062862089986280348253421170678"
      ]
     },
     "execution_count": 24,
     "metadata": {},
     "output_type": "execute_result"
    }
   ],
   "source": [
    "N(PI, 100)"
   ]
  },
  {
   "cell_type": "code",
   "execution_count": 25,
   "metadata": {
    "collapsed": false
   },
   "outputs": [
    {
     "data": {
      "text/latex": [
       "$$\\frac{1}{x} + \\frac{1}{x^{2}}$$"
      ],
      "text/plain": [
       "1   1 \n",
       "- + --\n",
       "x    2\n",
       "    x "
      ]
     },
     "execution_count": 25,
     "metadata": {},
     "output_type": "execute_result"
    }
   ],
   "source": [
    "r = 1/x + 1/x^2"
   ]
  },
  {
   "cell_type": "code",
   "execution_count": 26,
   "metadata": {
    "collapsed": false
   },
   "outputs": [
    {
     "data": {
      "text/latex": [
       "$$\\frac{1}{x^{2}} \\left(x + 1\\right)$$"
      ],
      "text/plain": [
       "x + 1\n",
       "-----\n",
       "   2 \n",
       "  x  "
      ]
     },
     "execution_count": 26,
     "metadata": {},
     "output_type": "execute_result"
    }
   ],
   "source": [
    "together(r)"
   ]
  },
  {
   "cell_type": "code",
   "execution_count": 27,
   "metadata": {
    "collapsed": false
   },
   "outputs": [
    {
     "data": {
      "text/latex": [
       "$$\\frac{2 x - 1}{x^{2} + x + 1} - \\frac{1}{x + 4} + \\frac{3}{x}$$"
      ],
      "text/plain": [
       " 2*x - 1       1     3\n",
       "---------- - ----- + -\n",
       " 2           x + 4   x\n",
       "x  + x + 1            "
      ]
     },
     "execution_count": 27,
     "metadata": {},
     "output_type": "execute_result"
    }
   ],
   "source": [
    "apart( (4x^3 + 21x^2 + 10x + 12) /  (x^4 + 5x^3 + 5x^2 + 4x))"
   ]
  },
  {
   "cell_type": "code",
   "execution_count": 28,
   "metadata": {
    "collapsed": false
   },
   "outputs": [
    {
     "data": {
      "text/latex": [
       "$$a$$"
      ],
      "text/plain": [
       "a"
      ]
     },
     "execution_count": 28,
     "metadata": {},
     "output_type": "execute_result"
    }
   ],
   "source": [
    "a,b,c,x = symbols(\"a, b, c, x\") \n",
    "p = a*x^2 + b*x + c\n",
    "\n",
    "coeff(p, x^2) # a "
   ]
  },
  {
   "cell_type": "code",
   "execution_count": 29,
   "metadata": {
    "collapsed": false
   },
   "outputs": [
    {
     "data": {
      "text/latex": [
       "$$b$$"
      ],
      "text/plain": [
       "b"
      ]
     },
     "execution_count": 29,
     "metadata": {},
     "output_type": "execute_result"
    }
   ],
   "source": [
    "coeff(p, x) # a "
   ]
  },
  {
   "cell_type": "code",
   "execution_count": 30,
   "metadata": {
    "collapsed": false
   },
   "outputs": [
    {
     "data": {
      "text/latex": [
       "$$2$$"
      ],
      "text/plain": [
       "2"
      ]
     },
     "execution_count": 30,
     "metadata": {},
     "output_type": "execute_result"
    }
   ],
   "source": [
    "(degree(p))"
   ]
  },
  {
   "cell_type": "code",
   "execution_count": 31,
   "metadata": {
    "collapsed": false
   },
   "outputs": [
    {
     "data": {
      "text/latex": [
       "$$\\operatorname{Poly}{\\left( a x^{2} + b x + c, x, domain=\\mathbb{Z}\\left[a, b, c\\right] \\right)}$$"
      ],
      "text/plain": [
       "Poly(a*x**2 + b*x + c, x, domain='ZZ[a,b,c]')"
      ]
     },
     "execution_count": 31,
     "metadata": {},
     "output_type": "execute_result"
    }
   ],
   "source": [
    "q = Poly(p, x)"
   ]
  },
  {
   "cell_type": "code",
   "execution_count": 32,
   "metadata": {
    "collapsed": false
   },
   "outputs": [
    {
     "data": {
      "text/plain": [
       "3-element Array{Any,1}:\n",
       " a\n",
       " b\n",
       " c"
      ]
     },
     "execution_count": 32,
     "metadata": {},
     "output_type": "execute_result"
    }
   ],
   "source": [
    "coeffs(q)"
   ]
  },
  {
   "cell_type": "code",
   "execution_count": 33,
   "metadata": {
    "collapsed": false
   },
   "outputs": [
    {
     "data": {
      "text/latex": [
       "\\begin{bmatrix}-1.16730397826142\\\\-0.181232444469875 - 1.08395410131771 i\\\\-0.181232444469875 + 1.08395410131771 i\\\\0.764884433600585 - 0.352471546031726 i\\\\0.764884433600585 + 0.352471546031726 i\\end{bmatrix}"
      ],
      "text/plain": [
       "5-element Array{SymPy.Sym,1}\n",
       "[           -1.16730397826142           ]\n",
       "[                                       ]\n",
       "[-0.181232444469875 - 1.08395410131771*I]\n",
       "[                                       ]\n",
       "[-0.181232444469875 + 1.08395410131771*I]\n",
       "[                                       ]\n",
       "[0.764884433600585 - 0.352471546031726*I]\n",
       "[                                       ]\n",
       "[0.764884433600585 + 0.352471546031726*I]"
      ]
     },
     "execution_count": 33,
     "metadata": {},
     "output_type": "execute_result"
    }
   ],
   "source": [
    "p = x^5 - x + 1\n",
    "nroots(p) "
   ]
  },
  {
   "cell_type": "code",
   "execution_count": 43,
   "metadata": {
    "collapsed": false
   },
   "outputs": [
    {
     "data": {
      "text/latex": [
       "$$1 - \\frac{x}{h} \\left(\\cos{\\left (h \\right )} - 1\\right)^{2} + \\frac{x^{2}}{h^{2}} \\left(\\cos{\\left (h \\right )} - 1\\right) \\cos{\\left (h \\right )}$$"
      ],
      "text/plain": [
       "                  2    2                    \n",
       "    x*(cos(h) - 1)    x *(cos(h) - 1)*cos(h)\n",
       "1 - --------------- + ----------------------\n",
       "           h                     2          \n",
       "                                h           "
      ]
     },
     "execution_count": 43,
     "metadata": {},
     "output_type": "execute_result"
    }
   ],
   "source": [
    "a,b,c,h = symbols(\"a,b,c,h\", real=true)\n",
    "p = a*x^2 + b*x + c\n",
    "fn = cos\n",
    "exs = [fn(0*h)-p(x=>0), fn(h)-p(x => h), fn(2h)-p(x => 2h)]\n",
    "d = solve(exs, [a,b,c])\n",
    "subs(p, d)"
   ]
  },
  {
   "cell_type": "code",
   "execution_count": 47,
   "metadata": {
    "collapsed": false
   },
   "outputs": [
    {
     "data": {
      "text/latex": [
       "\\begin{equation*}\\begin{cases}b_{0} & \\text{=>} &a_{0} + a_{1} c + a_{2} c^{2}\\\\b_{1} & \\text{=>} &a_{1} + 2 a_{2} c\\\\b_{2} & \\text{=>} &a_{2}\\\\\\end{cases}\\end{equation*}"
      ],
      "text/plain": [
       "Dict{SymPy.Sym,SymPy.Sym} with 3 entries:\n",
       "  b0 => a0 + a1*c + a2*c^2\n",
       "  b1 => a1 + 2*a2*c\n",
       "  b2 => a2"
      ]
     },
     "execution_count": 47,
     "metadata": {},
     "output_type": "execute_result"
    }
   ],
   "source": [
    "n = 3\n",
    "x, c = symbols(\"x,c\")\n",
    "as = Sym[\"a$i\" for i in 0:(n-1)]\n",
    "bs = Sym[\"b$i\" for i in 0:(n-1)]\n",
    "p = sum([as[i+1]*x^i for i in 0:(n-1)])\n",
    "q = sum([bs[i+1]*(x-c)^i for i in 0:(n-1)])\n",
    "solve(p-q, bs)"
   ]
  },
  {
   "cell_type": "code",
   "execution_count": 48,
   "metadata": {
    "collapsed": false
   },
   "outputs": [
    {
     "data": {
      "text/latex": [
       "\\begin{equation*}\\begin{cases}y & \\text{=>} &- \\frac{6}{17}\\\\x & \\text{=>} &\\frac{60}{17}\\\\\\end{cases}\\end{equation*}"
      ],
      "text/plain": [
       "Dict{SymPy.Sym,SymPy.Sym} with 2 entries:\n",
       "  y => -6/17\n",
       "  x => 60/17"
      ]
     },
     "execution_count": 48,
     "metadata": {},
     "output_type": "execute_result"
    }
   ],
   "source": [
    "x, y = symbols(\"x,y\", real=true)\n",
    "exs = [2x+3y ⩵ 6, 3x-4y ⩵ 12]   \n",
    "d = solve(exs)"
   ]
  },
  {
   "cell_type": "code",
   "execution_count": 50,
   "metadata": {
    "collapsed": false
   },
   "outputs": [
    {
     "data": {
      "text/plain": [
       "(-1,1)"
      ]
     },
     "execution_count": 50,
     "metadata": {},
     "output_type": "execute_result"
    }
   ],
   "source": [
    "limit(sign(x), x => 0, dir=\"-\"), limit(sign(x), x => 0, dir=\"+\")"
   ]
  },
  {
   "cell_type": "code",
   "execution_count": 51,
   "metadata": {
    "collapsed": false
   },
   "outputs": [
    {
     "data": {
      "text/latex": [
       "$$x \\left(x y + 2\\right) e^{x y}$$"
      ],
      "text/plain": [
       "             x*y\n",
       "x*(x*y + 2)*e   "
      ]
     },
     "execution_count": 51,
     "metadata": {},
     "output_type": "execute_result"
    }
   ],
   "source": [
    "ex = Derivative(exp(x*y), x, y, 2)\n",
    "doit(ex)"
   ]
  },
  {
   "cell_type": "code",
   "execution_count": 53,
   "metadata": {
    "collapsed": false
   },
   "outputs": [
    {
     "data": {
      "text/latex": [
       "$$- 4 x^{3} + 4 x + 4 F^{3}{\\left (x \\right )} \\frac{d}{d x} F{\\left (x \\right )} - 2 F{\\left (x \\right )} \\frac{d}{d x} F{\\left (x \\right )}$$"
      ],
      "text/plain": [
       "     3            3    d                 d       \n",
       "- 4*x  + 4*x + 4*F (x)*--(F(x)) - 2*F(x)*--(F(x))\n",
       "                       dx                dx      "
      ]
     },
     "execution_count": 53,
     "metadata": {},
     "output_type": "execute_result"
    }
   ],
   "source": [
    "F, G = SymFunction(\"F\"), SymFunction(\"G\")\n",
    "diff(F(x))\n",
    "x,y = symbols(\"x, y\")\n",
    "ex = y^4 - x^4 - y^2 + 2x^2\n",
    "ex1 = ex(y=>F(x))\n",
    "ex2 = diff(ex1, x)"
   ]
  },
  {
   "cell_type": "code",
   "execution_count": 54,
   "metadata": {
    "collapsed": false
   },
   "outputs": [
    {
     "data": {
      "text/latex": [
       "$$\\frac{2 x \\left(x^{2} - 1\\right)}{y \\left(2 y^{2} - 1\\right)}$$"
      ],
      "text/plain": [
       "    / 2    \\\n",
       "2*x*\\x  - 1/\n",
       "------------\n",
       "  /   2    \\\n",
       "y*\\2*y  - 1/"
      ]
     },
     "execution_count": 54,
     "metadata": {},
     "output_type": "execute_result"
    }
   ],
   "source": [
    "ex3 = solve(ex2, F'(x))[1]\n",
    "ex4 = ex3(F(x) => y)"
   ]
  },
  {
   "cell_type": "code",
   "execution_count": 55,
   "metadata": {
    "collapsed": false
   },
   "outputs": [
    {
     "data": {
      "text/latex": [
       "$$\\frac{1}{4}$$"
      ],
      "text/plain": [
       "1/4"
      ]
     },
     "execution_count": 55,
     "metadata": {},
     "output_type": "execute_result"
    }
   ],
   "source": [
    "integrate(x*y, (y, 0, 1), (x, 0, 1))"
   ]
  },
  {
   "cell_type": "code",
   "execution_count": 56,
   "metadata": {
    "collapsed": false
   },
   "outputs": [
    {
     "data": {
      "text/latex": [
       "$$\\frac{2}{15}$$"
      ],
      "text/plain": [
       "2/15"
      ]
     },
     "execution_count": 56,
     "metadata": {},
     "output_type": "execute_result"
    }
   ],
   "source": [
    "integrate(x^2*y, (y, 0, sqrt(1 - x^2)), (x, -1, 1))"
   ]
  },
  {
   "cell_type": "code",
   "execution_count": 57,
   "metadata": {
    "collapsed": false
   },
   "outputs": [
    {
     "data": {
      "text/latex": [
       "$$1 + x + \\frac{x^{2}}{2} + \\mathcal{O}\\left(x^{4}\\right)$$"
      ],
      "text/plain": [
       "         2        \n",
       "        x     / 4\\\n",
       "1 + x + -- + O\\x /\n",
       "        2         "
      ]
     },
     "execution_count": 57,
     "metadata": {},
     "output_type": "execute_result"
    }
   ],
   "source": [
    "s1= series(exp(sin(x)), x, 0, 4)"
   ]
  },
  {
   "cell_type": "code",
   "execution_count": 58,
   "metadata": {
    "collapsed": false
   },
   "outputs": [
    {
     "data": {
      "text/latex": [
       "$$\\frac{x^{2}}{2} + x + 1$$"
      ],
      "text/plain": [
       " 2        \n",
       "x         \n",
       "-- + x + 1\n",
       "2         "
      ]
     },
     "execution_count": 58,
     "metadata": {},
     "output_type": "execute_result"
    }
   ],
   "source": [
    "removeO(s1)"
   ]
  },
  {
   "cell_type": "code",
   "execution_count": 59,
   "metadata": {
    "collapsed": false
   },
   "outputs": [
    {
     "data": {
      "text/latex": [
       "$$\\frac{n^{3}}{3} + \\frac{n^{2}}{2} + \\frac{n}{6}$$"
      ],
      "text/plain": [
       " 3    2    \n",
       "n    n    n\n",
       "-- + -- + -\n",
       "3    2    6"
      ]
     },
     "execution_count": 59,
     "metadata": {},
     "output_type": "execute_result"
    }
   ],
   "source": [
    "i, n = symbols(\"i, n\")\n",
    "summation(i^2, (i, 1, n))"
   ]
  },
  {
   "cell_type": "code",
   "execution_count": 60,
   "metadata": {
    "collapsed": false
   },
   "outputs": [
    {
     "data": {
      "text/latex": [
       "\\begin{bmatrix}1\\\\y\\\\3\\end{bmatrix}"
      ],
      "text/plain": [
       "3-element Array{SymPy.Sym,1}\n",
       "[1]\n",
       "[ ]\n",
       "[y]\n",
       "[ ]\n",
       "[3]"
      ]
     },
     "execution_count": 60,
     "metadata": {},
     "output_type": "execute_result"
    }
   ],
   "source": [
    "x,y = symbols(\"x,y\")\n",
    "v = [1,2,x]\n",
    "w = [1,y,3]"
   ]
  },
  {
   "cell_type": "code",
   "execution_count": 61,
   "metadata": {
    "collapsed": false
   },
   "outputs": [
    {
     "data": {
      "text/latex": [
       "$$2 y + 3 \\overline{x} + 1$$"
      ],
      "text/plain": [
       "        _    \n",
       "2*y + 3*x + 1"
      ]
     },
     "execution_count": 61,
     "metadata": {},
     "output_type": "execute_result"
    }
   ],
   "source": [
    "dot(v,w)"
   ]
  },
  {
   "cell_type": "code",
   "execution_count": 62,
   "metadata": {
    "collapsed": false
   },
   "outputs": [
    {
     "data": {
      "text/latex": [
       "\\begin{bmatrix}- x y + 6\\\\x - 3\\\\y - 2\\end{bmatrix}"
      ],
      "text/plain": [
       "3-element Array{SymPy.Sym,1}\n",
       "[-x*y + 6]\n",
       "[        ]\n",
       "[ x - 3  ]\n",
       "[        ]\n",
       "[ y - 2  ]"
      ]
     },
     "execution_count": 62,
     "metadata": {},
     "output_type": "execute_result"
    }
   ],
   "source": [
    "cross(v,w)"
   ]
  },
  {
   "cell_type": "code",
   "execution_count": 63,
   "metadata": {
    "collapsed": false
   },
   "outputs": [
    {
     "data": {
      "text/latex": [
       "\\begin{bmatrix}2 y&2 x - 2 y\\\\2 x - 2 y&- 2 x\\end{bmatrix}"
      ],
      "text/plain": [
       "2x2 Array{SymPy.Sym,2}\n",
       "[   2*y     2*x - 2*y]\n",
       "[                    ]\n",
       "[2*x - 2*y    -2*x   ]"
      ]
     },
     "execution_count": 63,
     "metadata": {},
     "output_type": "execute_result"
    }
   ],
   "source": [
    "ex = x^2*y - x*y^2\n",
    "hessian(ex)"
   ]
  },
  {
   "cell_type": "code",
   "execution_count": 64,
   "metadata": {
    "collapsed": false
   },
   "outputs": [
    {
     "data": {
      "text/latex": [
       "\\begin{bmatrix}1&0&0&0&0\\\\0&1&0&0&0\\\\0&0&1&0&0\\\\0&0&0&1&0\\\\0&0&0&0&1\\end{bmatrix}"
      ],
      "text/plain": [
       "5x5 Array{SymPy.Sym,2}\n",
       "[1  0  0  0  0]\n",
       "[             ]\n",
       "[0  1  0  0  0]\n",
       "[             ]\n",
       "[0  0  1  0  0]\n",
       "[             ]\n",
       "[0  0  0  1  0]\n",
       "[             ]\n",
       "[0  0  0  0  1]"
      ]
     },
     "execution_count": 64,
     "metadata": {},
     "output_type": "execute_result"
    }
   ],
   "source": [
    "x,y = symbols(\"x,y\")\n",
    "M = [1 x; x 1]\n",
    "diagm(ones(Sym, 5))"
   ]
  },
  {
   "cell_type": "code",
   "execution_count": 65,
   "metadata": {
    "collapsed": false
   },
   "outputs": [
    {
     "data": {
      "text/latex": [
       "$$- x^{2} + 1$$"
      ],
      "text/plain": [
       "   2    \n",
       "- x  + 1"
      ]
     },
     "execution_count": 65,
     "metadata": {},
     "output_type": "execute_result"
    }
   ],
   "source": [
    "M^2\n",
    "det(M)\n"
   ]
  },
  {
   "cell_type": "code",
   "execution_count": 67,
   "metadata": {
    "collapsed": false
   },
   "outputs": [
    {
     "data": {
      "text/latex": [
       "\\begin{bmatrix}- \\sqrt{x^{2}} + 1&0\\\\0&\\sqrt{x^{2}} + 1\\end{bmatrix}"
      ],
      "text/plain": [
       "2x2 Array{SymPy.Sym,2}\n",
       "[     ____                 ]\n",
       "[    /  2                  ]\n",
       "[- \\/  x   + 1       0     ]\n",
       "[                          ]\n",
       "[                  ____    ]\n",
       "[                 /  2     ]\n",
       "[      0        \\/  x   + 1]"
      ]
     },
     "execution_count": 67,
     "metadata": {},
     "output_type": "execute_result"
    }
   ],
   "source": [
    "P, D = diagonalize(M)  # M = PDP^-1\n",
    "D"
   ]
  },
  {
   "cell_type": "code",
   "execution_count": 75,
   "metadata": {
    "collapsed": false
   },
   "outputs": [
    {
     "data": {
      "text/latex": [
       "$$F{\\left (x \\right )} = \\left(C_{1} + C_{2} x\\right) e^{x} + \\frac{1}{2} \\cos{\\left (x \\right )}$$"
      ],
      "text/plain": [
       "                    x   cos(x)\n",
       "F(x) = (C1 + C2*x)*e  + ------\n",
       "                          2   "
      ]
     },
     "execution_count": 75,
     "metadata": {},
     "output_type": "execute_result"
    }
   ],
   "source": [
    "diffeq = Eq(diff(F(x), x, 2) - 2*diff(F(x)) + F(x), sin(x))\n",
    "ex = dsolve(diffeq)\n",
    "\n",
    "diffeq = F''(x) - 2F'(x) + F(x) - sin(x)\n",
    "dsolve(diffeq)"
   ]
  },
  {
   "cell_type": "code",
   "execution_count": 85,
   "metadata": {
    "collapsed": false
   },
   "outputs": [
    {
     "data": {
      "text/latex": [
       "\\begin{bmatrix}-2\\\\2\\end{bmatrix}"
      ],
      "text/plain": [
       "2-element Array{SymPy.Sym,1}\n",
       "[-2]\n",
       "[  ]\n",
       "[2 ]"
      ]
     },
     "execution_count": 85,
     "metadata": {},
     "output_type": "execute_result"
    }
   ],
   "source": [
    "solve(Eq(x^2-3,1))"
   ]
  },
  {
   "cell_type": "markdown",
   "metadata": {},
   "source": [
    "[1] Resueleve analíticamente la ecuación diferencial del movimiento de 2 cuerpos atraidos gravitacionalmente. \n",
    "\n",
    "[2] Resuelve anaíticamente la ecuación diferencial de caída con fricción con dependencia lineal. \n",
    "\n",
    "[3] resuelve analíticamente el problema del cohete, donde tiene un gasto constante de combustible (el cual tiene una masa)\n",
    "\n",
    "[4] Juega con SymPy!! "
   ]
  },
  {
   "cell_type": "code",
   "execution_count": null,
   "metadata": {
    "collapsed": true
   },
   "outputs": [],
   "source": []
  }
 ],
 "metadata": {
  "kernelspec": {
   "display_name": "Julia 0.4.6",
   "language": "julia",
   "name": "julia-0.4"
  },
  "language_info": {
   "file_extension": ".jl",
   "mimetype": "application/julia",
   "name": "julia",
   "version": "0.4.6"
  }
 },
 "nbformat": 4,
 "nbformat_minor": 0
}
