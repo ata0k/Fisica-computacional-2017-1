{
 "cells": [
  {
   "cell_type": "markdown",
   "metadata": {},
   "source": [
    "### Tercer ejemplo: fuerza de gravedad entre 2 cuerpos. \n",
    "\n",
    "Aunque para hacer todo el análisis de tiro parabólico usamos el hecho de que hay una fuerza de gravedad, en realidad lo que se hace es una aproximación, donde se supone que \"el campo gravitatorio es constante en todas partes\". Esta aproximación funciona a escala humana, pero no cumple cuando se trata de estudiar los astros lejanos, como la luna, los planetas o las estrellas. En ese caso se debe considerar que la atracción gravitatoria no es constante, sino que depende de la distancia entre los cuerpos. \n",
    "\n",
    "La ley que describe esto, es la famosa ley de la gravitación universal de Newton también. Y dice algo así: \n",
    "\n",
    "$ F(m_1,m_2,r) = G \\frac{m_1 m_2 r}{|r|^3} $\n",
    "\n",
    "aquí $m_1$ y $m_2$ son las masas de los cuerpos en cuestión, $r$ es el vector que va del centro de masas del cuerpo 1, al centro de masas del cuerpo 2, y $G$ es la constante de la gravitación universal. \n",
    "\n",
    "Bien, ahora podemos calcular la fuerza de 2 cuerpos, debido a sus masas:"
   ]
  },
  {
   "cell_type": "code",
   "execution_count": 1,
   "metadata": {
    "collapsed": false
   },
   "outputs": [
    {
     "data": {
      "text/plain": [
       "3-element Array{Float64,1}:\n",
       " -490.982\n",
       "    0.0  \n",
       "    0.0  "
      ]
     },
     "execution_count": 1,
     "metadata": {},
     "output_type": "execute_result"
    }
   ],
   "source": [
    "function F_gravitacional(m1,m2,x1,x2) \n",
    "    G = 6.67408e-11 \n",
    "    r = x2 - x1\n",
    "    F = G*m1*m2*r/(norm(r)).^3\n",
    "end\n",
    "\n",
    "Mt = 5.972e24\n",
    "Rt = 6.371e6\n",
    "F_gravitacional(50,Mt,[0,0,0],[-Rt,0,0])"
   ]
  },
  {
   "cell_type": "code",
   "execution_count": 2,
   "metadata": {
    "collapsed": false
   },
   "outputs": [
    {
     "data": {
      "text/plain": [
       "3-element Array{Float64,1}:\n",
       " -5.34709e-12\n",
       "  0.0        \n",
       "  0.0        "
      ]
     },
     "execution_count": 2,
     "metadata": {},
     "output_type": "execute_result"
    }
   ],
   "source": [
    "Mα = 2.167e30\n",
    "Mc = 67\n",
    "Rα = 4.257e16\n",
    "F_gravitacional(Mα,Mc,[Rα,0,0], [0,0,0])"
   ]
  },
  {
   "cell_type": "code",
   "execution_count": 3,
   "metadata": {
    "collapsed": false
   },
   "outputs": [
    {
     "data": {
      "text/plain": [
       "386787.2212734285"
      ]
     },
     "execution_count": 3,
     "metadata": {},
     "output_type": "execute_result"
    }
   ],
   "source": [
    "ML=7.349e22\n",
    "b = Mt/(Mt-ML)\n",
    "dTL = 384400000\n",
    "dT = -b + sqrt(b^2 +(b*dTL^2))\n",
    "386787.2212734285"
   ]
  },
  {
   "cell_type": "code",
   "execution_count": 32,
   "metadata": {
    "collapsed": false
   },
   "outputs": [
    {
     "data": {
      "image/png": "[encoded data removed]",
      "text/plain": [
       "PyPlot.Figure(PyObject <matplotlib.figure.Figure object at 0x7f513c9ea1d0>)"
      ]
     },
     "metadata": {},
     "output_type": "display_data"
    },
    {
     "name": "stdout",
     "output_type": "stream",
     "text": [
      "6\n"
     ]
    },
    {
     "data": {
      "text/plain": [
       "(-1.0e7,1.0e7,-1.5e7,1.0e7)"
      ]
     },
     "execution_count": 32,
     "metadata": {},
     "output_type": "execute_result"
    }
   ],
   "source": [
    "using PyPlot\n",
    "include(\"Metodos2.jl\")\n",
    "f1(x,t) = F_gravitacional(1,Mt,[x[4],x[5],x[6]],[0,0,0])[1]\n",
    "f2(x,t) = F_gravitacional(1,Mt,[x[4],x[5],x[6]],[0,0,0])[2]\n",
    "f3(x,t) = F_gravitacional(1,Mt,[x[4],x[5],x[6]],[0,0,0])[3]\n",
    "f4(x,t) = x[1]\n",
    "f5(x,t) = x[2]\n",
    "f6(x,t) = x[3]\n",
    "fig = figure(figsize=(5,4))\n",
    "circulo1(X) = -sqrt(Rt^2-X.^2)\n",
    "circulo2(X) = sqrt(Rt^2-X.^2)\n",
    "vx0=0\n",
    "vy0=9000 \n",
    "vz0=1000\n",
    "i=4 \n",
    "j=5\n",
    "α=[vx0,vy0,vz0,Rt+200000.,0.,0.]\n",
    "N=100000\n",
    "a=0\n",
    "b=20000\n",
    "T,X = RK4v(a,b,N,α,f1,f2,f3,f4,f5,f6)\n",
    "\n",
    "#axis([-3*1.6Rt,3*1.6Rt,-3Rt,3Rt])\n",
    "\n",
    "plot(X[:,j],X[:,i])\n",
    "Xt = linspace(-Rt,Rt,100)\n",
    "plot(Xt,circulo1(Xt), color = \"red\")\n",
    "plot(Xt,circulo2(Xt), color = \"red\")        \n",
    "axis(\"equal\")\n"
   ]
  },
  {
   "cell_type": "code",
   "execution_count": null,
   "metadata": {
    "collapsed": true
   },
   "outputs": [],
   "source": []
  }
 ],
 "metadata": {
  "kernelspec": {
   "display_name": "Julia 0.4.6",
   "language": "julia",
   "name": "julia-0.4"
  },
  "language_info": {
   "file_extension": ".jl",
   "mimetype": "application/julia",
   "name": "julia",
   "version": "0.4.6"
  }
 },
 "nbformat": 4,
 "nbformat_minor": 0
}
